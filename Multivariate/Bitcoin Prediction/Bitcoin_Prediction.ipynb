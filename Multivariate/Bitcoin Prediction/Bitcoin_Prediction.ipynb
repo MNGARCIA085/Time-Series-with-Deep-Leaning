{
 "cells": [
  {
   "cell_type": "markdown",
   "id": "796ce397",
   "metadata": {},
   "source": [
    "# <center> <b> <font color='blue'> BITCOIN PREDICTION </center> </b> </font>"
   ]
  },
  {
   "cell_type": "markdown",
   "id": "1058d83c",
   "metadata": {},
   "source": [
    "## <font color='#1f618d'> Table of Contents </font>\n",
    "\n",
    "1. [Introduction](#1)\n",
    "2. [Setup](#2)\n",
    "3. [Helper Functions](#3)\n",
    "4. [Making a multivariate time series](#4)\n",
    "5. [Pre-processing](#5)\n",
    "6. [Models](#6) <br>\n",
    "    6.1. [Dense Model](#6.1)<br>\n",
    "    6.2. [LSTM](#6.2)<br>\n",
    "7. [References](#References)"
   ]
  },
  {
   "cell_type": "markdown",
   "id": "88e2c1d3",
   "metadata": {},
   "source": [
    "<a name=\"1\"></a>\n",
    "## <font color='#1f618d'> <b> 1. Introduction </font> </b>\n",
    "\n",
    "\n",
    "If predicting the price of Bitcoin using only the price of Bitcoin hasn't worked out very well, maybe giving our model more information may help.\n",
    "\n",
    "\n",
    "This will be different for almost every time series you work on but in our case, we could try to see if the [Bitcoin block reward size](https://www.investopedia.com/terms/b/block-reward.asp) adds any predictive power to our model(s).\n",
    "\n",
    "What is the Bitcoin block reward size?\n",
    "\n",
    "The Bitcoin block reward size is the number of Bitcoin someone receives from mining a Bitcoin block.\n",
    "\n",
    "At its inception, the Bitcoin block reward size was 50.\n",
    "\n",
    "But every four years or so, the Bitcoin block reward halves.\n",
    "\n",
    "For example, the block reward size went from 50 (starting January 2009) to 25 on November 28 2012.\n",
    "\n",
    "Let's encode this information into our time series data and see if it helps a model's performance.\n",
    "\n",
    "> 🔑 **Note:** Adding an extra feature to our dataset such as the Bitcoin block reward size will take our data from **univariate** (only the historical price of Bitcoin) to **multivariate** (the price of Bitcoin as well as the block reward size)."
   ]
  },
  {
   "cell_type": "markdown",
   "id": "ed86bc6a",
   "metadata": {},
   "source": [
    "<a name=\"2\"></a>\n",
    "## <font color='#1f618d'> <b> 2. Setup </font> </b>"
   ]
  },
  {
   "cell_type": "code",
   "execution_count": 2,
   "id": "85a80fd4",
   "metadata": {},
   "outputs": [],
   "source": [
    "import pandas as pd\n",
    "import numpy as np\n",
    "import tensorflow as tf\n",
    "from tensorflow.keras import layers\n",
    "import matplotlib.pyplot as plt\n",
    "from sklearn.preprocessing import minmax_scale"
   ]
  },
  {
   "cell_type": "code",
   "execution_count": 87,
   "id": "005101a9",
   "metadata": {},
   "outputs": [],
   "source": [
    "# Set global print options to display 2 decimal places\n",
    "np.set_printoptions(precision=2, suppress=True)"
   ]
  },
  {
   "cell_type": "markdown",
   "id": "0e9364db",
   "metadata": {},
   "source": [
    "<a name=\"3\"></a>\n",
    "## <font color='#1f618d'> <b> 3. Helper Functions </font> </b>"
   ]
  },
  {
   "cell_type": "markdown",
   "id": "cf7c3831",
   "metadata": {},
   "source": [
    "### Plots"
   ]
  },
  {
   "cell_type": "code",
   "execution_count": 54,
   "id": "89b17e90",
   "metadata": {},
   "outputs": [],
   "source": [
    "# Plot the block reward/price over time\n",
    "# Note: Because of the different scales of our values we'll scale them to be between 0 and 1.\n",
    "def plot_time_series(df):\n",
    "    \"\"\"\n",
    "    args: df with price and block_reward\n",
    "    \"\"\"\n",
    "    scaled_df = pd.DataFrame(minmax_scale(df[[\"Price\", \"block_reward\"]]), # we need to scale the data first\n",
    "                                     columns=df.columns,\n",
    "                                     index=df.index)\n",
    "    scaled_df.plot(figsize=(8, 5));\n",
    "    \n",
    "\n",
    "    \n",
    "    \n",
    "# plot history\n",
    "def plot_history(history):\n",
    "\n",
    "    # Create subplots\n",
    "    fig, (ax1, ax2) = plt.subplots(1, 2, figsize=(12, 5))\n",
    "\n",
    "    # Plot MAE\n",
    "    ax1.plot(history.history['mae'], label='Train MAE')\n",
    "    ax1.plot(history.history['val_mae'], label='Validation MAE')\n",
    "    ax1.set_title('Mean Absolute Error (MAE)')\n",
    "    ax1.set_xlabel('Epoch')\n",
    "    ax1.set_ylabel('MAE')\n",
    "    ax1.legend()\n",
    "\n",
    "    # Plot MSE\n",
    "    ax2.plot(history.history['mse'], label='Train MSE')\n",
    "    ax2.plot(history.history['val_mse'], label='Validation MSE')\n",
    "    ax2.set_title('Mean Squared Error (MSE)')\n",
    "    ax2.set_xlabel('Epoch')\n",
    "    ax2.set_ylabel('MSE')\n",
    "    ax2.legend()\n",
    "\n",
    "    # Display plots\n",
    "    plt.tight_layout()\n",
    "    plt.show()\n"
   ]
  },
  {
   "cell_type": "markdown",
   "id": "99003089",
   "metadata": {},
   "source": [
    "### Train/Test split"
   ]
  },
  {
   "cell_type": "code",
   "execution_count": 4,
   "id": "7eb79ba9",
   "metadata": {},
   "outputs": [],
   "source": [
    "def train_test_split(data, split_size=0.8):\n",
    "    \"\"\"\n",
    "    Splits time series data into training and testing sets based on a specified split ratio,\n",
    "    preserving the temporal order of the data.\n",
    "\n",
    "    Parameters\n",
    "    ----------\n",
    "    data : pandas.DataFrame or pandas.Series\n",
    "        The time series data with a timestamp index to be split.\n",
    "    split_size : float, optional\n",
    "        The proportion of data to use for the training set. Default is 0.8 (80% train, 20% test).\n",
    "\n",
    "    Returns\n",
    "    -------\n",
    "    tuple\n",
    "        A tuple containing:\n",
    "        - train_data (numpy.ndarray): The training set values.\n",
    "        - test_data (numpy.ndarray): The testing set values.\n",
    "        - train_timestamps (pandas.Index): Timestamps corresponding to the training set.\n",
    "        - test_timestamps (pandas.Index): Timestamps corresponding to the testing set.\n",
    "\n",
    "    Examples\n",
    "    --------\n",
    "    >>> import pandas as pd\n",
    "    >>> import numpy as np\n",
    "    >>> index = pd.date_range(start=\"2022-01-01\", periods=10, freq=\"D\")\n",
    "    >>> data = pd.Series(np.random.rand(10), index=index)\n",
    "    >>> train_data, test_data, train_timestamps, test_timestamps = train_test_split(data, split_size=0.7)\n",
    "    \"\"\"\n",
    "    # Determine the split point based on the test size\n",
    "    split_point = int(len(data) * split_size)\n",
    "\n",
    "    # Split the data into training and testing sets, preserving time order\n",
    "    train_data = data[:split_point].values\n",
    "    test_data = data[split_point:].values\n",
    "\n",
    "    # Extract the timestamps for training and testing sets\n",
    "    train_time = data.index[:split_point]\n",
    "    test_time = data.index[split_point:]\n",
    "    \n",
    "    return train_data, test_data, train_time, test_time\n"
   ]
  },
  {
   "cell_type": "markdown",
   "id": "c8bbfd6c",
   "metadata": {},
   "source": [
    "### Windowing"
   ]
  },
  {
   "cell_type": "code",
   "execution_count": 5,
   "id": "ccf18e45",
   "metadata": {},
   "outputs": [],
   "source": [
    "def windowed_dataset(data, window_size, batch_size, shuffle_buffer, shuffle=True):\n",
    "    dataset = tf.data.Dataset.from_tensor_slices(data)\n",
    "    \n",
    "    # Create sliding windows of size window_size + 1 (for the label)\n",
    "    dataset = dataset.window(window_size + 1, shift=1, drop_remainder=True)\n",
    "    \n",
    "    # Flatten the dataset and create feature/label pairs\n",
    "    dataset = dataset.flat_map(lambda window: window.batch(window_size + 1))\n",
    "    \n",
    "    # Features: previous 5 values of both T and h (columns 0 and 1 respectively)\n",
    "    # Target: next temperature value (T at t+1, column 0 of the last row in the window)\n",
    "    dataset = dataset.map(lambda window: (window[:-1, :], window[-1, 0]))  \n",
    "            # 'window[:-1, :]' gets 5 values of T and the others features, 'window[-1, 0]' gets T(t+1)\n",
    "    \n",
    "    # Shuffle, batch, and prefetch\n",
    "    if shuffle:\n",
    "        dataset = dataset.shuffle(shuffle_buffer)\n",
    "    \n",
    "    dataset = dataset.batch(batch_size).prefetch(1)\n",
    "    \n",
    "    return dataset\n"
   ]
  },
  {
   "cell_type": "markdown",
   "id": "b1fcf31c",
   "metadata": {},
   "source": [
    "### Predictions"
   ]
  },
  {
   "cell_type": "code",
   "execution_count": 79,
   "id": "aacfe7e6",
   "metadata": {},
   "outputs": [],
   "source": [
    "def forecast(model, initial_window, num_predictions, verbose=False):\n",
    "    \"\"\"\n",
    "    Function to forecast predictions on a multivariate time series dataset, \n",
    "    where the first feature moves and the second feature remains fixed.\n",
    "\n",
    "    Parameters:\n",
    "    - model: Trained model used for forecasting.\n",
    "    - initial_window: The initial input window (multivariate time series).\n",
    "    - num_predictions: The number of steps to predict.\n",
    "    - verbose: If True, prints additional information during predictions.\n",
    "\n",
    "    Returns:\n",
    "    - np.array: Array of predicted values for the forecasted steps.\n",
    "    \"\"\"\n",
    "    \n",
    "    predictions = []\n",
    "    current_window = initial_window.copy()  # Start with the initial window\n",
    "\n",
    "    # Make predictions until the desired number is reached\n",
    "    while len(predictions) < num_predictions:\n",
    "        \n",
    "        # Make a prediction for one step ahead\n",
    "        pred = model.predict(current_window[np.newaxis], verbose=0)\n",
    "        pred_step = pred[0][0]  # Extract the predicted step (first feature)\n",
    "\n",
    "        # Log predictions if verbose is True\n",
    "        if verbose:\n",
    "            print(f\"Predicting on: \\n {current_window} -> Prediction: {pred_step}\\n\")\n",
    "\n",
    "        # Add the prediction to the list\n",
    "        predictions.append(pred_step)\n",
    "\n",
    "        # Update the window: shift the first feature and keep the second feature fixed\n",
    "        current_window = np.roll(current_window, -1, axis=0)  # Shift rows to the left\n",
    "        current_window[-1, 0] = pred_step  # Insert the new prediction in the first feature column\n",
    "\n",
    "        # The second feature (index 1) stays fixed, no need to change it\n",
    "\n",
    "    return np.array(predictions[:num_predictions])  # Return exactly num_predictions values\n"
   ]
  },
  {
   "cell_type": "markdown",
   "id": "da093763",
   "metadata": {},
   "source": [
    "### Evaluation"
   ]
  },
  {
   "cell_type": "code",
   "execution_count": 7,
   "id": "1ce6904a",
   "metadata": {},
   "outputs": [],
   "source": [
    "# single horizon\n",
    "def evaluate_preds(y_true, y_pred):\n",
    "    # Make sure float32 (for metric calculations)\n",
    "    y_true = tf.cast(y_true, dtype=tf.float32)\n",
    "    y_pred = tf.cast(y_pred, dtype=tf.float32)\n",
    "\n",
    "    # Calculate various metrics\n",
    "    mae = tf.keras.metrics.mean_absolute_error(y_true, y_pred)\n",
    "    mse = tf.keras.metrics.mean_squared_error(y_true, y_pred) # puts and emphasis on outliers (all errors get squared)\n",
    "    rmse = tf.sqrt(mse)\n",
    "    mape = tf.keras.metrics.mean_absolute_percentage_error(y_true, y_pred)\n",
    "\n",
    "\n",
    "    return {\"mae\": mae.numpy(),\n",
    "          \"mse\": mse.numpy(),\n",
    "          \"rmse\": rmse.numpy(),\n",
    "          \"mape\": mape.numpy()}"
   ]
  },
  {
   "cell_type": "markdown",
   "id": "64b93271",
   "metadata": {},
   "source": [
    "<a name=\"4\"></a>\n",
    "## <font color='#1f618d'> <b> 4. Making a multivariate time series </font> </b>"
   ]
  },
  {
   "cell_type": "code",
   "execution_count": 8,
   "id": "7e2818df",
   "metadata": {},
   "outputs": [],
   "source": [
    "# Download Bitcoin historical data from GitHub \n",
    "# Note: you'll need to select \"Raw\" to download the data in the correct format\n",
    "#!wget https://raw.githubusercontent.com/mrdbourke/tensorflow-deep-learning/main/extras/BTC_USD_2013-10-01_2021-05-18-CoinDesk.csv "
   ]
  },
  {
   "cell_type": "code",
   "execution_count": 9,
   "id": "97923c48",
   "metadata": {},
   "outputs": [
    {
     "data": {
      "text/html": [
       "<div>\n",
       "<style scoped>\n",
       "    .dataframe tbody tr th:only-of-type {\n",
       "        vertical-align: middle;\n",
       "    }\n",
       "\n",
       "    .dataframe tbody tr th {\n",
       "        vertical-align: top;\n",
       "    }\n",
       "\n",
       "    .dataframe thead th {\n",
       "        text-align: right;\n",
       "    }\n",
       "</style>\n",
       "<table border=\"1\" class=\"dataframe\">\n",
       "  <thead>\n",
       "    <tr style=\"text-align: right;\">\n",
       "      <th></th>\n",
       "      <th>Currency</th>\n",
       "      <th>Closing Price (USD)</th>\n",
       "      <th>24h Open (USD)</th>\n",
       "      <th>24h High (USD)</th>\n",
       "      <th>24h Low (USD)</th>\n",
       "    </tr>\n",
       "    <tr>\n",
       "      <th>Date</th>\n",
       "      <th></th>\n",
       "      <th></th>\n",
       "      <th></th>\n",
       "      <th></th>\n",
       "      <th></th>\n",
       "    </tr>\n",
       "  </thead>\n",
       "  <tbody>\n",
       "    <tr>\n",
       "      <th>2013-10-01</th>\n",
       "      <td>BTC</td>\n",
       "      <td>123.65499</td>\n",
       "      <td>124.30466</td>\n",
       "      <td>124.75166</td>\n",
       "      <td>122.56349</td>\n",
       "    </tr>\n",
       "    <tr>\n",
       "      <th>2013-10-02</th>\n",
       "      <td>BTC</td>\n",
       "      <td>125.45500</td>\n",
       "      <td>123.65499</td>\n",
       "      <td>125.75850</td>\n",
       "      <td>123.63383</td>\n",
       "    </tr>\n",
       "    <tr>\n",
       "      <th>2013-10-03</th>\n",
       "      <td>BTC</td>\n",
       "      <td>108.58483</td>\n",
       "      <td>125.45500</td>\n",
       "      <td>125.66566</td>\n",
       "      <td>83.32833</td>\n",
       "    </tr>\n",
       "    <tr>\n",
       "      <th>2013-10-04</th>\n",
       "      <td>BTC</td>\n",
       "      <td>118.67466</td>\n",
       "      <td>108.58483</td>\n",
       "      <td>118.67500</td>\n",
       "      <td>107.05816</td>\n",
       "    </tr>\n",
       "    <tr>\n",
       "      <th>2013-10-05</th>\n",
       "      <td>BTC</td>\n",
       "      <td>121.33866</td>\n",
       "      <td>118.67466</td>\n",
       "      <td>121.93633</td>\n",
       "      <td>118.00566</td>\n",
       "    </tr>\n",
       "  </tbody>\n",
       "</table>\n",
       "</div>"
      ],
      "text/plain": [
       "           Currency  Closing Price (USD)  24h Open (USD)  24h High (USD)  \\\n",
       "Date                                                                       \n",
       "2013-10-01      BTC            123.65499       124.30466       124.75166   \n",
       "2013-10-02      BTC            125.45500       123.65499       125.75850   \n",
       "2013-10-03      BTC            108.58483       125.45500       125.66566   \n",
       "2013-10-04      BTC            118.67466       108.58483       118.67500   \n",
       "2013-10-05      BTC            121.33866       118.67466       121.93633   \n",
       "\n",
       "            24h Low (USD)  \n",
       "Date                       \n",
       "2013-10-01      122.56349  \n",
       "2013-10-02      123.63383  \n",
       "2013-10-03       83.32833  \n",
       "2013-10-04      107.05816  \n",
       "2013-10-05      118.00566  "
      ]
     },
     "execution_count": 9,
     "metadata": {},
     "output_type": "execute_result"
    }
   ],
   "source": [
    "# Parse dates and set date column to index\n",
    "df = pd.read_csv(\"BTC_USD_2013-10-01_2021-05-18-CoinDesk.csv\", \n",
    "                 parse_dates=[\"Date\"], \n",
    "                 index_col=[\"Date\"]) # parse the date column (tell pandas column 1 is a datetime)\n",
    "df.head()"
   ]
  },
  {
   "cell_type": "code",
   "execution_count": 10,
   "id": "c3398ad1",
   "metadata": {},
   "outputs": [
    {
     "data": {
      "text/html": [
       "<div>\n",
       "<style scoped>\n",
       "    .dataframe tbody tr th:only-of-type {\n",
       "        vertical-align: middle;\n",
       "    }\n",
       "\n",
       "    .dataframe tbody tr th {\n",
       "        vertical-align: top;\n",
       "    }\n",
       "\n",
       "    .dataframe thead th {\n",
       "        text-align: right;\n",
       "    }\n",
       "</style>\n",
       "<table border=\"1\" class=\"dataframe\">\n",
       "  <thead>\n",
       "    <tr style=\"text-align: right;\">\n",
       "      <th></th>\n",
       "      <th>Price</th>\n",
       "    </tr>\n",
       "    <tr>\n",
       "      <th>Date</th>\n",
       "      <th></th>\n",
       "    </tr>\n",
       "  </thead>\n",
       "  <tbody>\n",
       "    <tr>\n",
       "      <th>2013-10-01</th>\n",
       "      <td>123.65499</td>\n",
       "    </tr>\n",
       "    <tr>\n",
       "      <th>2013-10-02</th>\n",
       "      <td>125.45500</td>\n",
       "    </tr>\n",
       "    <tr>\n",
       "      <th>2013-10-03</th>\n",
       "      <td>108.58483</td>\n",
       "    </tr>\n",
       "    <tr>\n",
       "      <th>2013-10-04</th>\n",
       "      <td>118.67466</td>\n",
       "    </tr>\n",
       "    <tr>\n",
       "      <th>2013-10-05</th>\n",
       "      <td>121.33866</td>\n",
       "    </tr>\n",
       "  </tbody>\n",
       "</table>\n",
       "</div>"
      ],
      "text/plain": [
       "                Price\n",
       "Date                 \n",
       "2013-10-01  123.65499\n",
       "2013-10-02  125.45500\n",
       "2013-10-03  108.58483\n",
       "2013-10-04  118.67466\n",
       "2013-10-05  121.33866"
      ]
     },
     "execution_count": 10,
     "metadata": {},
     "output_type": "execute_result"
    }
   ],
   "source": [
    "# Only want closing price for each day \n",
    "bitcoin_prices = pd.DataFrame(df[\"Closing Price (USD)\"]).rename(columns={\"Closing Price (USD)\": \"Price\"})\n",
    "bitcoin_prices.head()"
   ]
  },
  {
   "cell_type": "markdown",
   "id": "3560826b",
   "metadata": {},
   "source": [
    "Time to add another feature column, the block reward size.\n",
    "\n",
    "First, we'll need to create variables for the different block reward sizes as well as the dates they came into play.\n",
    "\n",
    "The following block rewards and dates were sourced from [cmcmarkets.com](https://www.cmcmarkets.com/en/learn-cryptocurrencies/bitcoin-halving).\n",
    "\n",
    "| Block Reward | Start Date |\n",
    "| ----- | ----- |\n",
    "| 50 | 3 January 2009 (2009-01-03) |\n",
    "| 25 | 28 November 2012 |\n",
    "| 12.5 | 9 July 2016 |\n",
    "| 6.25 | 11 May 2020 |\n",
    "| 3.125 | TBA (expected 2024) |\n",
    "| 1.5625 | TBA (expected 2028) | \n",
    "\n",
    "> 🔑 **Note:** Since our Bitcoin historical data starts from 01 October 2013, none of the timesteps in our multivariate time series will have a block reward of 50."
   ]
  },
  {
   "cell_type": "code",
   "execution_count": 11,
   "id": "d1d14dbf",
   "metadata": {},
   "outputs": [],
   "source": [
    "# Block reward values\n",
    "block_reward_1 = 50 # 3 January 2009 (2009-01-03) - this block reward isn't in our dataset (it starts from 01 October 2013)\n",
    "block_reward_2 = 25 # 28 November 2012 \n",
    "block_reward_3 = 12.5 # 9 July 2016\n",
    "block_reward_4 = 6.25 # 11 May 2020\n",
    "\n",
    "# Block reward dates (datetime form of the above date stamps)\n",
    "block_reward_2_datetime = np.datetime64(\"2012-11-28\")\n",
    "block_reward_3_datetime = np.datetime64(\"2016-07-09\")\n",
    "block_reward_4_datetime = np.datetime64(\"2020-05-11\")"
   ]
  },
  {
   "cell_type": "markdown",
   "id": "e64648d3",
   "metadata": {},
   "source": [
    "We're going to obtain the days (indexes) for different block reward values.\n",
    "\n",
    "This is important because if we're using multiple variables for our time series, they need to have the same frequency as our original variable. For example, if our Bitcoin prices are daily, we need the block reward values to be daily as well.\n",
    "\n",
    "🔑 Note: When using multiple variables, make sure they have the same frequency as each other. If your variables aren't at the same frequency (e.g., Bitcoin prices are daily, but block rewards are weekly), you may need to transform them so they can be used with your model."
   ]
  },
  {
   "cell_type": "code",
   "execution_count": 12,
   "id": "cfd59a74",
   "metadata": {},
   "outputs": [
    {
     "data": {
      "text/plain": [
       "(1012, 2414)"
      ]
     },
     "execution_count": 12,
     "metadata": {},
     "output_type": "execute_result"
    }
   ],
   "source": [
    "# Get date indexes for when to add in different block dates\n",
    "block_reward_2_days = (block_reward_3_datetime - bitcoin_prices.index[0]).days\n",
    "block_reward_3_days = (block_reward_4_datetime - bitcoin_prices.index[0]).days\n",
    "block_reward_2_days, block_reward_3_days"
   ]
  },
  {
   "cell_type": "markdown",
   "id": "258d9c67",
   "metadata": {},
   "source": [
    "Now we can add another feature to our dataset `block_reward` (this gets lower over time so it may lead to increasing prices of Bitcoin)."
   ]
  },
  {
   "cell_type": "code",
   "execution_count": 13,
   "id": "c4629903",
   "metadata": {},
   "outputs": [],
   "source": [
    "# Add block_reward column\n",
    "bitcoin_prices_block = bitcoin_prices.copy()\n",
    "bitcoin_prices_block[\"block_reward\"] = None\n",
    "\n",
    "# Set values of block_reward column (it's the last column hence -1 indexing on iloc)\n",
    "bitcoin_prices_block.iloc[:block_reward_2_days, -1] = block_reward_2\n",
    "bitcoin_prices_block.iloc[block_reward_2_days:block_reward_3_days, -1] = block_reward_3\n",
    "bitcoin_prices_block.iloc[block_reward_3_days:, -1] = block_reward_4"
   ]
  },
  {
   "cell_type": "code",
   "execution_count": 14,
   "id": "ea130d7b",
   "metadata": {},
   "outputs": [
    {
     "data": {
      "text/html": [
       "<div>\n",
       "<style scoped>\n",
       "    .dataframe tbody tr th:only-of-type {\n",
       "        vertical-align: middle;\n",
       "    }\n",
       "\n",
       "    .dataframe tbody tr th {\n",
       "        vertical-align: top;\n",
       "    }\n",
       "\n",
       "    .dataframe thead th {\n",
       "        text-align: right;\n",
       "    }\n",
       "</style>\n",
       "<table border=\"1\" class=\"dataframe\">\n",
       "  <thead>\n",
       "    <tr style=\"text-align: right;\">\n",
       "      <th></th>\n",
       "      <th>Price</th>\n",
       "      <th>block_reward</th>\n",
       "    </tr>\n",
       "    <tr>\n",
       "      <th>Date</th>\n",
       "      <th></th>\n",
       "      <th></th>\n",
       "    </tr>\n",
       "  </thead>\n",
       "  <tbody>\n",
       "    <tr>\n",
       "      <th>2013-10-01</th>\n",
       "      <td>123.65499</td>\n",
       "      <td>25</td>\n",
       "    </tr>\n",
       "    <tr>\n",
       "      <th>2013-10-02</th>\n",
       "      <td>125.45500</td>\n",
       "      <td>25</td>\n",
       "    </tr>\n",
       "    <tr>\n",
       "      <th>2013-10-03</th>\n",
       "      <td>108.58483</td>\n",
       "      <td>25</td>\n",
       "    </tr>\n",
       "    <tr>\n",
       "      <th>2013-10-04</th>\n",
       "      <td>118.67466</td>\n",
       "      <td>25</td>\n",
       "    </tr>\n",
       "    <tr>\n",
       "      <th>2013-10-05</th>\n",
       "      <td>121.33866</td>\n",
       "      <td>25</td>\n",
       "    </tr>\n",
       "  </tbody>\n",
       "</table>\n",
       "</div>"
      ],
      "text/plain": [
       "                Price block_reward\n",
       "Date                              \n",
       "2013-10-01  123.65499           25\n",
       "2013-10-02  125.45500           25\n",
       "2013-10-03  108.58483           25\n",
       "2013-10-04  118.67466           25\n",
       "2013-10-05  121.33866           25"
      ]
     },
     "execution_count": 14,
     "metadata": {},
     "output_type": "execute_result"
    }
   ],
   "source": [
    "bitcoin_prices_block.head()"
   ]
  },
  {
   "cell_type": "code",
   "execution_count": 15,
   "id": "16ff03a3",
   "metadata": {},
   "outputs": [
    {
     "data": {
      "text/html": [
       "<div>\n",
       "<style scoped>\n",
       "    .dataframe tbody tr th:only-of-type {\n",
       "        vertical-align: middle;\n",
       "    }\n",
       "\n",
       "    .dataframe tbody tr th {\n",
       "        vertical-align: top;\n",
       "    }\n",
       "\n",
       "    .dataframe thead th {\n",
       "        text-align: right;\n",
       "    }\n",
       "</style>\n",
       "<table border=\"1\" class=\"dataframe\">\n",
       "  <thead>\n",
       "    <tr style=\"text-align: right;\">\n",
       "      <th></th>\n",
       "      <th>Price</th>\n",
       "      <th>block_reward</th>\n",
       "    </tr>\n",
       "    <tr>\n",
       "      <th>Date</th>\n",
       "      <th></th>\n",
       "      <th></th>\n",
       "    </tr>\n",
       "  </thead>\n",
       "  <tbody>\n",
       "    <tr>\n",
       "      <th>2021-05-14</th>\n",
       "      <td>49764.132082</td>\n",
       "      <td>6.25</td>\n",
       "    </tr>\n",
       "    <tr>\n",
       "      <th>2021-05-15</th>\n",
       "      <td>50032.693137</td>\n",
       "      <td>6.25</td>\n",
       "    </tr>\n",
       "    <tr>\n",
       "      <th>2021-05-16</th>\n",
       "      <td>47885.625255</td>\n",
       "      <td>6.25</td>\n",
       "    </tr>\n",
       "    <tr>\n",
       "      <th>2021-05-17</th>\n",
       "      <td>45604.615754</td>\n",
       "      <td>6.25</td>\n",
       "    </tr>\n",
       "    <tr>\n",
       "      <th>2021-05-18</th>\n",
       "      <td>43144.471291</td>\n",
       "      <td>6.25</td>\n",
       "    </tr>\n",
       "  </tbody>\n",
       "</table>\n",
       "</div>"
      ],
      "text/plain": [
       "                   Price block_reward\n",
       "Date                                 \n",
       "2021-05-14  49764.132082         6.25\n",
       "2021-05-15  50032.693137         6.25\n",
       "2021-05-16  47885.625255         6.25\n",
       "2021-05-17  45604.615754         6.25\n",
       "2021-05-18  43144.471291         6.25"
      ]
     },
     "execution_count": 15,
     "metadata": {},
     "output_type": "execute_result"
    }
   ],
   "source": [
    "bitcoin_prices_block.tail()"
   ]
  },
  {
   "cell_type": "code",
   "execution_count": 16,
   "id": "a3d665ff",
   "metadata": {},
   "outputs": [
    {
     "data": {
      "image/png": "[encoded data removed]",
      "text/plain": [
       "<Figure size 800x500 with 1 Axes>"
      ]
     },
     "metadata": {},
     "output_type": "display_data"
    }
   ],
   "source": [
    "plot_time_series(bitcoin_prices_block)"
   ]
  },
  {
   "cell_type": "markdown",
   "id": "2f7308ee",
   "metadata": {},
   "source": [
    "<a name=\"5\"></a>\n",
    "## <font color='#1f618d'> <b> 5. Pre-processing </font> </b>"
   ]
  },
  {
   "cell_type": "code",
   "execution_count": 17,
   "id": "f89e07ae",
   "metadata": {},
   "outputs": [],
   "source": [
    "# Setup dataset hyperparameters\n",
    "HORIZON = 1\n",
    "WINDOW_SIZE = 7"
   ]
  },
  {
   "cell_type": "markdown",
   "id": "04478ded",
   "metadata": {},
   "source": [
    "#### Train/Test Split"
   ]
  },
  {
   "cell_type": "code",
   "execution_count": 18,
   "id": "3fbc9b3a",
   "metadata": {},
   "outputs": [
    {
     "data": {
      "text/plain": [
       "(2229, 558, 2229, 558)"
      ]
     },
     "execution_count": 18,
     "metadata": {},
     "output_type": "execute_result"
    }
   ],
   "source": [
    "train_data, val_data, train_time, test_time = train_test_split(bitcoin_prices_block, 0.8)\n",
    "len(train_data), len(val_data), len(train_time), len(test_time)"
   ]
  },
  {
   "cell_type": "code",
   "execution_count": 19,
   "id": "10b021f2",
   "metadata": {},
   "outputs": [
    {
     "data": {
      "text/plain": [
       "array([[123.65499, 25],\n",
       "       [125.455, 25],\n",
       "       [108.58483, 25]], dtype=object)"
      ]
     },
     "execution_count": 19,
     "metadata": {},
     "output_type": "execute_result"
    }
   ],
   "source": [
    "train_data[:3]"
   ]
  },
  {
   "cell_type": "code",
   "execution_count": 20,
   "id": "f7dcdd1c",
   "metadata": {},
   "outputs": [
    {
     "data": {
      "text/plain": [
       "DatetimeIndex(['2013-10-01', '2013-10-02', '2013-10-03'], dtype='datetime64[ns]', name='Date', freq=None)"
      ]
     },
     "execution_count": 20,
     "metadata": {},
     "output_type": "execute_result"
    }
   ],
   "source": [
    "train_time[:3]"
   ]
  },
  {
   "cell_type": "markdown",
   "id": "f84147fa",
   "metadata": {},
   "source": [
    "#### Windowing\n",
    "\n",
    "Let's test our windowing function with a window size of 2 and a batch_size=1 to see more clearly what it does."
   ]
  },
  {
   "cell_type": "code",
   "execution_count": 21,
   "id": "28259b34",
   "metadata": {},
   "outputs": [],
   "source": [
    "aux = windowed_dataset(train_data.astype(np.float32), 2, 1, 32, False)"
   ]
  },
  {
   "cell_type": "code",
   "execution_count": 22,
   "id": "435a8b1d",
   "metadata": {},
   "outputs": [
    {
     "data": {
      "text/plain": [
       "array([[123.65499, 25],\n",
       "       [125.455, 25],\n",
       "       [108.58483, 25],\n",
       "       [118.67466, 25],\n",
       "       [121.33866, 25]], dtype=object)"
      ]
     },
     "execution_count": 22,
     "metadata": {},
     "output_type": "execute_result"
    }
   ],
   "source": [
    "train_data[:5]"
   ]
  },
  {
   "cell_type": "code",
   "execution_count": 23,
   "id": "8ff3166a",
   "metadata": {},
   "outputs": [
    {
     "name": "stdout",
     "output_type": "stream",
     "text": [
      "X: [[[123.65499  25.     ]\n",
      "  [125.455    25.     ]]]\n",
      " y: [108.58483] \n",
      "\n",
      "\n",
      "X: [[[125.455    25.     ]\n",
      "  [108.58483  25.     ]]]\n",
      " y: [118.67466] \n",
      "\n",
      "\n",
      "X: [[[108.58483  25.     ]\n",
      "  [118.67466  25.     ]]]\n",
      " y: [121.33866] \n",
      "\n",
      "\n"
     ]
    }
   ],
   "source": [
    "for x,y in aux.take(3):\n",
    "    print(f\"X: {x}\\n y: {y} \\n\\n\")"
   ]
  },
  {
   "cell_type": "markdown",
   "id": "653d2803",
   "metadata": {},
   "source": [
    "Now, let's try with a \"more in the middle\" values to see if it's moving the block reward appropiately:"
   ]
  },
  {
   "cell_type": "code",
   "execution_count": 34,
   "id": "20367537",
   "metadata": {},
   "outputs": [
    {
     "data": {
      "text/plain": [
       "array([[671.814, 25],\n",
       "       [640.476, 25],\n",
       "       [654.85299, 12.5],\n",
       "       [649.356, 12.5],\n",
       "       [656.747, 12.5]], dtype=object)"
      ]
     },
     "execution_count": 34,
     "metadata": {},
     "output_type": "execute_result"
    }
   ],
   "source": [
    "train_data[1010:1015]"
   ]
  },
  {
   "cell_type": "code",
   "execution_count": 35,
   "id": "d7b0ca87",
   "metadata": {},
   "outputs": [
    {
     "name": "stdout",
     "output_type": "stream",
     "text": [
      "X: [[[671.814  25.   ]\n",
      "  [640.476  25.   ]]]\n",
      " y: [654.85297] \n",
      "\n",
      "\n",
      "X: [[[640.476    25.     ]\n",
      "  [654.85297  12.5    ]]]\n",
      " y: [649.356] \n",
      "\n",
      "\n",
      "X: [[[654.85297  12.5    ]\n",
      "  [649.356    12.5    ]]]\n",
      " y: [656.747] \n",
      "\n",
      "\n"
     ]
    }
   ],
   "source": [
    "subset = aux.skip(1010).take(3)\n",
    "for x,y in subset.take(3):\n",
    "    print(f\"X: {x}\\n y: {y} \\n\\n\")\n"
   ]
  },
  {
   "cell_type": "markdown",
   "id": "b2726dde",
   "metadata": {},
   "source": [
    "Finally let's apply this function to the train and validation sets with more appropiate values:"
   ]
  },
  {
   "cell_type": "code",
   "execution_count": 36,
   "id": "8138e1a0",
   "metadata": {},
   "outputs": [],
   "source": [
    "ds_train = windowed_dataset(train_data.astype(np.float32),WINDOW_SIZE, 32, 1000) \n",
    "ds_val = windowed_dataset(val_data.astype(np.float32), WINDOW_SIZE, 32, 1000, False)"
   ]
  },
  {
   "cell_type": "markdown",
   "id": "1bea2089",
   "metadata": {},
   "source": [
    "<a name=\"6\"></a>\n",
    "## <font color='#1f618d'> <b> 6. Models </font> </b>"
   ]
  },
  {
   "cell_type": "code",
   "execution_count": 37,
   "id": "80714ea8",
   "metadata": {},
   "outputs": [],
   "source": [
    "tf.random.set_seed(42)"
   ]
  },
  {
   "cell_type": "code",
   "execution_count": 38,
   "id": "99aba239",
   "metadata": {},
   "outputs": [
    {
     "data": {
      "text/plain": [
       "2"
      ]
     },
     "execution_count": 38,
     "metadata": {},
     "output_type": "execute_result"
    }
   ],
   "source": [
    "NUM_FEATURES = train_data.shape[1]\n",
    "NUM_FEATURES"
   ]
  },
  {
   "cell_type": "markdown",
   "id": "49e95856",
   "metadata": {},
   "source": [
    "<a name=\"6.1\"></a>\n",
    "### <font color='#2471a3'> <b> 6.1. Dense Model </font> </b>"
   ]
  },
  {
   "cell_type": "code",
   "execution_count": 42,
   "id": "35944f9b",
   "metadata": {},
   "outputs": [
    {
     "name": "stdout",
     "output_type": "stream",
     "text": [
      "Model: \"Dense_Model\"\n",
      "_________________________________________________________________\n",
      " Layer (type)                Output Shape              Param #   \n",
      "=================================================================\n",
      " dense_6 (Dense)             (None, 7, 128)            384       \n",
      "                                                                 \n",
      " dense_7 (Dense)             (None, 7, 64)             8256      \n",
      "                                                                 \n",
      " flatten_2 (Flatten)         (None, 448)               0         \n",
      "                                                                 \n",
      " dense_8 (Dense)             (None, 1)                 449       \n",
      "                                                                 \n",
      "=================================================================\n",
      "Total params: 9089 (35.50 KB)\n",
      "Trainable params: 9089 (35.50 KB)\n",
      "Non-trainable params: 0 (0.00 Byte)\n",
      "_________________________________________________________________\n"
     ]
    }
   ],
   "source": [
    "def build_compile_model_1(name, window_size=WINDOW_SIZE, horizon=HORIZON, num_features=NUM_FEATURES):\n",
    "    model = tf.keras.models.Sequential([\n",
    "        tf.keras.layers.Dense(128, activation='relu', input_shape=(window_size, num_features)),  \n",
    "                    # input_shape should match your features\n",
    "        tf.keras.layers.Dense(64, activation='relu'),\n",
    "        tf.keras.layers.Flatten(),\n",
    "        tf.keras.layers.Dense(horizon)\n",
    "    ], name=name)\n",
    "    \n",
    "    model.compile(\n",
    "            loss='mse',\n",
    "            optimizer=tf.keras.optimizers.Adam(),\n",
    "            metrics=['mae','mse']\n",
    "    )\n",
    "    \n",
    "    return model\n",
    "\n",
    "\n",
    "model_1 = build_compile_model_1('Dense_Model')\n",
    "model_1.summary()"
   ]
  },
  {
   "cell_type": "code",
   "execution_count": 43,
   "id": "122ad996",
   "metadata": {},
   "outputs": [],
   "source": [
    "# fit\n",
    "history_1 = model_1.fit(\n",
    "    ds_train, \n",
    "    epochs=50, \n",
    "    verbose=0,\n",
    "    validation_data=ds_val)"
   ]
  },
  {
   "cell_type": "code",
   "execution_count": 55,
   "id": "5cf63cf9",
   "metadata": {},
   "outputs": [
    {
     "data": {
      "image/png": "[encoded data removed]",
      "text/plain": [
       "<Figure size 1200x500 with 2 Axes>"
      ]
     },
     "metadata": {},
     "output_type": "display_data"
    }
   ],
   "source": [
    "plot_history(history_1)"
   ]
  },
  {
   "cell_type": "code",
   "execution_count": 56,
   "id": "347c4a8b",
   "metadata": {},
   "outputs": [
    {
     "name": "stdout",
     "output_type": "stream",
     "text": [
      "18/18 [==============================] - 0s 3ms/step - loss: 1232475.1250 - mae: 589.6697 - mse: 1232475.1250\n"
     ]
    },
    {
     "data": {
      "text/plain": [
       "[1232475.125, 589.669677734375, 1232475.125]"
      ]
     },
     "execution_count": 56,
     "metadata": {},
     "output_type": "execute_result"
    }
   ],
   "source": [
    "model_1.evaluate(ds_val)"
   ]
  },
  {
   "cell_type": "markdown",
   "id": "3964ad46",
   "metadata": {},
   "source": [
    "#### Making predictions"
   ]
  },
  {
   "cell_type": "code",
   "execution_count": 84,
   "id": "55a3c3bd",
   "metadata": {},
   "outputs": [
    {
     "data": {
      "text/plain": [
       "(array([[5.57e+04, 6.25e+00],\n",
       "        [5.66e+04, 6.25e+00],\n",
       "        [5.21e+04, 6.25e+00],\n",
       "        [4.98e+04, 6.25e+00],\n",
       "        [5.00e+04, 6.25e+00],\n",
       "        [4.79e+04, 6.25e+00],\n",
       "        [4.56e+04, 6.25e+00]], dtype=float32),\n",
       " (7, 2))"
      ]
     },
     "execution_count": 84,
     "metadata": {},
     "output_type": "execute_result"
    }
   ],
   "source": [
    "# first, let's choose an initial window\n",
    "for x, _ in ds_val.take(-1):\n",
    "    initial_window = x.numpy()[-1]\n",
    "\n",
    "initial_window, initial_window.shape"
   ]
  },
  {
   "cell_type": "code",
   "execution_count": 88,
   "id": "a1c69602",
   "metadata": {},
   "outputs": [
    {
     "name": "stdout",
     "output_type": "stream",
     "text": [
      "Predicting on: \n",
      " [[55715.55     6.25]\n",
      " [56573.55     6.25]\n",
      " [52147.82     6.25]\n",
      " [49764.13     6.25]\n",
      " [50032.69     6.25]\n",
      " [47885.62     6.25]\n",
      " [45604.62     6.25]] -> Prediction: 45966.03125\n",
      "\n",
      "Predicting on: \n",
      " [[56573.55     6.25]\n",
      " [52147.82     6.25]\n",
      " [49764.13     6.25]\n",
      " [50032.69     6.25]\n",
      " [47885.62     6.25]\n",
      " [45604.62     6.25]\n",
      " [45966.03     6.25]] -> Prediction: 45405.38671875\n",
      "\n",
      "Predicting on: \n",
      " [[52147.82     6.25]\n",
      " [49764.13     6.25]\n",
      " [50032.69     6.25]\n",
      " [47885.62     6.25]\n",
      " [45604.62     6.25]\n",
      " [45966.03     6.25]\n",
      " [45405.39     6.25]] -> Prediction: 45233.39453125\n",
      "\n"
     ]
    },
    {
     "data": {
      "text/plain": [
       "array([45966.03, 45405.39, 45233.39], dtype=float32)"
      ]
     },
     "execution_count": 88,
     "metadata": {},
     "output_type": "execute_result"
    }
   ],
   "source": [
    "forecast(model_1, initial_window, 3, verbose=True)"
   ]
  },
  {
   "cell_type": "markdown",
   "id": "895a13e9",
   "metadata": {},
   "source": [
    "We can see that it keeps the second value fixed (we only predict the bitcoin price)."
   ]
  },
  {
   "cell_type": "markdown",
   "id": "ef66287a",
   "metadata": {},
   "source": [
    "### Forecasting approach (updating one feature while keeping the other feature fixed)\n",
    "\n",
    "\n",
    "#### Key Points to Consider:\n",
    "\n",
    "#### 1. Model Dependency:\n",
    "\n",
    "- If your model is designed to predict based on all features (multivariate), then it typically expects that all features are updated in the forecast. However, you are fixing one of the features, which can be appropriate if your task explicitly requires this behavior (e.g., forecasting based on historical data of one feature while keeping another feature constant).\n",
    "- If the model is trained with both features moving together in the training data, and you want to predict only one feature (while holding the other constant), the approach makes sense, but the prediction accuracy may depend on how well the model generalizes when only one feature is updated.\n",
    "\n",
    "#### 2. Autoregressive Process:\n",
    "\n",
    "- The method you are using is a common approach in autoregressive models (e.g., ARIMA, LSTM). The idea is to iteratively forecast the next value based on previous predictions. By keeping the second feature fixed and only predicting the first one, you're essentially modeling a univariate time series prediction for the first feature, while using the second feature as a \"context\" or additional information.\n",
    "\n",
    "#### 3. Data Representation:\n",
    "\n",
    "- You are assuming that the time series data for both features is related, and this relationship might hold even if the second feature is fixed. If the second feature is truly static (e.g., a constant feature or a known parameter), this makes sense. However, if the second feature is dynamic and has some impact on the first feature (even if it's not explicitly used in the prediction), keeping it constant might limit the model’s ability to make accurate predictions.\n",
    "\n",
    "#### 4. Model Forecasting Behavior:\n",
    "\n",
    "- If the model was trained on both features (i.e., multivariate input) and you forecast only the first feature, you need to ensure that the model can handle this scenario effectively. In some cases, models like LSTM or GRU can still work reasonably well by conditioning on a fixed value for the second feature, but this may not be optimal if the relationship between the features is strong and dynamic.\n",
    "\n",
    "#### 5. Alternatives:\n",
    "\n",
    "- **Simultaneous Forecasting:** If the relationship between features is strong, you might want to forecast both features simultaneously (both features moving forward with the model predicting both at each time step). This approach would involve updating both features, not just the first one.\n",
    "\n",
    "- **Separate Forecasting:** If you want to predict the first feature but the second feature might still affect it in some way (e.g., the second feature has some known pattern), you could consider forecasting each feature separately or use a model that allows for partial dependencies.\n",
    "\n",
    "#### 6. Improving Your Approach:\n",
    "\n",
    "- **Include a \"Fixed\" Feature as a Condition:** If you're using a neural network, you can explicitly pass the second feature as part of the model's input, ensuring it can still \"see\" the second feature and use it in the predictions, even if you don’t update it during the forecast.\n",
    "\n",
    "- **Hybrid Models:** Another option is to use a hybrid model that forecasts the first feature and updates the second feature based on the context, if necessary.\n",
    "\n",
    "\n"
   ]
  },
  {
   "cell_type": "markdown",
   "id": "046c1b9e",
   "metadata": {},
   "source": [
    "<a name=\"6.2\"></a>\n",
    "### <font color='#2471a3'> <b> 6.2. LSTM </font> </b>"
   ]
  },
  {
   "cell_type": "markdown",
   "id": "1c775527",
   "metadata": {},
   "source": [
    "We are going to use a bigger window size in here."
   ]
  },
  {
   "cell_type": "code",
   "execution_count": 106,
   "id": "8eadb384",
   "metadata": {},
   "outputs": [],
   "source": [
    "HORIZON = 1\n",
    "WINDOW_SIZE = 20\n",
    "\n",
    "ds_train = windowed_dataset(train_data.astype(np.float32),WINDOW_SIZE, 32, 1000) \n",
    "ds_val = windowed_dataset(val_data.astype(np.float32), WINDOW_SIZE, 32, 1000, False)"
   ]
  },
  {
   "cell_type": "code",
   "execution_count": 119,
   "id": "4fb5da52",
   "metadata": {},
   "outputs": [
    {
     "name": "stdout",
     "output_type": "stream",
     "text": [
      "Model: \"LSTM\"\n",
      "_________________________________________________________________\n",
      " Layer (type)                Output Shape              Param #   \n",
      "=================================================================\n",
      " lstm_14 (LSTM)              (None, 20, 64)            17152     \n",
      "                                                                 \n",
      " lstm_15 (LSTM)              (None, 64)                33024     \n",
      "                                                                 \n",
      " dense_18 (Dense)            (None, 64)                4160      \n",
      "                                                                 \n",
      " dense_19 (Dense)            (None, 1)                 65        \n",
      "                                                                 \n",
      "=================================================================\n",
      "Total params: 54401 (212.50 KB)\n",
      "Trainable params: 54401 (212.50 KB)\n",
      "Non-trainable params: 0 (0.00 Byte)\n",
      "_________________________________________________________________\n"
     ]
    }
   ],
   "source": [
    "def build_compile_model_2(name, window_size=WINDOW_SIZE, horizon=HORIZON, num_features=NUM_FEATURES):\n",
    "    model = tf.keras.Sequential(name=name)\n",
    "\n",
    "    # LSTM Layer to handle time series input\n",
    "    model.add(tf.keras.layers.LSTM(64, return_sequences=True, input_shape=(window_size, num_features)))\n",
    "    model.add(tf.keras.layers.LSTM(64))\n",
    "\n",
    "    # Dense layers\n",
    "    model.add(tf.keras.layers.Dense(64))\n",
    "    model.add(tf.keras.layers.Dense(horizon))\n",
    "\n",
    "\n",
    "    # Compile the model\n",
    "    model.compile(loss='mse',\n",
    "                  optimizer='adam',\n",
    "                  metrics=['mae','mse'])\n",
    "\n",
    "    return model\n",
    "\n",
    "\n",
    "model_2 = build_compile_model_2('LSTM')\n",
    "model_2.summary()\n",
    "\n"
   ]
  },
  {
   "cell_type": "code",
   "execution_count": 120,
   "id": "6b248b97",
   "metadata": {},
   "outputs": [],
   "source": [
    "from tensorflow.keras.callbacks import EarlyStopping\n",
    "\n",
    "# Define early stopping\n",
    "early_stopping = EarlyStopping(\n",
    "    monitor='val_loss',           # Metric to monitor (could also use 'val_accuracy')\n",
    "    patience=10,                  # Number of epochs to wait for improvement\n",
    "    verbose=1,                    # Print a message when stopping\n",
    "    restore_best_weights=True     # Restore the best model weights when stopping\n",
    ")\n",
    "\n",
    "# fit\n",
    "history_2 = model_2.fit(\n",
    "    ds_train, \n",
    "    epochs=50, \n",
    "    verbose=0,\n",
    "    validation_data=ds_val,\n",
    "    callbacks=[early_stopping])"
   ]
  },
  {
   "cell_type": "code",
   "execution_count": 121,
   "id": "bae11321",
   "metadata": {},
   "outputs": [
    {
     "data": {
      "image/png": "[encoded data removed]",
      "text/plain": [
       "<Figure size 1200x500 with 2 Axes>"
      ]
     },
     "metadata": {},
     "output_type": "display_data"
    }
   ],
   "source": [
    "plot_history(history_2)"
   ]
  },
  {
   "cell_type": "code",
   "execution_count": 122,
   "id": "7d51f0eb",
   "metadata": {},
   "outputs": [
    {
     "name": "stdout",
     "output_type": "stream",
     "text": [
      "17/17 [==============================] - 0s 5ms/step - loss: 424466240.0000 - mae: 11582.2588 - mse: 424466240.0000\n"
     ]
    },
    {
     "data": {
      "text/plain": [
       "[424466240.0, 11582.2587890625, 424466240.0]"
      ]
     },
     "execution_count": 122,
     "metadata": {},
     "output_type": "execute_result"
    }
   ],
   "source": [
    "model_2.evaluate(ds_val)"
   ]
  },
  {
   "cell_type": "markdown",
   "id": "53048321",
   "metadata": {},
   "source": [
    "#### Predictions"
   ]
  },
  {
   "cell_type": "code",
   "execution_count": 125,
   "id": "38e7b37e",
   "metadata": {},
   "outputs": [
    {
     "data": {
      "text/plain": [
       "(20, 2)"
      ]
     },
     "execution_count": 125,
     "metadata": {},
     "output_type": "execute_result"
    }
   ],
   "source": [
    "# first, let's choose an initial window\n",
    "for x, _ in ds_val.take(-1):\n",
    "    initial_window = x.numpy()[-1]\n",
    "\n",
    "initial_window.shape"
   ]
  },
  {
   "cell_type": "code",
   "execution_count": 129,
   "id": "3650f73f",
   "metadata": {},
   "outputs": [
    {
     "name": "stdout",
     "output_type": "stream",
     "text": [
      "Predicting on: \n",
      " [[55123.86     6.25]\n",
      " [54591.52     6.25]\n",
      " [53260.3      6.25]\n",
      " [57302.64     6.25]\n",
      " [57677.98     6.25]\n",
      " [56427.04     6.25]\n",
      " [57255.31     6.25]\n",
      " [53658.84     6.25]\n",
      " [57252.7      6.25]\n",
      " [56583.85     6.25]\n",
      " [57107.12     6.25]\n",
      " [58788.21     6.25]\n",
      " [58102.19     6.25]\n",
      " [55715.55     6.25]\n",
      " [56573.55     6.25]\n",
      " [52147.82     6.25]\n",
      " [49764.13     6.25]\n",
      " [50032.69     6.25]\n",
      " [47885.62     6.25]\n",
      " [45604.62     6.25]] -> Prediction: 9852.25\n",
      "\n",
      "Predicting on: \n",
      " [[54591.52     6.25]\n",
      " [53260.3      6.25]\n",
      " [57302.64     6.25]\n",
      " [57677.98     6.25]\n",
      " [56427.04     6.25]\n",
      " [57255.31     6.25]\n",
      " [53658.84     6.25]\n",
      " [57252.7      6.25]\n",
      " [56583.85     6.25]\n",
      " [57107.12     6.25]\n",
      " [58788.21     6.25]\n",
      " [58102.19     6.25]\n",
      " [55715.55     6.25]\n",
      " [56573.55     6.25]\n",
      " [52147.82     6.25]\n",
      " [49764.13     6.25]\n",
      " [50032.69     6.25]\n",
      " [47885.62     6.25]\n",
      " [45604.62     6.25]\n",
      " [ 9852.25     6.25]] -> Prediction: 9852.2490234375\n",
      "\n"
     ]
    },
    {
     "data": {
      "text/plain": [
       "array([9852.25, 9852.25], dtype=float32)"
      ]
     },
     "execution_count": 129,
     "metadata": {},
     "output_type": "execute_result"
    }
   ],
   "source": [
    "forecast(model_2, initial_window, 2, verbose=True)"
   ]
  },
  {
   "cell_type": "markdown",
   "id": "4d5bf0fa",
   "metadata": {},
   "source": [
    "<a name=\"References\"></a>\n",
    "## <font color='#1a5276'> <b> 7. References </font> </b>\n",
    "\n",
    "[DeepLearning.AI TensorFlow Developer Professional Certificate](https://www.coursera.org/learn/tensorflow-sequences-time-series-and-prediction?specialization=tensorflow-in-practice)\n",
    "\n",
    "[TensorFlow for Deep Learning Bootcamp](https://www.udemy.com/course/tensorflow-developer-certificate-machine-learning-zero-to-mastery/?couponCode=MTST7102224B2)"
   ]
  }
 ],
 "metadata": {
  "kernelspec": {
   "display_name": "Python 3 (ipykernel)",
   "language": "python",
   "name": "python3"
  },
  "language_info": {
   "codemirror_mode": {
    "name": "ipython",
    "version": 3
   },
   "file_extension": ".py",
   "mimetype": "text/x-python",
   "name": "python",
   "nbconvert_exporter": "python",
   "pygments_lexer": "ipython3",
   "version": "3.10.12"
  }
 },
 "nbformat": 4,
 "nbformat_minor": 5
}
