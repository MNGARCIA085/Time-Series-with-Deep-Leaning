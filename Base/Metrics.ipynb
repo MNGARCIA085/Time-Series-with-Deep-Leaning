{
 "cells": [
  {
   "cell_type": "markdown",
   "id": "3a923b4f",
   "metadata": {},
   "source": [
    "# <center> <b> <font color='blue'> Metrics </center> </b> </font>"
   ]
  },
  {
   "cell_type": "markdown",
   "id": "3fba6d4a",
   "metadata": {},
   "source": [
    "## <font color='#1f618d'> Table of Contents </font>\n",
    "\n",
    "1. [Introduction](#1)\n",
    "2. [Setup](#2)\n",
    "3. [Predictions](#3)\n",
    "4. [Other ways to forecast](#4)\n",
    "5. [Summary](#5)\n",
    "6. [References](#References)"
   ]
  },
  {
   "cell_type": "markdown",
   "id": "5d247633",
   "metadata": {},
   "source": [
    "<a name=\"1\"></a>\n",
    "## <font color='#1f618d'> <b> 1. Introduction </font> </b>\n",
    "\n",
    "The goal is to show how to calculate metrics for a time series problem."
   ]
  },
  {
   "cell_type": "markdown",
   "id": "015e134f",
   "metadata": {},
   "source": [
    "<a name=\"2\"></a>\n",
    "## <font color='#1f618d'> <b> 2. Setup </font> </b>"
   ]
  },
  {
   "cell_type": "markdown",
   "id": "bbcf4531",
   "metadata": {},
   "source": [
    "### Imports"
   ]
  },
  {
   "cell_type": "code",
   "execution_count": 25,
   "id": "76a56ae7",
   "metadata": {},
   "outputs": [],
   "source": [
    "import pandas as pd\n",
    "import numpy as np\n",
    "import tensorflow as tf\n",
    "from tensorflow.keras import layers"
   ]
  },
  {
   "cell_type": "markdown",
   "id": "8a50c1af",
   "metadata": {},
   "source": [
    "### Generating data"
   ]
  },
  {
   "cell_type": "code",
   "execution_count": 13,
   "id": "fe3a77e0",
   "metadata": {},
   "outputs": [],
   "source": [
    "series = np.arange(21)  # Generate numbers from 0 to 20\n",
    "time = np.arange(len(series))  # Time index"
   ]
  },
  {
   "cell_type": "markdown",
   "id": "1e4d6ed0",
   "metadata": {},
   "source": [
    "### Preparing data"
   ]
  },
  {
   "cell_type": "markdown",
   "id": "8bd136bc",
   "metadata": {},
   "source": [
    "#### Train/test split"
   ]
  },
  {
   "cell_type": "code",
   "execution_count": 15,
   "id": "b8c102f7",
   "metadata": {},
   "outputs": [],
   "source": [
    "def train_val_split(time, series, time_step=12):\n",
    "\n",
    "    time_train = time[:time_step]\n",
    "    series_train = series[:time_step]\n",
    "    time_valid = time[time_step:]\n",
    "    series_valid = series[time_step:]\n",
    "\n",
    "    return time_train, series_train, time_valid, series_valid\n",
    "\n",
    "\n",
    "# Split the dataset\n",
    "time_train, series_train, time_valid, series_valid = train_val_split(time, series)\n"
   ]
  },
  {
   "cell_type": "markdown",
   "id": "c1d36680",
   "metadata": {},
   "source": [
    "#### Windowing"
   ]
  },
  {
   "cell_type": "code",
   "execution_count": 22,
   "id": "19b928fe",
   "metadata": {},
   "outputs": [],
   "source": [
    "def windowed_dataset(series, \n",
    "                     window_size=3, \n",
    "                     horizon=1, \n",
    "                     batch_size=32, \n",
    "                     shuffle_buffer=10,\n",
    "                     shuffle=True):\n",
    "    \n",
    "    # Create the dataset from the series\n",
    "    ds = tf.data.Dataset.from_tensor_slices(series)\n",
    "    \n",
    "    # Create windows of size (window_size + horizon)\n",
    "    ds = ds.window(window_size + horizon, shift=1, drop_remainder=True)\n",
    "    \n",
    "    # Flatten the windows into batches\n",
    "    ds = ds.flat_map(lambda w: w.batch(window_size + horizon))\n",
    "    \n",
    "    if shuffle:\n",
    "        ds = ds.shuffle(shuffle_buffer)\n",
    "    \n",
    "    # Split the windows into features and labels\n",
    "    ds = ds.map(lambda w: (w[:-horizon], w[-horizon:]))\n",
    "    \n",
    "    # Batch the dataset\n",
    "    ds = ds.batch(batch_size).prefetch(tf.data.experimental.AUTOTUNE)\n",
    "    return ds\n",
    "\n",
    "# Apply the transformation to the training set and val set (horizon=1)\n",
    "dataset_train = windowed_dataset(series_train)\n",
    "dataset_val = windowed_dataset(series_valid, shuffle=False)\n",
    "\n",
    "# Apply the transformation to the training set and val set (horizon=3)\n",
    "dataset_train_2 = windowed_dataset(series_train, 4,3)\n",
    "dataset_val_2 = windowed_dataset(series_valid, 4,3 , shuffle=False)\n"
   ]
  },
  {
   "cell_type": "markdown",
   "id": "a14e33fd",
   "metadata": {},
   "source": [
    "### Helper function for predictions"
   ]
  },
  {
   "cell_type": "code",
   "execution_count": 82,
   "id": "2de19134",
   "metadata": {},
   "outputs": [],
   "source": [
    "def forecast(model, initial_window, num_predictions, horizon=1):\n",
    "    predictions = []\n",
    "    current_window = initial_window.copy() \n",
    "    \n",
    "    while len(predictions) < num_predictions:\n",
    "        \n",
    "        # Make a prediction for multiple steps ahead\n",
    "        pred = model.predict(current_window[np.newaxis], verbose=0)\n",
    "        print(pred.shape)\n",
    "        pred_steps = pred[0][:horizon]  # Extract the predicted steps\n",
    "        print(pred[0], pred[1], pred[2])\n",
    "\n",
    "        # Add the predictions to the list, but ensure we don't exceed num_predictions\n",
    "        steps_to_add = min(horizon, num_predictions - len(predictions))\n",
    "        predictions.extend(pred_steps[:steps_to_add])\n",
    "\n",
    "        # Update the window: remove the oldest values and add the new predictions\n",
    "        current_window = np.roll(current_window, -steps_to_add)  # Shift left by the number of steps added\n",
    "        current_window[-steps_to_add:] = pred_steps[:steps_to_add]  # Insert the new predictions at the end\n",
    "\n",
    "    return np.array(predictions[:num_predictions])  # Return exactly num_predictions values\n"
   ]
  },
  {
   "cell_type": "markdown",
   "id": "72e9fd8b",
   "metadata": {},
   "source": [
    "<a name=\"3\"></a>\n",
    "## <font color='#1f618d'> <b> 3. Metrics </font> </b>\n",
    "\n",
    "\n",
    "<a name=\"3.1\"></a>\n",
    "### <font color='#2471a3'> <b> 3.1. Horizon=1 </font> </b>\n",
    "\n",
    "\n",
    "First, let's create and train a model.\n"
   ]
  },
  {
   "cell_type": "code",
   "execution_count": 23,
   "id": "1b41252d",
   "metadata": {},
   "outputs": [],
   "source": [
    "tf.random.set_seed(42)"
   ]
  },
  {
   "cell_type": "code",
   "execution_count": 27,
   "id": "4e84d59d",
   "metadata": {},
   "outputs": [
    {
     "name": "stdout",
     "output_type": "stream",
     "text": [
      "Model: \"Simple_Dense\"\n",
      "_________________________________________________________________\n",
      " Layer (type)                Output Shape              Param #   \n",
      "=================================================================\n",
      " dense_2 (Dense)             (None, 128)               512       \n",
      "                                                                 \n",
      " dense_3 (Dense)             (None, 1)                 129       \n",
      "                                                                 \n",
      "=================================================================\n",
      "Total params: 641 (2.50 KB)\n",
      "Trainable params: 641 (2.50 KB)\n",
      "Non-trainable params: 0 (0.00 Byte)\n",
      "_________________________________________________________________\n"
     ]
    }
   ],
   "source": [
    "# model for an horizon of 1\n",
    "def build_compile_model(name, horizon=1, window_size=3):\n",
    "    # Construct model\n",
    "    model = tf.keras.models.Sequential([\n",
    "      layers.InputLayer(input_shape=[window_size]),\n",
    "      layers.Dense(128,activation='relu'),\n",
    "      layers.Dense(horizon, activation=\"linear\")                 \n",
    "    ], name=name)\n",
    "\n",
    "    # Compile model\n",
    "    model.compile(loss=\"mse\",\n",
    "                    optimizer=tf.keras.optimizers.Adam(),\n",
    "                    metrics=[\"mse\"])\n",
    "    \n",
    "    return model\n",
    "\n",
    "\n",
    "model_1 = build_compile_model_one('Simple_Dense')\n",
    "model_1.summary()"
   ]
  },
  {
   "cell_type": "code",
   "execution_count": 30,
   "id": "cae3787c",
   "metadata": {},
   "outputs": [],
   "source": [
    "# fit\n",
    "history_1 = model_1.fit(\n",
    "            dataset_train,\n",
    "            epochs=50,\n",
    "            verbose=0,\n",
    "            batch_size=32,\n",
    "            validation_data=dataset_val)"
   ]
  },
  {
   "cell_type": "code",
   "execution_count": 36,
   "id": "64524c52",
   "metadata": {},
   "outputs": [
    {
     "name": "stdout",
     "output_type": "stream",
     "text": [
      "1/1 [==============================] - 0s 15ms/step\n"
     ]
    },
    {
     "data": {
      "text/plain": [
       "array([[14.335833]], dtype=float32)"
      ]
     },
     "execution_count": 36,
     "metadata": {},
     "output_type": "execute_result"
    }
   ],
   "source": [
    "# let's make a prediction\n",
    "data = np.array([10, 11, 12])\n",
    "pred = model_1.predict(data[np.newaxis])\n",
    "pred"
   ]
  },
  {
   "cell_type": "code",
   "execution_count": 37,
   "id": "29846c41",
   "metadata": {},
   "outputs": [
    {
     "data": {
      "text/plain": [
       "(1, 1)"
      ]
     },
     "execution_count": 37,
     "metadata": {},
     "output_type": "execute_result"
    }
   ],
   "source": [
    "pred.shape"
   ]
  },
  {
   "cell_type": "markdown",
   "id": "da89bd3e",
   "metadata": {},
   "source": [
    "Now let's make predictions to compare with the validation set."
   ]
  },
  {
   "cell_type": "code",
   "execution_count": 41,
   "id": "52d62c1e",
   "metadata": {},
   "outputs": [
    {
     "data": {
      "text/plain": [
       "array([13.078556, 14.872024, 16.600409, 18.642057, 20.911184, 23.425735,\n",
       "       26.474682, 30.00109 , 34.30731 ], dtype=float32)"
      ]
     },
     "execution_count": 41,
     "metadata": {},
     "output_type": "execute_result"
    }
   ],
   "source": [
    "preds_1 = forecast(model_1, series_train[-3:], len(series_valid))\n",
    "preds_1"
   ]
  },
  {
   "cell_type": "code",
   "execution_count": 40,
   "id": "c3a242eb",
   "metadata": {},
   "outputs": [
    {
     "data": {
      "text/plain": [
       "(9,)"
      ]
     },
     "execution_count": 40,
     "metadata": {},
     "output_type": "execute_result"
    }
   ],
   "source": [
    "preds_1.shape"
   ]
  },
  {
   "cell_type": "code",
   "execution_count": 132,
   "id": "27eb4380",
   "metadata": {},
   "outputs": [],
   "source": [
    "# Fn. to calculate differente metrics\n",
    "def evaluate_preds(y_true, y_pred):\n",
    "    # Make sure float32 (for metric calculations)\n",
    "    y_true = tf.cast(y_true, dtype=tf.float32)\n",
    "    y_pred = tf.cast(y_pred, dtype=tf.float32)\n",
    " \n",
    "    # Calculate various metrics\n",
    "    mae = tf.keras.metrics.mean_absolute_error(y_true, y_pred)\n",
    "    mse = tf.keras.metrics.mean_squared_error(y_true, y_pred)\n",
    "    rmse = tf.sqrt(mse)\n",
    "    mape = tf.keras.metrics.mean_absolute_percentage_error(y_true, y_pred)\n",
    "  \n",
    "    return {\"mae\": mae.numpy(),\n",
    "          \"mse\": mse.numpy(),\n",
    "          \"rmse\": rmse.numpy(),\n",
    "          \"mape\": mape.numpy()}"
   ]
  },
  {
   "cell_type": "code",
   "execution_count": 43,
   "id": "cabe67f7",
   "metadata": {},
   "outputs": [
    {
     "data": {
      "text/plain": [
       "{'mae': 6.034783, 'mse': 54.18306, 'rmse': 7.360914, 'mape': 34.583866}"
      ]
     },
     "execution_count": 43,
     "metadata": {},
     "output_type": "execute_result"
    }
   ],
   "source": [
    "evaluate_preds(series_valid, preds_1)"
   ]
  },
  {
   "cell_type": "markdown",
   "id": "07a24100",
   "metadata": {},
   "source": [
    "<a name=\"3.2\"></a>\n",
    "### <font color='#2471a3'> <b> 3.2. Horizon greater than 1 (3) </font> </b>"
   ]
  },
  {
   "cell_type": "code",
   "execution_count": 47,
   "id": "c09b5aff",
   "metadata": {},
   "outputs": [
    {
     "name": "stdout",
     "output_type": "stream",
     "text": [
      "Model: \"Simple_Dense\"\n",
      "_________________________________________________________________\n",
      " Layer (type)                Output Shape              Param #   \n",
      "=================================================================\n",
      " dense_6 (Dense)             (None, 128)               640       \n",
      "                                                                 \n",
      " dense_7 (Dense)             (None, 3)                 387       \n",
      "                                                                 \n",
      "=================================================================\n",
      "Total params: 1027 (4.01 KB)\n",
      "Trainable params: 1027 (4.01 KB)\n",
      "Non-trainable params: 0 (0.00 Byte)\n",
      "_________________________________________________________________\n"
     ]
    }
   ],
   "source": [
    "model_2 = build_compile_model_one('Simple_Dense', 3, 4) # horizon, ws\n",
    "model_2.summary()"
   ]
  },
  {
   "cell_type": "code",
   "execution_count": 48,
   "id": "58f026f8",
   "metadata": {},
   "outputs": [],
   "source": [
    "# fit\n",
    "history_2 = model_2.fit(\n",
    "            dataset_train_2,\n",
    "            epochs=50,\n",
    "            verbose=0,\n",
    "            batch_size=32,\n",
    "            validation_data=dataset_val_2)"
   ]
  },
  {
   "cell_type": "code",
   "execution_count": 66,
   "id": "f59ceffd",
   "metadata": {},
   "outputs": [
    {
     "name": "stdout",
     "output_type": "stream",
     "text": [
      "1/1 [==============================] - 0s 15ms/step\n"
     ]
    },
    {
     "data": {
      "text/plain": [
       "array([[18.056765, 19.319477, 19.340502]], dtype=float32)"
      ]
     },
     "execution_count": 66,
     "metadata": {},
     "output_type": "execute_result"
    }
   ],
   "source": [
    "data = np.array([10, 11, 12, 20])\n",
    "pred = model_2.predict(data[np.newaxis])\n",
    "pred"
   ]
  },
  {
   "cell_type": "code",
   "execution_count": 67,
   "id": "cab557c3",
   "metadata": {},
   "outputs": [
    {
     "data": {
      "text/plain": [
       "(1, 3)"
      ]
     },
     "execution_count": 67,
     "metadata": {},
     "output_type": "execute_result"
    }
   ],
   "source": [
    "pred.shape"
   ]
  },
  {
   "cell_type": "markdown",
   "id": "d52cc445",
   "metadata": {},
   "source": [
    "ahora nuestra salida es (1, 3), pues nuestro horizonte es 3, probemos nuestra fn. para evaluar las métricas:"
   ]
  },
  {
   "cell_type": "code",
   "execution_count": 69,
   "id": "3f7d87a2",
   "metadata": {},
   "outputs": [],
   "source": [
    "preds_2 = forecast(model_2, series_train[-4:], len(series_valid))"
   ]
  },
  {
   "cell_type": "code",
   "execution_count": 71,
   "id": "c91d1e8b",
   "metadata": {},
   "outputs": [
    {
     "data": {
      "text/plain": [
       "array([13.111973, 14.796203, 16.523094, 18.573639, 20.847485, 23.299658,\n",
       "       26.306765, 29.707779, 33.488987], dtype=float32)"
      ]
     },
     "execution_count": 71,
     "metadata": {},
     "output_type": "execute_result"
    }
   ],
   "source": [
    "preds_2"
   ]
  },
  {
   "cell_type": "code",
   "execution_count": 72,
   "id": "bbbb2ba0",
   "metadata": {},
   "outputs": [
    {
     "data": {
      "text/plain": [
       "(9,)"
      ]
     },
     "execution_count": 72,
     "metadata": {},
     "output_type": "execute_result"
    }
   ],
   "source": [
    "preds_2.shape"
   ]
  },
  {
   "cell_type": "code",
   "execution_count": null,
   "id": "371288e1",
   "metadata": {},
   "outputs": [],
   "source": []
  },
  {
   "cell_type": "code",
   "execution_count": 111,
   "id": "4fa7b4c5",
   "metadata": {},
   "outputs": [],
   "source": [
    "import numpy as np\n",
    "\n",
    "def forecast(model, initial_window, num_predictions, horizon=3):\n",
    "    \"\"\"\n",
    "    Forecasts a specified number of steps ahead using a model with a sliding window approach.\n",
    "\n",
    "    Parameters:\n",
    "    - model (tf.keras.Model): Trained time series forecasting model.\n",
    "    - initial_window (np.array): Initial input sequence for forecasting.\n",
    "    - num_predictions (int): Total number of forecasted points (rows) to generate.\n",
    "    - horizon (int): Number of steps to predict at each iteration.\n",
    "\n",
    "    Returns:\n",
    "    - np.array: Array of predicted values with shape (num_predictions, horizon).\n",
    "    \"\"\"\n",
    "    predictions = []\n",
    "    current_window = initial_window.copy()\n",
    "\n",
    "    for _ in range(num_predictions):\n",
    "        # Make a prediction for the specified horizon\n",
    "        pred = model.predict(current_window[np.newaxis], verbose=0)  # Shape: (1, horizon)\n",
    "        \n",
    "        # Extract predictions and reshape for output (univariate: only one feature)\n",
    "        pred_steps = pred[0][:horizon]  # Take first horizon steps, shape (horizon,)\n",
    "\n",
    "        # Append the predictions for the current step to the output\n",
    "        predictions.append(pred_steps)\n",
    "        \n",
    "        \n",
    "        \n",
    "        print(f\"Current window: {current_window}\")\n",
    "        print(f\"Predictions: {pred_steps}\")\n",
    "        print(\"\\n\")\n",
    "        \n",
    "\n",
    "        # Update the window by removing oldest values and appending new predictions\n",
    "        current_window = np.roll(current_window, -horizon)  # Shift left by horizon\n",
    "        current_window[-horizon:] = pred_steps  # Insert new predictions at the end\n",
    "\n",
    "    return np.array(predictions)  # Shape: (num_predictions, horizon)\n"
   ]
  },
  {
   "cell_type": "code",
   "execution_count": 125,
   "id": "f3869324",
   "metadata": {},
   "outputs": [
    {
     "name": "stdout",
     "output_type": "stream",
     "text": [
      "Current window: [ 8  9 10 11]\n",
      "Predictions: [13.111973 13.012652 12.81855 ]\n",
      "\n",
      "\n",
      "Current window: [11 13 13 12]\n",
      "Predictions: [16.887434 16.171663 15.418688]\n",
      "\n",
      "\n",
      "Current window: [12 16 16 15]\n",
      "Predictions: [20.42272  19.67675  18.822645]\n",
      "\n",
      "\n"
     ]
    },
    {
     "data": {
      "text/plain": [
       "array([[13.111973, 13.012652, 12.81855 ],\n",
       "       [16.887434, 16.171663, 15.418688],\n",
       "       [20.42272 , 19.67675 , 18.822645]], dtype=float32)"
      ]
     },
     "execution_count": 125,
     "metadata": {},
     "output_type": "execute_result"
    }
   ],
   "source": [
    "preds_4 = forecast(model_2, series_train[-4:], 3) # antes 5 preds\n",
    "preds_4"
   ]
  },
  {
   "cell_type": "code",
   "execution_count": 126,
   "id": "4d86de4b",
   "metadata": {},
   "outputs": [
    {
     "data": {
      "text/plain": [
       "(3, 3)"
      ]
     },
     "execution_count": 126,
     "metadata": {},
     "output_type": "execute_result"
    }
   ],
   "source": [
    "preds_4.shape"
   ]
  },
  {
   "cell_type": "markdown",
   "id": "829391d4",
   "metadata": {},
   "source": [
    "ahora tenemos 5 predicciones de tamaño 3 (predice un horizonte de 3 en cada paso)"
   ]
  },
  {
   "cell_type": "code",
   "execution_count": null,
   "id": "da49234b",
   "metadata": {},
   "outputs": [],
   "source": []
  },
  {
   "cell_type": "code",
   "execution_count": null,
   "id": "3cca4f5b",
   "metadata": {},
   "outputs": [],
   "source": []
  },
  {
   "cell_type": "code",
   "execution_count": 114,
   "id": "50bacf3f",
   "metadata": {},
   "outputs": [
    {
     "ename": "InvalidArgumentError",
     "evalue": "{{function_node __wrapped__Sub_device_/job:localhost/replica:0/task:0/device:CPU:0}} Incompatible shapes: [5,3] vs. [9] [Op:Sub] name: ",
     "output_type": "error",
     "traceback": [
      "\u001b[0;31m---------------------------------------------------------------------------\u001b[0m",
      "\u001b[0;31mInvalidArgumentError\u001b[0m                      Traceback (most recent call last)",
      "Cell \u001b[0;32mIn [114], line 1\u001b[0m\n\u001b[0;32m----> 1\u001b[0m \u001b[43mevaluate_preds\u001b[49m\u001b[43m(\u001b[49m\u001b[43mseries_valid\u001b[49m\u001b[43m,\u001b[49m\u001b[43m \u001b[49m\u001b[43mpreds_4\u001b[49m\u001b[43m)\u001b[49m\n",
      "Cell \u001b[0;32mIn [42], line 8\u001b[0m, in \u001b[0;36mevaluate_preds\u001b[0;34m(y_true, y_pred)\u001b[0m\n\u001b[1;32m      5\u001b[0m y_pred \u001b[38;5;241m=\u001b[39m tf\u001b[38;5;241m.\u001b[39mcast(y_pred, dtype\u001b[38;5;241m=\u001b[39mtf\u001b[38;5;241m.\u001b[39mfloat32)\n\u001b[1;32m      7\u001b[0m \u001b[38;5;66;03m# Calculate various metrics\u001b[39;00m\n\u001b[0;32m----> 8\u001b[0m mae \u001b[38;5;241m=\u001b[39m \u001b[43mtf\u001b[49m\u001b[38;5;241;43m.\u001b[39;49m\u001b[43mkeras\u001b[49m\u001b[38;5;241;43m.\u001b[39;49m\u001b[43mmetrics\u001b[49m\u001b[38;5;241;43m.\u001b[39;49m\u001b[43mmean_absolute_error\u001b[49m\u001b[43m(\u001b[49m\u001b[43my_true\u001b[49m\u001b[43m,\u001b[49m\u001b[43m \u001b[49m\u001b[43my_pred\u001b[49m\u001b[43m)\u001b[49m\n\u001b[1;32m      9\u001b[0m mse \u001b[38;5;241m=\u001b[39m tf\u001b[38;5;241m.\u001b[39mkeras\u001b[38;5;241m.\u001b[39mmetrics\u001b[38;5;241m.\u001b[39mmean_squared_error(y_true, y_pred)\n\u001b[1;32m     10\u001b[0m rmse \u001b[38;5;241m=\u001b[39m tf\u001b[38;5;241m.\u001b[39msqrt(mse)\n",
      "File \u001b[0;32m~/.local/lib/python3.10/site-packages/tensorflow/python/util/traceback_utils.py:153\u001b[0m, in \u001b[0;36mfilter_traceback.<locals>.error_handler\u001b[0;34m(*args, **kwargs)\u001b[0m\n\u001b[1;32m    151\u001b[0m \u001b[38;5;28;01mexcept\u001b[39;00m \u001b[38;5;167;01mException\u001b[39;00m \u001b[38;5;28;01mas\u001b[39;00m e:\n\u001b[1;32m    152\u001b[0m   filtered_tb \u001b[38;5;241m=\u001b[39m _process_traceback_frames(e\u001b[38;5;241m.\u001b[39m__traceback__)\n\u001b[0;32m--> 153\u001b[0m   \u001b[38;5;28;01mraise\u001b[39;00m e\u001b[38;5;241m.\u001b[39mwith_traceback(filtered_tb) \u001b[38;5;28;01mfrom\u001b[39;00m \u001b[38;5;28;01mNone\u001b[39;00m\n\u001b[1;32m    154\u001b[0m \u001b[38;5;28;01mfinally\u001b[39;00m:\n\u001b[1;32m    155\u001b[0m   \u001b[38;5;28;01mdel\u001b[39;00m filtered_tb\n",
      "File \u001b[0;32m~/.local/lib/python3.10/site-packages/keras/src/losses.py:1848\u001b[0m, in \u001b[0;36mmean_absolute_error\u001b[0;34m(y_true, y_pred)\u001b[0m\n\u001b[1;32m   1846\u001b[0m y_pred \u001b[38;5;241m=\u001b[39m tf\u001b[38;5;241m.\u001b[39mconvert_to_tensor(y_pred)\n\u001b[1;32m   1847\u001b[0m y_true \u001b[38;5;241m=\u001b[39m tf\u001b[38;5;241m.\u001b[39mcast(y_true, y_pred\u001b[38;5;241m.\u001b[39mdtype)\n\u001b[0;32m-> 1848\u001b[0m \u001b[38;5;28;01mreturn\u001b[39;00m backend\u001b[38;5;241m.\u001b[39mmean(tf\u001b[38;5;241m.\u001b[39mabs(\u001b[43my_pred\u001b[49m\u001b[43m \u001b[49m\u001b[38;5;241;43m-\u001b[39;49m\u001b[43m \u001b[49m\u001b[43my_true\u001b[49m), axis\u001b[38;5;241m=\u001b[39m\u001b[38;5;241m-\u001b[39m\u001b[38;5;241m1\u001b[39m)\n",
      "\u001b[0;31mInvalidArgumentError\u001b[0m: {{function_node __wrapped__Sub_device_/job:localhost/replica:0/task:0/device:CPU:0}} Incompatible shapes: [5,3] vs. [9] [Op:Sub] name: "
     ]
    }
   ],
   "source": [
    "evaluate_preds(series_valid, preds_4)"
   ]
  },
  {
   "cell_type": "code",
   "execution_count": null,
   "id": "ef13c100",
   "metadata": {},
   "outputs": [],
   "source": []
  },
  {
   "cell_type": "code",
   "execution_count": null,
   "id": "09bb3705",
   "metadata": {},
   "outputs": [],
   "source": []
  },
  {
   "cell_type": "code",
   "execution_count": null,
   "id": "41bc5732",
   "metadata": {},
   "outputs": [],
   "source": []
  },
  {
   "cell_type": "code",
   "execution_count": 129,
   "id": "07866e71",
   "metadata": {},
   "outputs": [],
   "source": [
    "def evaluate_preds2(y_true, y_pred):\n",
    "  # Make sure float32 (for metric calculations)\n",
    "  y_true = tf.cast(y_true, dtype=tf.float32)\n",
    "  y_pred = tf.cast(y_pred, dtype=tf.float32)\n",
    "\n",
    "  # Calculate various metrics\n",
    "  mae = tf.keras.metrics.mean_absolute_error(y_true, y_pred)\n",
    "  mse = tf.keras.metrics.mean_squared_error(y_true, y_pred)\n",
    "  rmse = tf.sqrt(mse)\n",
    "  mape = tf.keras.metrics.mean_absolute_percentage_error(y_true, y_pred)\n",
    "\n",
    "\n",
    "  # Account for different sized metrics (for longer horizons, reduce to single number)\n",
    "  if mae.ndim > 0: # if mae isn't already a scalar, reduce it to one by aggregating tensors to mean\n",
    "    mae = tf.reduce_mean(mae)\n",
    "    mse = tf.reduce_mean(mse)\n",
    "    rmse = tf.reduce_mean(rmse)\n",
    "    mape = tf.reduce_mean(mape)\n",
    "\n",
    "\n",
    "  return {\"mae\": mae.numpy(),\n",
    "          \"mse\": mse.numpy(),\n",
    "          \"rmse\": rmse.numpy(),\n",
    "          \"mape\": mape.numpy()}"
   ]
  },
  {
   "cell_type": "code",
   "execution_count": 118,
   "id": "547c47b6",
   "metadata": {},
   "outputs": [
    {
     "data": {
      "text/plain": [
       "array([12, 13, 14, 15, 16, 17, 18, 19, 20])"
      ]
     },
     "execution_count": 118,
     "metadata": {},
     "output_type": "execute_result"
    }
   ],
   "source": [
    "series_valid"
   ]
  },
  {
   "cell_type": "code",
   "execution_count": 120,
   "id": "eaf2a02a",
   "metadata": {},
   "outputs": [
    {
     "name": "stdout",
     "output_type": "stream",
     "text": [
      "Forma de y_true: (88, 3)\n"
     ]
    }
   ],
   "source": [
    "def create_y_true(val_series, window_size, horizon=3):\n",
    "    y_true = []\n",
    "    \n",
    "    # Generamos ventanas de validación, cada una con `window_size + horizon` de largo\n",
    "    for i in range(len(val_series) - window_size - horizon + 1):\n",
    "        # Los valores objetivo son los siguientes `horizon` valores después de cada ventana\n",
    "        true_values = val_series[i + window_size : i + window_size + horizon]\n",
    "        y_true.append(true_values)\n",
    "    \n",
    "    return np.array(y_true)  # Esto tendrá forma (num_predictions, horizon)\n",
    "\n",
    "\n",
    "\"\"\"# Ejemplo\n",
    "val_series = np.arange(1, 101)  # Serie temporal de ejemplo\n",
    "window_size = 10\n",
    "horizon = 3\n",
    "\n",
    "y_true = create_y_true(val_series, window_size, horizon)\n",
    "print(\"Forma de y_true:\", y_true.shape)  # Debe ser (num_predictions, horizon)\n",
    "\"\"\""
   ]
  },
  {
   "cell_type": "code",
   "execution_count": 121,
   "id": "1f35f85f",
   "metadata": {},
   "outputs": [
    {
     "data": {
      "text/plain": [
       "(5, 3)"
      ]
     },
     "execution_count": 121,
     "metadata": {},
     "output_type": "execute_result"
    }
   ],
   "source": [
    "preds_4.shape"
   ]
  },
  {
   "cell_type": "code",
   "execution_count": 123,
   "id": "2078a707",
   "metadata": {},
   "outputs": [],
   "source": [
    "aux  = create_y_true(series_valid, 4, 3)"
   ]
  },
  {
   "cell_type": "code",
   "execution_count": 124,
   "id": "811f01da",
   "metadata": {},
   "outputs": [
    {
     "data": {
      "text/plain": [
       "(3, 3)"
      ]
     },
     "execution_count": 124,
     "metadata": {},
     "output_type": "execute_result"
    }
   ],
   "source": [
    "aux.shape"
   ]
  },
  {
   "cell_type": "code",
   "execution_count": null,
   "id": "1f236e15",
   "metadata": {},
   "outputs": [],
   "source": []
  },
  {
   "cell_type": "code",
   "execution_count": null,
   "id": "dcc3d659",
   "metadata": {},
   "outputs": [],
   "source": []
  },
  {
   "cell_type": "code",
   "execution_count": null,
   "id": "d3de5652",
   "metadata": {},
   "outputs": [],
   "source": []
  },
  {
   "cell_type": "code",
   "execution_count": null,
   "id": "8cbe28e3",
   "metadata": {},
   "outputs": [],
   "source": []
  },
  {
   "cell_type": "code",
   "execution_count": null,
   "id": "55aa51f7",
   "metadata": {},
   "outputs": [],
   "source": []
  },
  {
   "cell_type": "code",
   "execution_count": 134,
   "id": "0a3b2c14",
   "metadata": {},
   "outputs": [
    {
     "data": {
      "text/plain": [
       "{'mae': array([4.0189414, 1.8407383, 1.4256083], dtype=float32),\n",
       " 'mse': array([17.029022 ,  5.393761 ,  2.5712423], dtype=float32),\n",
       " 'rmse': array([4.1266236, 2.3224473, 1.6035094], dtype=float32),\n",
       " 'mape': array([23.43033  ,  9.88953  ,  7.6360574], dtype=float32)}"
      ]
     },
     "execution_count": 134,
     "metadata": {},
     "output_type": "execute_result"
    }
   ],
   "source": [
    "p = evaluate_preds(aux, preds_4)\n",
    "p"
   ]
  },
  {
   "cell_type": "markdown",
   "id": "e52f6154",
   "metadata": {},
   "source": [
    "valor por predicción 3"
   ]
  },
  {
   "cell_type": "code",
   "execution_count": 130,
   "id": "f5b846f4",
   "metadata": {},
   "outputs": [
    {
     "data": {
      "text/plain": [
       "{'mae': 2.4284294, 'mse': 8.331342, 'rmse': 2.6841934, 'mape': 13.651974}"
      ]
     },
     "execution_count": 130,
     "metadata": {},
     "output_type": "execute_result"
    }
   ],
   "source": [
    "evaluate_preds2(aux, preds_4)"
   ]
  },
  {
   "cell_type": "code",
   "execution_count": null,
   "id": "928314d4",
   "metadata": {},
   "outputs": [],
   "source": []
  }
 ],
 "metadata": {
  "kernelspec": {
   "display_name": "Python 3 (ipykernel)",
   "language": "python",
   "name": "python3"
  },
  "language_info": {
   "codemirror_mode": {
    "name": "ipython",
    "version": 3
   },
   "file_extension": ".py",
   "mimetype": "text/x-python",
   "name": "python",
   "nbconvert_exporter": "python",
   "pygments_lexer": "ipython3",
   "version": "3.10.12"
  }
 },
 "nbformat": 4,
 "nbformat_minor": 5
}
