{
 "cells": [
  {
   "cell_type": "markdown",
   "id": "49b81cfb",
   "metadata": {},
   "source": [
    "# <center> <b> <font color='#0E6655'> 1. ELECTRICAL PRODUCTION </center> </b> </font>"
   ]
  },
  {
   "cell_type": "markdown",
   "id": "fb573abb",
   "metadata": {},
   "source": [
    "## Table of Contents\n",
    "\n",
    "1. [Problem Statement](#1)\n",
    "2. [Modules](#2)\n",
    "3. [Helper Functions](#3)\n",
    "4. [Data Loading and pre-processing](#4)\n",
    "5. [Model selection](#5)\n",
    "6. [Making predictions](#6)\n",
    "7. [Annex](#annex)\n"
   ]
  },
  {
   "cell_type": "markdown",
   "id": "a1c90036",
   "metadata": {},
   "source": [
    "<a name=\"1\"></a>\n",
    "## <font color='green'> <b> 1. Problem Statement </font> </b>\n",
    "\n",
    "We're gonna predict the electrical production. It is a time series problem."
   ]
  },
  {
   "cell_type": "markdown",
   "id": "de922887",
   "metadata": {},
   "source": [
    "<a name=\"2\"></a>\n",
    "## <font color='green'> <b> 2. Modules </font> </b>"
   ]
  },
  {
   "cell_type": "code",
   "execution_count": 4,
   "id": "c9ed7127",
   "metadata": {},
   "outputs": [],
   "source": [
    "import os\n",
    "os.environ['TF_CPP_MIN_LOG_LEVEL'] = '2' "
   ]
  },
  {
   "cell_type": "code",
   "execution_count": 5,
   "id": "5c1fc8d4",
   "metadata": {},
   "outputs": [],
   "source": [
    "import csv\n",
    "import pickle\n",
    "import numpy as np\n",
    "import tensorflow as tf\n",
    "import matplotlib.pyplot as plt\n",
    "from dataclasses import dataclass\n",
    "from absl import logging\n",
    "logging.set_verbosity(logging.ERROR)\n",
    "import pandas as pd"
   ]
  },
  {
   "cell_type": "markdown",
   "id": "4c789c91",
   "metadata": {},
   "source": [
    "<a name=\"3\"></a>\n",
    "## <font color='green'> <b> 3. Helper Functions </font> </b>"
   ]
  },
  {
   "cell_type": "code",
   "execution_count": 70,
   "id": "19239439",
   "metadata": {},
   "outputs": [],
   "source": [
    "# plot time series\n",
    "def plot_series(time, series, xlabel, ylabel, format=\"-\", start=0, end=None, color='blue'):\n",
    "    plt.plot(time[start:end], series[start:end], format, color=color)\n",
    "\n",
    "    # imprimit sólo algunos valores de x (que no quede tan sobrecargado)\n",
    "    ticks_interval = 50\n",
    "    plt.xticks(data.index[::ticks_interval], data.index[::ticks_interval])\n",
    "\n",
    "    plt.xlabel(xlabel)\n",
    "    plt.ylabel(ylabel)\n",
    "    plt.grid(True)\n",
    "    \n",
    "    \n",
    "    \n",
    "# train/test split\n",
    "def train_val_split(time, series, split_size):\n",
    "    \"\"\"\n",
    "    Split the time series data into training and validation sets.\n",
    "    We do not shuffle the data because is a time series problem.\n",
    "\n",
    "    Parameters:\n",
    "    - time (list-like): List or array containing the time index of the time series.\n",
    "    - series (list-like): List or array containing the values of the time series.\n",
    "    - split_size (float): The proportion of data to be allocated for training.\n",
    "                          Value should be between 0 and 1.\n",
    "\n",
    "    Returns:\n",
    "    - time_train (list-like): Time index of the training set.\n",
    "    - series_train (list-like): Values of the training set.\n",
    "    - time_valid (list-like): Time index of the validation set.\n",
    "    - series_valid (list-like): Values of the validation set.\n",
    "\n",
    "    Example:\n",
    "        If time = [1, 2, 3, 4, 5] and series = [10, 20, 30, 40, 50],\n",
    "            and split_size = 0.8, then the function returns:\n",
    "                time_train = [1, 2, 3]\n",
    "                series_train = [10, 20, 30]\n",
    "                time_valid = [4, 5]\n",
    "                series_valid = [40, 50]\n",
    "    \"\"\"\n",
    "    \n",
    "    # índice de la divisón\n",
    "    training_size = int(len(time)*split_size)\n",
    "\n",
    "    time_train = time[:training_size]\n",
    "    series_train = series[:training_size]\n",
    "    time_valid = time[training_size:]\n",
    "    series_valid = series[training_size:]\n",
    "\n",
    "    return time_train, series_train, time_valid, series_valid\n",
    "\n",
    "\n",
    "# windowing the dataset\n",
    "def windowed_dataset(series, \n",
    "                     window_size, \n",
    "                     batch_size, \n",
    "                     shuffle_buffer=200,\n",
    "                     shuffle=True):\n",
    "     \n",
    "    ds = tf.data.Dataset.from_tensor_slices(series)\n",
    "    ds = ds.window(window_size + 1, shift=1, drop_remainder=True) # drop_remainder -> all of the same size\n",
    "    ds = ds.flat_map(lambda w: w.batch(window_size + 1))\n",
    "    if shuffle:\n",
    "        ds = ds.shuffle(shuffle_buffer)\n",
    "    ds = ds.map(lambda w: (w[:-1], w[-1])) #w[:-1] all but the last; w[-1]: the last\n",
    "    ds = ds.batch(batch_size).prefetch(1)\n",
    "    return ds\n",
    "\n",
    "\n",
    "# forecast\n",
    "def model_forecast(model, series, window_size):\n",
    "    \"\"\"\n",
    "    The code to implement this is provided in the model_forecast below. Notice that the code is very similar to the one in the windowed_dataset function with the differences that:\n",
    "\n",
    "    The dataset is windowed using window_size rather than window_size + 1\n",
    "    No shuffle should be used\n",
    "    No need to split the data into features and labels\n",
    "    A model is used to predict batches of the dataset\n",
    "    \"\"\"\n",
    "    ds = tf.data.Dataset.from_tensor_slices(series)\n",
    "    ds = ds.window(window_size, shift=1, drop_remainder=True)\n",
    "    ds = ds.flat_map(lambda w: w.batch(window_size))\n",
    "    ds = ds.batch(32).prefetch(1)\n",
    "    forecast = model.predict(ds)\n",
    "    return forecast"
   ]
  },
  {
   "cell_type": "markdown",
   "id": "d0447d32",
   "metadata": {},
   "source": [
    "<a name=\"4\"></a>\n",
    "## <font color='green'> <b> 4. Loading data an pre-processing </font> </b>\n",
    "\n",
    "### Loading data"
   ]
  },
  {
   "cell_type": "code",
   "execution_count": 7,
   "id": "408ade1e",
   "metadata": {},
   "outputs": [
    {
     "name": "stdout",
     "output_type": "stream",
     "text": [
      "Electric_Production.csv\r\n"
     ]
    }
   ],
   "source": [
    "!cd data && ls"
   ]
  },
  {
   "cell_type": "code",
   "execution_count": 8,
   "id": "afaf826f",
   "metadata": {},
   "outputs": [
    {
     "data": {
      "text/html": [
       "<div>\n",
       "<style scoped>\n",
       "    .dataframe tbody tr th:only-of-type {\n",
       "        vertical-align: middle;\n",
       "    }\n",
       "\n",
       "    .dataframe tbody tr th {\n",
       "        vertical-align: top;\n",
       "    }\n",
       "\n",
       "    .dataframe thead th {\n",
       "        text-align: right;\n",
       "    }\n",
       "</style>\n",
       "<table border=\"1\" class=\"dataframe\">\n",
       "  <thead>\n",
       "    <tr style=\"text-align: right;\">\n",
       "      <th></th>\n",
       "      <th>DATE</th>\n",
       "      <th>IPG2211A2N</th>\n",
       "    </tr>\n",
       "  </thead>\n",
       "  <tbody>\n",
       "    <tr>\n",
       "      <th>0</th>\n",
       "      <td>1/1/1985</td>\n",
       "      <td>72.5052</td>\n",
       "    </tr>\n",
       "    <tr>\n",
       "      <th>1</th>\n",
       "      <td>2/1/1985</td>\n",
       "      <td>70.6720</td>\n",
       "    </tr>\n",
       "    <tr>\n",
       "      <th>2</th>\n",
       "      <td>3/1/1985</td>\n",
       "      <td>62.4502</td>\n",
       "    </tr>\n",
       "    <tr>\n",
       "      <th>3</th>\n",
       "      <td>4/1/1985</td>\n",
       "      <td>57.4714</td>\n",
       "    </tr>\n",
       "    <tr>\n",
       "      <th>4</th>\n",
       "      <td>5/1/1985</td>\n",
       "      <td>55.3151</td>\n",
       "    </tr>\n",
       "  </tbody>\n",
       "</table>\n",
       "</div>"
      ],
      "text/plain": [
       "       DATE  IPG2211A2N\n",
       "0  1/1/1985     72.5052\n",
       "1  2/1/1985     70.6720\n",
       "2  3/1/1985     62.4502\n",
       "3  4/1/1985     57.4714\n",
       "4  5/1/1985     55.3151"
      ]
     },
     "execution_count": 8,
     "metadata": {},
     "output_type": "execute_result"
    }
   ],
   "source": [
    "data = pd.read_csv('data/Electric_Production.csv')\n",
    "data.head()"
   ]
  },
  {
   "cell_type": "markdown",
   "id": "c6de6b2a",
   "metadata": {},
   "source": [
    "### Exploration"
   ]
  },
  {
   "cell_type": "code",
   "execution_count": 9,
   "id": "d651bf30",
   "metadata": {},
   "outputs": [
    {
     "data": {
      "text/plain": [
       "(397, 2)"
      ]
     },
     "execution_count": 9,
     "metadata": {},
     "output_type": "execute_result"
    }
   ],
   "source": [
    "data.shape"
   ]
  },
  {
   "cell_type": "code",
   "execution_count": 10,
   "id": "56521e50",
   "metadata": {},
   "outputs": [
    {
     "data": {
      "text/plain": [
       "Index(['DATE', 'IPG2211A2N'], dtype='object')"
      ]
     },
     "execution_count": 10,
     "metadata": {},
     "output_type": "execute_result"
    }
   ],
   "source": [
    "data.columns"
   ]
  },
  {
   "cell_type": "code",
   "execution_count": 11,
   "id": "cbcc0aad",
   "metadata": {},
   "outputs": [],
   "source": [
    "times = data['DATE']\n",
    "consumption = data['IPG2211A2N']"
   ]
  },
  {
   "cell_type": "code",
   "execution_count": 19,
   "id": "79ef2756",
   "metadata": {},
   "outputs": [],
   "source": [
    "@dataclass\n",
    "class G:\n",
    "    #TEMPERATURES_CSV = './data/daily-min-temperatures.csv'\n",
    "    #times, temperatures = parse_data_from_file(TEMPERATURES_CSV)\n",
    "    TIME = times.values\n",
    "    SERIES = consumption.values\n",
    "    SPLIT_TIME = 250 # cambiar dsp!!!\n",
    "    WINDOW_SIZE = 7\n",
    "    BATCH_SIZE = 32\n",
    "    SHUFFLE_BUFFER_SIZE = 200\n",
    "    SPLIT_SIZE=0.8\n",
    "\n"
   ]
  },
  {
   "cell_type": "code",
   "execution_count": 71,
   "id": "dd6c6d45",
   "metadata": {},
   "outputs": [
    {
     "data": {
      "image/png": "[encoded data removed]",
      "text/plain": [
       "<Figure size 1000x600 with 1 Axes>"
      ]
     },
     "metadata": {},
     "output_type": "display_data"
    }
   ],
   "source": [
    "# plot time series\n",
    "plt.figure(figsize=(10, 6))\n",
    "plot_series(G.TIME, G.SERIES, 'Time', 'Consumption')\n",
    "plt.show()"
   ]
  },
  {
   "cell_type": "markdown",
   "id": "1bd4a8ce",
   "metadata": {},
   "source": [
    "### Train/test split"
   ]
  },
  {
   "cell_type": "code",
   "execution_count": 27,
   "id": "fc33cebc",
   "metadata": {},
   "outputs": [],
   "source": [
    "# Split the dataset\n",
    "time_train, series_train, time_valid, series_valid = train_val_split(G.TIME, G.SERIES,G.SPLIT_SIZE)"
   ]
  },
  {
   "cell_type": "code",
   "execution_count": 30,
   "id": "1aaff0d9",
   "metadata": {},
   "outputs": [
    {
     "data": {
      "text/plain": [
       "((317,), (317,), (80,), (80,))"
      ]
     },
     "execution_count": 30,
     "metadata": {},
     "output_type": "execute_result"
    }
   ],
   "source": [
    "time_train.shape, series_train.shape, time_valid.shape, series_valid.shape"
   ]
  },
  {
   "cell_type": "markdown",
   "id": "854e3fc3",
   "metadata": {},
   "source": [
    "### Windowing the dataset\n",
    "\n",
    "We do this to convert a time series problem into a supervised learning problem."
   ]
  },
  {
   "cell_type": "code",
   "execution_count": 42,
   "id": "48a636b2",
   "metadata": {},
   "outputs": [],
   "source": [
    "# Apply the transformation to the training set\n",
    "train_set = windowed_dataset(series_train, window_size=G.WINDOW_SIZE, \n",
    "                             batch_size=G.BATCH_SIZE) #shuffle_buffer=G.SHUFFLE_BUFFER_SIZE"
   ]
  },
  {
   "cell_type": "code",
   "execution_count": 43,
   "id": "0b9c1447",
   "metadata": {},
   "outputs": [],
   "source": [
    "# Create windowed datasets for training and validation\n",
    "val_set = windowed_dataset(series_valid, window_size=G.WINDOW_SIZE, \n",
    "                           batch_size=G.BATCH_SIZE,shuffle=False)\n"
   ]
  },
  {
   "cell_type": "markdown",
   "id": "b255d416",
   "metadata": {},
   "source": [
    "<a name=\"5\"></a>\n",
    "## <font color='green'> <b> 5. Model Selection </font> </b>\n"
   ]
  },
  {
   "cell_type": "code",
   "execution_count": 35,
   "id": "27228f21",
   "metadata": {},
   "outputs": [],
   "source": [
    "# to save results\n",
    "results = []"
   ]
  },
  {
   "cell_type": "markdown",
   "id": "f3d01f00",
   "metadata": {},
   "source": [
    "### Baseline"
   ]
  },
  {
   "cell_type": "code",
   "execution_count": 36,
   "id": "d4196592",
   "metadata": {},
   "outputs": [
    {
     "data": {
      "text/plain": [
       "8.27027594936709"
      ]
     },
     "execution_count": 36,
     "metadata": {},
     "output_type": "execute_result"
    }
   ],
   "source": [
    "# naive forecast\n",
    "naive_forecast = series_valid[:-1]\n",
    "\n",
    "# Calcula el MAE entre la serie de validación y el naive forecast\n",
    "mae = tf.keras.losses.mean_absolute_error(series_valid[1:], naive_forecast)\n",
    "\n",
    "# show\n",
    "mae.numpy()"
   ]
  },
  {
   "cell_type": "code",
   "execution_count": 37,
   "id": "1e540780",
   "metadata": {},
   "outputs": [],
   "source": [
    "results.append({'name':'Naive Forecast','mae':mae.numpy()})"
   ]
  },
  {
   "cell_type": "markdown",
   "id": "dac91e27",
   "metadata": {},
   "source": [
    "### Model 1\n",
    "\n",
    "- Lambda\n",
    "- Bidirectional x2\n",
    "- Output Dense\n",
    "- Rescaling"
   ]
  },
  {
   "cell_type": "code",
   "execution_count": 38,
   "id": "3f62b609",
   "metadata": {},
   "outputs": [],
   "source": [
    "def build_model_one():\n",
    "    \n",
    "    model = tf.keras.models.Sequential([ \n",
    "        tf.keras.layers.Lambda(lambda x: tf.expand_dims(x,axis=-1),input_shape=[None]),\n",
    "        tf.keras.layers.Bidirectional(tf.keras.layers.LSTM(128,return_sequences=True)),\n",
    "        tf.keras.layers.Bidirectional(tf.keras.layers.LSTM(64)),\n",
    "        tf.keras.layers.Dense(1),\n",
    "        tf.keras.layers.Lambda(lambda x: x*100.0) #rescaling\n",
    "    ]) \n",
    "    \n",
    "    model.compile(loss='mae',\n",
    "                  optimizer=tf.keras.optimizers.Adam(learning_rate=1e-3),\n",
    "                  metrics=[\"mae\"]) \n",
    "\n",
    "    return model"
   ]
  },
  {
   "cell_type": "code",
   "execution_count": 39,
   "id": "0806d33f",
   "metadata": {},
   "outputs": [
    {
     "name": "stdout",
     "output_type": "stream",
     "text": [
      "Model: \"sequential\"\n",
      "_________________________________________________________________\n",
      " Layer (type)                Output Shape              Param #   \n",
      "=================================================================\n",
      " lambda (Lambda)             (None, None, 1)           0         \n",
      "                                                                 \n",
      " bidirectional (Bidirection  (None, None, 256)         133120    \n",
      " al)                                                             \n",
      "                                                                 \n",
      " bidirectional_1 (Bidirecti  (None, 128)               164352    \n",
      " onal)                                                           \n",
      "                                                                 \n",
      " dense (Dense)               (None, 1)                 129       \n",
      "                                                                 \n",
      " lambda_1 (Lambda)           (None, 1)                 0         \n",
      "                                                                 \n",
      "=================================================================\n",
      "Total params: 297601 (1.14 MB)\n",
      "Trainable params: 297601 (1.14 MB)\n",
      "Non-trainable params: 0 (0.00 Byte)\n",
      "_________________________________________________________________\n"
     ]
    }
   ],
   "source": [
    "model_one = build_model_one()\n",
    "model_one.summary()"
   ]
  },
  {
   "cell_type": "code",
   "execution_count": 47,
   "id": "de1810c3",
   "metadata": {},
   "outputs": [],
   "source": [
    "# Fit the model\n",
    "history_one = model_one.fit(\n",
    "            train_set,\n",
    "            epochs=20,\n",
    "            verbose=0,\n",
    "            batch_size=64,\n",
    "            validation_data=val_set)"
   ]
  },
  {
   "cell_type": "code",
   "execution_count": 48,
   "id": "3aa1e625",
   "metadata": {},
   "outputs": [
    {
     "name": "stdout",
     "output_type": "stream",
     "text": [
      "3/3 [==============================] - 0s 9ms/step - loss: 3.7589 - mae: 3.7589\n"
     ]
    }
   ],
   "source": [
    "scores_one = model_one.evaluate(val_set)"
   ]
  },
  {
   "cell_type": "code",
   "execution_count": 49,
   "id": "d41a96e1",
   "metadata": {},
   "outputs": [],
   "source": [
    "results.append({'name':'Model 1','mae':scores_one[0]})"
   ]
  },
  {
   "cell_type": "markdown",
   "id": "6b093c9e",
   "metadata": {},
   "source": [
    "### Model 2\n",
    "\n",
    "- Conv1D layer\n",
    "- LSTM x2\n",
    "- Dense x2\n",
    "- Output Dense"
   ]
  },
  {
   "cell_type": "code",
   "execution_count": 51,
   "id": "a93af171",
   "metadata": {},
   "outputs": [],
   "source": [
    "def build_model_two():\n",
    "\n",
    "    model = tf.keras.models.Sequential([ \n",
    "            tf.keras.layers.Conv1D(filters=64, kernel_size=3,\n",
    "                      strides=1,\n",
    "                      activation=\"relu\",\n",
    "                      padding='causal',\n",
    "                                  input_shape=[None, 1]),\n",
    "              tf.keras.layers.LSTM(64, return_sequences=True),\n",
    "              tf.keras.layers.LSTM(64),\n",
    "              tf.keras.layers.Dense(30, activation=\"relu\"),\n",
    "              tf.keras.layers.Dense(10, activation=\"relu\"),\n",
    "              tf.keras.layers.Dense(1),\n",
    "    ]) \n",
    "    \n",
    "    model.compile(loss='mae',\n",
    "                  optimizer='adam',\n",
    "                  metrics=[\"mae\"]) \n",
    "    \n",
    "    return model\n"
   ]
  },
  {
   "cell_type": "code",
   "execution_count": 52,
   "id": "9715ee7a",
   "metadata": {},
   "outputs": [
    {
     "name": "stdout",
     "output_type": "stream",
     "text": [
      "Model: \"sequential_1\"\n",
      "_________________________________________________________________\n",
      " Layer (type)                Output Shape              Param #   \n",
      "=================================================================\n",
      " conv1d (Conv1D)             (None, None, 64)          256       \n",
      "                                                                 \n",
      " lstm_2 (LSTM)               (None, None, 64)          33024     \n",
      "                                                                 \n",
      " lstm_3 (LSTM)               (None, 64)                33024     \n",
      "                                                                 \n",
      " dense_1 (Dense)             (None, 30)                1950      \n",
      "                                                                 \n",
      " dense_2 (Dense)             (None, 10)                310       \n",
      "                                                                 \n",
      " dense_3 (Dense)             (None, 1)                 11        \n",
      "                                                                 \n",
      "=================================================================\n",
      "Total params: 68575 (267.87 KB)\n",
      "Trainable params: 68575 (267.87 KB)\n",
      "Non-trainable params: 0 (0.00 Byte)\n",
      "_________________________________________________________________\n"
     ]
    }
   ],
   "source": [
    "model_two = build_model_two()\n",
    "model_two.summary()"
   ]
  },
  {
   "cell_type": "code",
   "execution_count": 53,
   "id": "939be11a",
   "metadata": {},
   "outputs": [],
   "source": [
    "history_two = model_two.fit(\n",
    "            train_set,\n",
    "            epochs=20,\n",
    "            verbose=0,\n",
    "            batch_size=64,\n",
    "            validation_data=val_set)"
   ]
  },
  {
   "cell_type": "code",
   "execution_count": 54,
   "id": "66f7e309",
   "metadata": {},
   "outputs": [
    {
     "name": "stdout",
     "output_type": "stream",
     "text": [
      "3/3 [==============================] - 0s 7ms/step - loss: 16.0378 - mae: 16.0378\n"
     ]
    }
   ],
   "source": [
    "scores_two = model_two.evaluate(val_set)"
   ]
  },
  {
   "cell_type": "code",
   "execution_count": 55,
   "id": "4032bf1d",
   "metadata": {},
   "outputs": [],
   "source": [
    "results.append({'name':'Model 2','mae':scores_two[0]})"
   ]
  },
  {
   "cell_type": "markdown",
   "id": "f8161d24",
   "metadata": {},
   "source": [
    "### Comparing results"
   ]
  },
  {
   "cell_type": "code",
   "execution_count": 56,
   "id": "a49162bc",
   "metadata": {},
   "outputs": [
    {
     "data": {
      "text/html": [
       "<div>\n",
       "<style scoped>\n",
       "    .dataframe tbody tr th:only-of-type {\n",
       "        vertical-align: middle;\n",
       "    }\n",
       "\n",
       "    .dataframe tbody tr th {\n",
       "        vertical-align: top;\n",
       "    }\n",
       "\n",
       "    .dataframe thead th {\n",
       "        text-align: right;\n",
       "    }\n",
       "</style>\n",
       "<table border=\"1\" class=\"dataframe\">\n",
       "  <thead>\n",
       "    <tr style=\"text-align: right;\">\n",
       "      <th></th>\n",
       "      <th>name</th>\n",
       "      <th>mae</th>\n",
       "    </tr>\n",
       "  </thead>\n",
       "  <tbody>\n",
       "    <tr>\n",
       "      <th>0</th>\n",
       "      <td>Naive Forecast</td>\n",
       "      <td>8.270276</td>\n",
       "    </tr>\n",
       "    <tr>\n",
       "      <th>1</th>\n",
       "      <td>Model 1</td>\n",
       "      <td>3.758896</td>\n",
       "    </tr>\n",
       "    <tr>\n",
       "      <th>2</th>\n",
       "      <td>Model 2</td>\n",
       "      <td>16.037830</td>\n",
       "    </tr>\n",
       "  </tbody>\n",
       "</table>\n",
       "</div>"
      ],
      "text/plain": [
       "             name        mae\n",
       "0  Naive Forecast   8.270276\n",
       "1         Model 1   3.758896\n",
       "2         Model 2  16.037830"
      ]
     },
     "execution_count": 56,
     "metadata": {},
     "output_type": "execute_result"
    }
   ],
   "source": [
    "results = pd.DataFrame(results)\n",
    "results"
   ]
  },
  {
   "cell_type": "code",
   "execution_count": 58,
   "id": "6e78451d",
   "metadata": {},
   "outputs": [
    {
     "data": {
      "image/png": "[encoded data removed]",
      "text/plain": [
       "<Figure size 640x480 with 1 Axes>"
      ]
     },
     "metadata": {},
     "output_type": "display_data"
    }
   ],
   "source": [
    "# Define colors for each bar\n",
    "colors = ['skyblue', 'orange', 'green']\n",
    "\n",
    "# Plotting the bar plot\n",
    "results.plot(x='name', y='mae', kind='bar', color=colors, legend=False)\n",
    "\n",
    "# Adding labels and title\n",
    "plt.xlabel('Name')\n",
    "plt.ylabel('MAE')\n",
    "plt.title('Comparing models')\n",
    "\n",
    "# Display the plot\n",
    "plt.show()"
   ]
  },
  {
   "cell_type": "markdown",
   "id": "e806a2c9",
   "metadata": {},
   "source": [
    "We can see that our best model is \"Model 1\"."
   ]
  },
  {
   "cell_type": "markdown",
   "id": "76a83f31",
   "metadata": {},
   "source": [
    "<a name=\"6\"></a>\n",
    "## <font color='green'> <b> 6. Making predictions </font> </b>\n",
    "\n",
    "We're gonna make predictions with the validation data and our best model."
   ]
  },
  {
   "cell_type": "code",
   "execution_count": 64,
   "id": "49216794",
   "metadata": {},
   "outputs": [
    {
     "name": "stdout",
     "output_type": "stream",
     "text": [
      "3/3 [==============================] - 1s 10ms/step\n"
     ]
    }
   ],
   "source": [
    "forecast = model_one.predict(val_set)"
   ]
  },
  {
   "cell_type": "code",
   "execution_count": 66,
   "id": "17719732",
   "metadata": {},
   "outputs": [
    {
     "data": {
      "text/plain": [
       "array([[112.98294],\n",
       "       [108.63103],\n",
       "       [ 96.72316]], dtype=float32)"
      ]
     },
     "execution_count": 66,
     "metadata": {},
     "output_type": "execute_result"
    }
   ],
   "source": [
    "forecast[:3] # first three"
   ]
  },
  {
   "cell_type": "code",
   "execution_count": 75,
   "id": "e3f67e84",
   "metadata": {},
   "outputs": [
    {
     "data": {
      "image/png": "[encoded data removed]",
      "text/plain": [
       "<Figure size 800x400 with 1 Axes>"
      ]
     },
     "metadata": {},
     "output_type": "display_data"
    }
   ],
   "source": [
    "# Plot the forecast\n",
    "plt.figure(figsize=(8, 4))\n",
    "plot_series(time_valid[G.WINDOW_SIZE:], series_valid[G.WINDOW_SIZE:], xlabel='Time', ylabel='Consumption',\n",
    "                       color='blue')\n",
    "plot_series(time_valid[G.WINDOW_SIZE:], forecast, xlabel='Time', ylabel='Consumption',\n",
    "               color='orange')\n",
    "\n",
    "# \n",
    "plt.xlim(time_valid[G.WINDOW_SIZE], time_valid[-1])\n",
    "\n",
    "plt.show()"
   ]
  },
  {
   "cell_type": "markdown",
   "id": "85e91cd5",
   "metadata": {},
   "source": [
    "<a name=\"annex\"></a>\n",
    "## <font color='green'> <b> ANNEX</font> </b>"
   ]
  },
  {
   "cell_type": "markdown",
   "id": "a1787719",
   "metadata": {},
   "source": [
    "<b> About windowing the dataset: </b>\n",
    "\n",
    "\n",
    "It's common practice to apply the windowing transformation separately to both the training and validation sets when working with time series data. However, the specifics of how you handle shuffling differ between the training and validation sets.\n",
    "\n",
    "<font color='#0E6655'> For the training set </font>\n",
    "\n",
    "- Shuffling the data is typically done to prevent the model from memorizing the order of the sequences and to introduce randomness, which can help in better generalization during training. \n",
    "- You should shuffle the training set.\n",
    "\n",
    "\n",
    "<font color='#0E6655'> For the validation set </font>\n",
    "\n",
    "- Shuffling is generally not necessary or desirable because you want to evaluate the model's performance on data that reflects the real temporal structure of the time series.\n",
    "- You should not shuffle the validation set.\n",
    "\n",
    "\n",
    "In summary, you should apply windowing to both the training and validation sets, but you should shuffle the training set and not shuffle the validation set. This ensures that your model learns from shuffled sequences during training while evaluating its performance on the original temporal structure during validation."
   ]
  },
  {
   "cell_type": "code",
   "execution_count": 84,
   "id": "a02e30d5",
   "metadata": {},
   "outputs": [],
   "source": [
    "# example of what the windowed dataset function does\n",
    "\n",
    "aux_data = [1,2,3,4,5,6,7,8]\n",
    "\n",
    "aux_windowed_data = windowed_dataset(aux_data, \n",
    "                     window_size=3, \n",
    "                     batch_size=32)\n"
   ]
  },
  {
   "cell_type": "code",
   "execution_count": 85,
   "id": "94569794",
   "metadata": {},
   "outputs": [
    {
     "data": {
      "text/plain": [
       "<_PrefetchDataset element_spec=(TensorSpec(shape=(None, None), dtype=tf.int32, name=None), TensorSpec(shape=(None,), dtype=tf.int32, name=None))>"
      ]
     },
     "execution_count": 85,
     "metadata": {},
     "output_type": "execute_result"
    }
   ],
   "source": [
    "aux_windowed_data"
   ]
  },
  {
   "cell_type": "code",
   "execution_count": 99,
   "id": "146c0e3e",
   "metadata": {},
   "outputs": [
    {
     "name": "stdout",
     "output_type": "stream",
     "text": [
      " Data\n",
      " [[5 6 7]\n",
      " [3 4 5]\n",
      " [4 5 6]\n",
      " [1 2 3]\n",
      " [2 3 4]], \n",
      "\n",
      "Labels\n",
      " [8 6 7 4 5]\n"
     ]
    }
   ],
   "source": [
    "for x,y in aux_windowed_data:\n",
    "    print(f\" Data\\n {x.numpy()}, \\n\\nLabels\\n {y.numpy()}\")"
   ]
  },
  {
   "cell_type": "markdown",
   "id": "47556196",
   "metadata": {},
   "source": [
    "For [5 6 7], the label is 8, for [3 4 5], is 6 ....."
   ]
  },
  {
   "cell_type": "code",
   "execution_count": null,
   "id": "a602f180",
   "metadata": {},
   "outputs": [],
   "source": []
  }
 ],
 "metadata": {
  "kernelspec": {
   "display_name": "Python 3 (ipykernel)",
   "language": "python",
   "name": "python3"
  },
  "language_info": {
   "codemirror_mode": {
    "name": "ipython",
    "version": 3
   },
   "file_extension": ".py",
   "mimetype": "text/x-python",
   "name": "python",
   "nbconvert_exporter": "python",
   "pygments_lexer": "ipython3",
   "version": "3.10.12"
  }
 },
 "nbformat": 4,
 "nbformat_minor": 5
}
