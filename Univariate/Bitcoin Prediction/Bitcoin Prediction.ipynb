{
 "cells": [
  {
   "cell_type": "markdown",
   "id": "b8658623",
   "metadata": {},
   "source": [
    "# <center> <b> <font color='blue'> BITCOIN PREDICTION </center> </b> </font>"
   ]
  },
  {
   "cell_type": "markdown",
   "id": "ed786151",
   "metadata": {},
   "source": [
    "## Table of Contents\n",
    "\n",
    "1. [Problem Statement](#1)\n",
    "2. [Setup](#2)\n",
    "3. [Helper Functions](#3)\n",
    "4. [Data Loading and pre-processing](#4)\n",
    "5. [Models](#5)\n",
    "6. [Comparing results](#6)\n",
    "7. [Hyperparameter Tuning](#7)\n",
    "8. [References](#References)"
   ]
  },
  {
   "cell_type": "markdown",
   "id": "099e3c20",
   "metadata": {},
   "source": [
    "<a name=\"1\"></a>\n",
    "## <font color='#1a5276'> <b> 1. Problem Statement </font> </b>\n",
    "\n",
    "We're going to be building a series of models in an attempt to predict the price of Bitcoin. "
   ]
  },
  {
   "cell_type": "markdown",
   "id": "49d49f1c",
   "metadata": {},
   "source": [
    "<a name=\"2\"></a>\n",
    "## <font color='#1a5276'> <b> 2. Setup </font> </b>"
   ]
  },
  {
   "cell_type": "code",
   "execution_count": 13,
   "id": "215b968f",
   "metadata": {},
   "outputs": [],
   "source": [
    "import pandas as pd\n",
    "import numpy as np\n",
    "import tensorflow as tf\n",
    "import matplotlib.pyplot as plt\n",
    "from tensorflow.keras import layers\n",
    "import os\n",
    "from dataclasses import dataclass"
   ]
  },
  {
   "cell_type": "code",
   "execution_count": 54,
   "id": "fbf412f0",
   "metadata": {},
   "outputs": [],
   "source": [
    "import logging\n",
    "tf.get_logger().setLevel(logging.ERROR)"
   ]
  },
  {
   "cell_type": "code",
   "execution_count": 14,
   "id": "3996a11d",
   "metadata": {},
   "outputs": [],
   "source": [
    "# Class for storing data\n",
    "@dataclass\n",
    "class G:\n",
    "    WINDOW_SIZE = 7\n",
    "    HORIZON = 1\n",
    "    BATCH_SIZE = 32"
   ]
  },
  {
   "cell_type": "markdown",
   "id": "07151fe9",
   "metadata": {},
   "source": [
    "<a name=\"3\"></a>\n",
    "## <font color='#1a5276'> <b> 3. Helper Functions </font> </b>"
   ]
  },
  {
   "cell_type": "markdown",
   "id": "1a4357bc",
   "metadata": {},
   "source": [
    "### Plots"
   ]
  },
  {
   "cell_type": "code",
   "execution_count": 113,
   "id": "5c99c1c9",
   "metadata": {},
   "outputs": [],
   "source": [
    "def plot_dataframe(dataframe, title, ylabel, figsize=(8, 5)):\n",
    "    dataframe.plot(figsize=figsize)\n",
    "    plt.ylabel(ylabel)\n",
    "    plt.title(title, fontsize=14)\n",
    "    plt.legend(fontsize=12)\n",
    "    \n",
    "    \n",
    "def plot_train_vs_test(X_train, y_train, X_test, y_test, title, ylabel, xlabel, figsize=(8,5)):\n",
    "    \"\"\"\n",
    "    X_train: np_array\n",
    "    y_train: np_array\n",
    "    ....\n",
    "    \"\"\"\n",
    "    plt.figure(figsize=figsize)\n",
    "    plt.scatter(X_train, y_train, s=5, label=\"Train data\")\n",
    "    plt.scatter(X_test, y_test, s=5, label=\"Test data\")\n",
    "    plt.title(title)\n",
    "    plt.xlabel(xlabel)\n",
    "    plt.ylabel(ylabel)\n",
    "    plt.legend(fontsize=12)\n",
    "    plt.show()\n",
    "    \n",
    "    \n",
    "# Create a function to plot time series data\n",
    "def plot_time_series(timesteps, values, format='.', start=0, end=None, label=None):\n",
    "    \"\"\"\n",
    "    Plots a timesteps (a series of points in time) against values (a series of values across timesteps).\n",
    "\n",
    "    Parameters\n",
    "    ---------\n",
    "    timesteps : array of timesteps\n",
    "    values : array of values across time\n",
    "    format : style of plot, default \".\"\n",
    "    start : where to start the plot (setting a value will index from start of timesteps & values)\n",
    "    end : where to end the plot (setting a value will index from end of timesteps & values)\n",
    "    label : label to show on plot of values\n",
    "    \"\"\"\n",
    "    # Plot the series\n",
    "    plt.plot(timesteps[start:end], values[start:end], format, label=label)\n",
    "    plt.xlabel(\"Time\")\n",
    "    plt.ylabel(\"BTC Price\")\n",
    "    if label:\n",
    "        plt.legend(fontsize=14) # make label bigger\n",
    "    plt.grid(True)\n",
    "    \n",
    "    \n",
    "    \"\"\"\n",
    "    Usage\n",
    "        plt.figure(figsize=(10, 7))\n",
    "        plot_time_series(timesteps=X_train, values=y_train, label=\"Train data\")\n",
    "        plot_time_series(timesteps=X_test, values=y_test, label=\"Test data\")\n",
    "    \"\"\"\n",
    "\n",
    "    \n",
    "    \n",
    "# true values vs forecast\n",
    "def plot_comparisson(timesteps, true_values, forecast_values , label_preds, offset=300, figsize=(7, 4)):\n",
    "    plt.figure(figsize=figsize)\n",
    "    # Account for the test_window offset and index into test_labels to ensure correct plotting\n",
    "    plot_time_series(timesteps=timesteps, values=true_values, start=offset, label=\"Test_data\")\n",
    "    plot_time_series(timesteps=timesteps, values=forecast_values, start=offset, format=\"-\", label=label_preds)"
   ]
  },
  {
   "cell_type": "markdown",
   "id": "820992ab",
   "metadata": {},
   "source": [
    "### Windowing dataset\n",
    "\n",
    "\n",
    "We've got to window our time series.\n",
    "\n",
    "Why do we window?\n",
    "\n",
    "Windowing is a method to turn a time series dataset into **supervised learning problem**. \n",
    "\n",
    "In other words, we want to use windows of the past to predict the future.\n",
    "\n",
    "For example for a univariate time series, windowing for one week (`window=7`) to predict the next single value (`horizon=1`) might look like:\n",
    "\n",
    "```\n",
    "Window for one week (univariate time series)\n",
    "\n",
    "[0, 1, 2, 3, 4, 5, 6] -> [7]\n",
    "[1, 2, 3, 4, 5, 6, 7] -> [8]\n",
    "[2, 3, 4, 5, 6, 7, 8] -> [9]\n",
    "```\n",
    "\n",
    "Or for the price of Bitcoin, it'd look like:\n",
    "\n",
    "```\n",
    "Window for one week with the target of predicting the next day (Bitcoin prices)\n",
    "\n",
    "[123.654, 125.455, 108.584, 118.674, 121.338, 120.655, 121.795] -> [123.033]\n",
    "[125.455, 108.584, 118.674, 121.338, 120.655, 121.795, 123.033] -> [124.049]\n",
    "[108.584, 118.674, 121.338, 120.655, 121.795, 123.033, 124.049] -> [125.961]\n",
    "```\n",
    "\n",
    "Let's build some functions which take in a univariate time series and turn it into windows and horizons of specified sizes."
   ]
  },
  {
   "cell_type": "markdown",
   "id": "d9362875",
   "metadata": {},
   "source": [
    "Now we'll write a function to take in an array and turn it into a window and horizon."
   ]
  },
  {
   "cell_type": "code",
   "execution_count": 5,
   "id": "9ec3b025",
   "metadata": {},
   "outputs": [],
   "source": [
    "# Create function to label windowed data\n",
    "def get_labelled_windows(x, horizon=1):\n",
    "  \"\"\"\n",
    "  Creates labels for windowed dataset.\n",
    "\n",
    "  E.g. if horizon=1 (default)\n",
    "  Input: [1, 2, 3, 4, 5, 6] -> Output: ([1, 2, 3, 4, 5], [6])\n",
    "  \"\"\"\n",
    "  return x[:, :-horizon], x[:, -horizon:]"
   ]
  },
  {
   "cell_type": "code",
   "execution_count": 6,
   "id": "094aad00",
   "metadata": {},
   "outputs": [
    {
     "name": "stdout",
     "output_type": "stream",
     "text": [
      "Window: [1 2 3 4 5 6 7] -> Label: 8\n"
     ]
    }
   ],
   "source": [
    "# Test out the window labelling function with window_size=7 and horizon=1\n",
    "test_window, test_label = get_labelled_windows(tf.expand_dims(tf.range(8)+1, axis=0), horizon=1)\n",
    "print(f\"Window: {tf.squeeze(test_window).numpy()} -> Label: {tf.squeeze(test_label).numpy()}\")"
   ]
  },
  {
   "cell_type": "markdown",
   "id": "9e750da5",
   "metadata": {},
   "source": [
    "Now we need a way to make windows for an entire time series.\n",
    "\n",
    "We could do this with Python for loops, however, for large time series, that'd be quite slow.\n",
    "\n",
    "To speed things up, we'll leverage [NumPy's array indexing](https://numpy.org/doc/stable/reference/arrays.indexing.html).\n",
    "\n",
    "Let's write a function which:\n",
    "1. Creates a window step of specific window size, for example: `[[0, 1, 2, 3, 4, 5, 6, 7]]`\n",
    "2. Uses NumPy indexing to create a 2D of multiple window steps, for example: \n",
    "```\n",
    "[[0, 1, 2, 3, 4, 5, 6, 7],\n",
    " [1, 2, 3, 4, 5, 6, 7, 8],\n",
    " [2, 3, 4, 5, 6, 7, 8, 9]]\n",
    "```\n",
    "3. Uses the 2D array of multuple window steps to index on a target series\n",
    "4. Uses the `get_labelled_windows()` function we created above to turn the window steps into windows with a specified horizon\n",
    "\n",
    "> 📖 **Resource:** The function created below has been adapted from Syafiq Kamarul Azman's article [*Fast and Robust Sliding Window Vectorization with NumPy*](https://towardsdatascience.com/fast-and-robust-sliding-window-vectorization-with-numpy-3ad950ed62f5)."
   ]
  },
  {
   "cell_type": "code",
   "execution_count": 8,
   "id": "cc3ecb61",
   "metadata": {},
   "outputs": [],
   "source": [
    "# Create function to view NumPy arrays as windows \n",
    "def make_windows(x, window_size=7, horizon=1):\n",
    "    \"\"\"\n",
    "    Turns a 1D array into a 2D array of sequential windows of window_size.\n",
    "    \"\"\"\n",
    "    # 1. Create a window of specific window_size (add the horizon on the end for later labelling)\n",
    "    window_step = np.expand_dims(np.arange(window_size+horizon), axis=0)\n",
    "    # print(f\"Window step:\\n {window_step}\")\n",
    "\n",
    "    # 2. Create a 2D array of multiple window steps (minus 1 to account for 0 indexing)\n",
    "    window_indexes = window_step + np.expand_dims(np.arange(len(x)-(window_size+horizon-1)), axis=0).T # create 2D array of windows of size window_size\n",
    "    # print(f\"Window indexes:\\n {window_indexes[:3], window_indexes[-3:], window_indexes.shape}\")\n",
    "\n",
    "    # 3. Index on the target array (time series) with 2D array of multiple window steps\n",
    "    windowed_array = x[window_indexes]\n",
    "\n",
    "    # 4. Get the labelled windows\n",
    "    windows, labels = get_labelled_windows(windowed_array, horizon=horizon)\n",
    "\n",
    "    return windows, labels"
   ]
  },
  {
   "cell_type": "markdown",
   "id": "9acae134",
   "metadata": {},
   "source": [
    "### Train/Test split"
   ]
  },
  {
   "cell_type": "code",
   "execution_count": 9,
   "id": "2ffcd8c2",
   "metadata": {},
   "outputs": [],
   "source": [
    "# Make the train/test splits\n",
    "def make_train_test_splits(windows, labels, test_split=0.2):\n",
    "    \"\"\"\n",
    "    Splits matching pairs of windows and labels into train and test splits.\n",
    "    \"\"\"\n",
    "    split_size = int(len(windows) * (1-test_split)) # this will default to 80% train/20% test\n",
    "    train_windows = windows[:split_size]\n",
    "    train_labels = labels[:split_size]\n",
    "    test_windows = windows[split_size:]\n",
    "    test_labels = labels[split_size:]\n",
    "    return train_windows, test_windows, train_labels, test_labels"
   ]
  },
  {
   "cell_type": "markdown",
   "id": "69622fb6",
   "metadata": {},
   "source": [
    "### Make a modelling checkpoint\n",
    "\n",
    "\n",
    "Because our model's performance will fluctuate from experiment to experiment, we'll want to make sure we're comparing apples to apples.\n",
    "\n",
    "What I mean by this is in order for a fair comparison, we want to compare each model's best performance against each model's best performance.\n",
    "\n",
    "For example, if `model_1` performed incredibly well on epoch 55 but its performance fell off toward epoch 100, we want the version of the model from epoch 55 to compare to other models rather than the version of the model from epoch 100.\n",
    "\n",
    "And the same goes for each of our other models: compare the best against the best.\n",
    "\n",
    "To take of this, we'll implement a [`ModelCheckpoint`](https://www.tensorflow.org/api_docs/python/tf/keras/callbacks/ModelCheckpoint) callback.\n",
    "\n",
    "The `ModelCheckpoint` callback will monitor our model's performance during training and save the best model to file by setting `save_best_only=True`.\n",
    "\n",
    "That way when evaluating our model we could restore its best performing configuration from file.\n",
    "\n",
    "> 🔑 **Note:** Because of the size of the dataset (smaller than usual), you'll notice our modelling experiment results fluctuate quite a bit during training (hence the implementation of the `ModelCheckpoint` callback to save the best model).\n",
    "\n",
    "Because we're going to be running multiple experiments, it makes sense to keep track of them by saving models to file under different names.\n",
    "\n",
    "To do this, we'll write a small function to create a `ModelCheckpoint` callback which saves a model to specified filename."
   ]
  },
  {
   "cell_type": "code",
   "execution_count": 10,
   "id": "9837b082",
   "metadata": {},
   "outputs": [],
   "source": [
    "# Create a function to implement a ModelCheckpoint callback with a specific filename \n",
    "def create_model_checkpoint(model_name, save_path=\"model_experiments\"):\n",
    "  return tf.keras.callbacks.ModelCheckpoint(filepath=os.path.join(save_path, model_name), # create filepath to save model\n",
    "                                            verbose=0, # only output a limited amount of text\n",
    "                                            save_best_only=True) # save only the best model to file"
   ]
  },
  {
   "cell_type": "markdown",
   "id": "1dadebd4",
   "metadata": {},
   "source": [
    "### Predictions"
   ]
  },
  {
   "cell_type": "code",
   "execution_count": 68,
   "id": "0460ff31",
   "metadata": {},
   "outputs": [],
   "source": [
    "# wrong way!!!\n",
    "# This way of making predictions is not correct, but it can be useful for a quick comparison of the models.\n",
    "def make_preds(model, input_data):\n",
    "  \"\"\"\n",
    "  Uses model to make predictions on input_data.\n",
    "\n",
    "  Parameters\n",
    "  ----------\n",
    "  model: trained model \n",
    "  input_data: windowed input data (same kind of data model was trained on)\n",
    "\n",
    "  Returns model predictions on input_data.\n",
    "  \"\"\"\n",
    "  forecast = model.predict(input_data)\n",
    "  return tf.squeeze(forecast) # return 1D array of predictions"
   ]
  },
  {
   "cell_type": "markdown",
   "id": "5c8db197",
   "metadata": {},
   "source": [
    "#### Right way to make predictions"
   ]
  },
  {
   "cell_type": "markdown",
   "id": "2065fa16",
   "metadata": {},
   "source": [
    "![flowchart representation prediction loop to make forecasts and then append forecasts to data and make more forecasts continuously until forecast horizon is exhausted](https://raw.githubusercontent.com/mrdbourke/tensorflow-deep-learning/main/images/10-prediction-loop-for-forecasts.png)\n",
    "*Example flow chart representing the loop we're about to create for making forecasts. Not pictured: retraining a forecasting model every time a forecast is made & new data is acquired. For example, if you're predicting the price of Bitcoin daily, you'd want to retrain your model every day, since each day you're going to have a new data point to work with.*\n",
    "\n",
    "Alright, let's create a function which returns `INTO_FUTURE` forecasted values using a trained model.\n",
    "\n",
    "To do so, we'll build the following steps:\n",
    "1. Function which takes as input: \n",
    "  * a list of values (the Bitcoin historical data)\n",
    "  * a trained model (such as `model_9`)\n",
    "  * a window into the future to predict (our `INTO_FUTURE` variable)\n",
    "  * the window size a model was trained on (`WINDOW_SIZE`) - the model can only predict on the same kind of data it was trained on\n",
    "2. Creates an empty list for future forecasts (this will be returned at the end of the function) and extracts the last `WINDOW_SIZE` values from the input values (predictions will start from the last `WINDOW_SIZE` values of the training data)\n",
    "3. Loop `INTO_FUTURE` times making a prediction on `WINDOW_SIZE` datasets which update to remove the first the value and append the latest prediction \n",
    "  * Eventually future predictions will be made using the model's own previous predictions as input.\n",
    "  \n",
    "  \n",
    "  \n",
    "  \n",
    "  \n",
    "  \n",
    "  \n",
    "```\n",
    "\n",
    "si este es mi cjto de validación\n",
    "\n",
    "window       true\n",
    "\n",
    "1 2 3   ->   4 5\n",
    "2 3 4   ->   5 6\n",
    "3 4 5   ->   6 7\n",
    "\n",
    "\n",
    "para las predicciones deslizo la ventana un paso a la vez\n",
    "\n",
    "window           preds\n",
    "\n",
    "1 2 3     ->   4.1 5.2\n",
    "2 3 4.1   ->   5.0 5.9\n",
    "3 4.1 5.0 ->   6.1 7.0\n",
    "\n",
    "\n",
    "después, comparo:\n",
    "\n",
    "|[4 5] - [4.1 5.2]|, |[5 6] - [5.0 5.9]|, |[6 7] - [6.1 7.0]| \n",
    "\n",
    "\n",
    "\n",
    "\n",
    "\n",
    "```\n",
    "\n",
    "  "
   ]
  },
  {
   "cell_type": "code",
   "execution_count": 295,
   "id": "570e42f1",
   "metadata": {},
   "outputs": [],
   "source": [
    "def make_future_forecast(model, initial_window, into_future, window_size=G.WINDOW_SIZE, verbose=True) -> np.ndarray:\n",
    "    \"\"\"\n",
    "    Makes future forecasts `into_future` steps after initial_window ends.\n",
    "    \n",
    "    Parameters:\n",
    "    - model: Trained forecasting model.\n",
    "    - initial_window: Starting window of values to make future predictions.\n",
    "    - into_future: Number of future steps to predict.\n",
    "    - window_size: Size of the window that the model expects.\n",
    "    \n",
    "    Returns:\n",
    "    - NumPy array of predictions of shape (into_future, horizon).\n",
    "    \"\"\"\n",
    "    future_forecast = []  # List to store all predictions\n",
    "    last_window = initial_window  # Initialize with the initial window\n",
    "    \n",
    "    for step in range(into_future):\n",
    "        # Make a prediction on the current window\n",
    "        future_pred = model.predict(tf.expand_dims(last_window, axis=0), verbose=0)\n",
    "        \n",
    "        # Log predictions if verbose is True\n",
    "        if verbose:\n",
    "            print(f\"Predicting on: \\n {last_window} -> Prediction: {tf.squeeze(future_pred).numpy()}\\n\")\n",
    "        \n",
    "        # Append the current prediction (horizon) to future_forecast\n",
    "        future_forecast.append(tf.squeeze(future_pred).numpy())\n",
    "        \n",
    "        # Update last_window by adding the latest prediction, keeping the window size\n",
    "        last_window = np.append(last_window, future_pred[0][0])[-window_size:]\n",
    "\n",
    "    # Convert the list of predictions to a NumPy array with shape (into_future, horizon)\n",
    "    return np.array(future_forecast)\n"
   ]
  },
  {
   "cell_type": "code",
   "execution_count": 296,
   "id": "448296f8",
   "metadata": {},
   "outputs": [],
   "source": [
    "#def make_future_forecast(values, model, into_future, window_size=WINDOW_SIZE) -> list:\n",
    "\n",
    "\n",
    "# lo voy a usar para compara\n",
    "\n",
    "\n",
    "# Create function to make predictions into the future; this function does NOT retrain the model!!\n",
    "def make_future_forecast_anterior(model, initial_window, into_future, window_size=G.WINDOW_SIZE, verbose=False) -> list:\n",
    "  \"\"\"\n",
    "  Makes future forecasts into_future steps after values ends.\n",
    "\n",
    "  Returns future forecasts as list of floats.\n",
    "  \"\"\"\n",
    "  # 2. Make an empty list for future forecasts/prepare data to forecast on\n",
    "  future_forecast = []\n",
    "  \n",
    "    \n",
    "  #last_window = values[-WINDOW_SIZE:] # only want preds from the last window (this will get updated)\n",
    "  last_window = initial_window\n",
    "\n",
    "\n",
    "\n",
    "  # 3. Make INTO_FUTURE number of predictions, altering the data which gets predicted on each time \n",
    "  for _ in range(into_future):\n",
    "    \n",
    "    # Predict on last window then append it again, again, again (model starts to make forecasts on its own forecasts)\n",
    "    future_pred = model.predict(tf.expand_dims(last_window, axis=0), verbose=0)\n",
    "    \n",
    "    if verbose:\n",
    "        print(f\"Predicting on: \\n {last_window} -> Prediction: {tf.squeeze(future_pred).numpy()}\\n\")\n",
    "    \n",
    "    # Append predictions to future_forecast\n",
    "    future_forecast.append(tf.squeeze(future_pred).numpy())\n",
    "    \n",
    "    #if verbose:\n",
    "    #    print(future_forecast)\n",
    "\n",
    "    # Update last window with new pred and get WINDOW_SIZE most recent preds (model was trained on WINDOW_SIZE windows)\n",
    "    \n",
    "    \n",
    "    # muevo la ventana de a 1 para comprara acorde!!!\n",
    "    \n",
    "    last_window = np.append(last_window, future_pred)[-window_size:]\n",
    "  \n",
    "  return future_forecast"
   ]
  },
  {
   "cell_type": "markdown",
   "id": "4c3963f4",
   "metadata": {},
   "source": [
    "> 🛠 **Exercise:** In terms of a forecasting model, what might another approach to our `make_future_forecasts()` function? Recall, that for making forecasts, you need to retrain a model each time you want to generate a new prediction. \n",
    ">\n",
    "> So perhaps you could try to: make a prediction (one timestep into the future), retrain a model with this new prediction appended to the data, make a prediction, append the prediction, retrain a model... etc. \n",
    ">\n",
    "> As it is, the `make_future_forecasts()` function skips the retraining of a model part."
   ]
  },
  {
   "cell_type": "markdown",
   "id": "24e86141",
   "metadata": {},
   "source": [
    "### Evaluation"
   ]
  },
  {
   "cell_type": "markdown",
   "id": "82e6e7f7",
   "metadata": {},
   "source": [
    "Time series forecasting often involves predicting a number (in our case, the price of Bitcoin).\n",
    "\n",
    "And what kind of problem is predicting a number?\n",
    "\n",
    "Regression.\n",
    "\n",
    "With this known, we can use regression evaluation metrics to evaluate our time series forecasts.\n",
    "\n",
    "The main thing we will be evaluating is: **how do our model's predictions (`y_pred`) compare against the actual values (`y_true` or *ground truth values*)**? \n",
    "\n",
    "> 📖 **Resource:** We're going to be using several metrics to evaluate our different model's time series forecast accuracy. Many of them are sourced and explained mathematically and conceptually in [Forecasting: Principles and Practice chapter 5.8](https://otexts.com/fpp3/accuracy.html).\n",
    "\n",
    "For all of the following metrics, **lower is better** (for example an MAE of 0 is better than an MAE 100).\n",
    "\n",
    "### Scale-dependent errors\n",
    "\n",
    "These are metrics which can be used to compare time series values and forecasts that are on the same scale.\n",
    "\n",
    "For example, Bitcoin historical prices in USD versus Bitcoin forecast values in USD.\n",
    "\n",
    "| Metric | Details | Code |\n",
    "| ----- | ----- | ----- |\n",
    "| **MAE** (mean absolute error) | Easy to interpret (a forecast is X amount different from actual amount). Forecast methods which minimises the MAE will lead to forecasts of the median. | [`tf.keras.metrics.mean_absolute_error()`](https://www.tensorflow.org/api_docs/python/tf/keras/metrics/MeanAbsoluteError) |\n",
    "| **RMSE** (root mean square error) | Forecasts which minimise the RMSE lead to forecasts of the mean. | `tf.sqrt(`[`tf.keras.metrics.mean_square_error()`](https://www.tensorflow.org/api_docs/python/tf/keras/metrics/RootMeanSquaredError)`)`|\n",
    "\n",
    "### Percentage errors\n",
    "\n",
    "Percentage errors do not have units, this means they can be used to compare forecasts across different datasets.\n",
    "\n",
    "| **Metric** | **Details** | **Code** |\n",
    "| ----- | ----- | ----- |\n",
    "| **MAPE** (mean absolute percentage error) | Most commonly used percentage error. May explode (not work) if `y=0`. | [`tf.keras.metrics.mean_absolute_percentage_error()`](https://www.tensorflow.org/api_docs/python/tf/keras/losses/MAPE) | \n",
    "| **sMAPE** (symmetric mean absolute percentage error) | Recommended not to be used by [Forecasting: Principles and Practice](https://otexts.com/fpp3/accuracy.html#percentage-errors), though it is used in forecasting competitions. | Custom implementation |\n",
    "\n",
    "### Scaled errors\n",
    "\n",
    "Scaled errors are an alternative to percentage errors when comparing forecast performance across different time series.\n",
    "\n",
    "| **Metric** | **Details** | **Code** |\n",
    "| ----- | ----- | ----- |\n",
    "| **MASE** (mean absolute scaled error). | MASE equals one for the naive forecast (or very close to one). A forecast which performs better than the naïve should get <1 MASE. | See sktime's [`mase_loss()`](https://github.com/alan-turing-institute/sktime/blob/ee7a06843a44f4aaec7582d847e36073a9ab0566/sktime/performance_metrics/forecasting/_functions.py#L16) |\n",
    "\n",
    "> 🤔 **Question:** There are so many metrics... which one should I pay most attention to? It's going to depend on your problem. However, since its ease of interpretation (you can explain it in a sentence to your grandma), MAE is often a very good place to start.\n",
    "\n",
    "Since we're going to be evaluing a lot of models, let's write a function to help us calculate evaluation metrics on their forecasts.\n",
    "\n"
   ]
  },
  {
   "cell_type": "code",
   "execution_count": 176,
   "id": "886c4a5a",
   "metadata": {},
   "outputs": [],
   "source": [
    "# single horizon\n",
    "def evaluate_preds(y_true, y_pred):\n",
    "    # Make sure float32 (for metric calculations)\n",
    "    y_true = tf.cast(y_true, dtype=tf.float32)\n",
    "    y_pred = tf.cast(y_pred, dtype=tf.float32)\n",
    "\n",
    "    # Calculate various metrics\n",
    "    mae = tf.keras.metrics.mean_absolute_error(y_true, y_pred)\n",
    "    mse = tf.keras.metrics.mean_squared_error(y_true, y_pred) # puts and emphasis on outliers (all errors get squared)\n",
    "    rmse = tf.sqrt(mse)\n",
    "    mape = tf.keras.metrics.mean_absolute_percentage_error(y_true, y_pred)\n",
    "    mase = mean_absolute_scaled_error(y_true, y_pred)\n",
    "\n",
    "    return {\"mae\": mae.numpy(),\n",
    "          \"mse\": mse.numpy(),\n",
    "          \"rmse\": rmse.numpy(),\n",
    "          \"mape\": mape.numpy(),\n",
    "          \"mase\": mase.numpy()}\n",
    "\n",
    "\n",
    "# multi-step horizon\n",
    "def evaluate_preds_generalized(y_true, y_pred):\n",
    "  # Make sure float32 (for metric calculations)\n",
    "  y_true = tf.cast(y_true, dtype=tf.float32)\n",
    "  y_pred = tf.cast(y_pred, dtype=tf.float32)\n",
    "\n",
    "  # Calculate various metrics\n",
    "  mae = tf.keras.metrics.mean_absolute_error(y_true, y_pred)\n",
    "  mse = tf.keras.metrics.mean_squared_error(y_true, y_pred)\n",
    "  rmse = tf.sqrt(mse)\n",
    "  mape = tf.keras.metrics.mean_absolute_percentage_error(y_true, y_pred)\n",
    "  mase = mean_absolute_scaled_error(y_true, y_pred)\n",
    "\n",
    "  # Account for different sized metrics (for longer horizons, reduce to single number)\n",
    "  if mae.ndim > 0: # if mae isn't already a scalar, reduce it to one by aggregating tensors to mean\n",
    "    mae = tf.reduce_mean(mae)\n",
    "    mse = tf.reduce_mean(mse)\n",
    "    rmse = tf.reduce_mean(rmse)\n",
    "    mape = tf.reduce_mean(mape)\n",
    "    mase = tf.reduce_mean(mase)\n",
    "\n",
    "  return {\"mae\": mae.numpy(),\n",
    "          \"mse\": mse.numpy(),\n",
    "          \"rmse\": rmse.numpy(),\n",
    "          \"mape\": mape.numpy(),\n",
    "          \"mase\": mase.numpy()}\n"
   ]
  },
  {
   "cell_type": "markdown",
   "id": "ab13bb59",
   "metadata": {},
   "source": [
    "<a name=\"4\"></a>\n",
    "## <font color='#1a5276'> <b> 4. Loading data, visualization</font> </b>"
   ]
  },
  {
   "cell_type": "markdown",
   "id": "335efcb2",
   "metadata": {},
   "source": [
    "### Get data\n",
    "\n",
    "We're going to get the prices of Bitcoin from 01 October 2013 to 18 May 2021."
   ]
  },
  {
   "cell_type": "code",
   "execution_count": 18,
   "id": "f38a45d2",
   "metadata": {},
   "outputs": [],
   "source": [
    "# Download Bitcoin historical data from GitHub \n",
    "# Note: you'll need to select \"Raw\" to download the data in the correct format\n",
    "#!wget https://raw.githubusercontent.com/mrdbourke/tensorflow-deep-learning/main/extras/BTC_USD_2013-10-01_2021-05-18-CoinDesk.csv "
   ]
  },
  {
   "cell_type": "code",
   "execution_count": 19,
   "id": "2355c35a",
   "metadata": {},
   "outputs": [
    {
     "name": "stdout",
     "output_type": "stream",
     "text": [
      "'10_time_series_forecasting_in_tensorflow (1).ipynb'\r\n",
      "'Bitcoin Prediction.ipynb'\r\n",
      " BTC_USD_2013-10-01_2021-05-18-CoinDesk.csv\r\n",
      " model_experiments\r\n"
     ]
    }
   ],
   "source": [
    "!ls"
   ]
  },
  {
   "cell_type": "markdown",
   "id": "9ac259f5",
   "metadata": {},
   "source": [
    "### Importing time series data with pandas\n",
    "\n",
    "\n",
    "Because our data is in **CSV (comma separated values)** format, we'll use the pandas [`read_csv()`](https://pandas.pydata.org/pandas-docs/stable/reference/api/pandas.read_csv.html) function.\n",
    "\n",
    "And because our data has a date component, we'll tell pandas to parse the dates using the `parse_dates` parameter passing it the name of our date column (\"Date\")."
   ]
  },
  {
   "cell_type": "code",
   "execution_count": 20,
   "id": "4cb90b5b",
   "metadata": {},
   "outputs": [
    {
     "data": {
      "text/html": [
       "<div>\n",
       "<style scoped>\n",
       "    .dataframe tbody tr th:only-of-type {\n",
       "        vertical-align: middle;\n",
       "    }\n",
       "\n",
       "    .dataframe tbody tr th {\n",
       "        vertical-align: top;\n",
       "    }\n",
       "\n",
       "    .dataframe thead th {\n",
       "        text-align: right;\n",
       "    }\n",
       "</style>\n",
       "<table border=\"1\" class=\"dataframe\">\n",
       "  <thead>\n",
       "    <tr style=\"text-align: right;\">\n",
       "      <th></th>\n",
       "      <th>Currency</th>\n",
       "      <th>Closing Price (USD)</th>\n",
       "      <th>24h Open (USD)</th>\n",
       "      <th>24h High (USD)</th>\n",
       "      <th>24h Low (USD)</th>\n",
       "    </tr>\n",
       "    <tr>\n",
       "      <th>Date</th>\n",
       "      <th></th>\n",
       "      <th></th>\n",
       "      <th></th>\n",
       "      <th></th>\n",
       "      <th></th>\n",
       "    </tr>\n",
       "  </thead>\n",
       "  <tbody>\n",
       "    <tr>\n",
       "      <th>2013-10-01</th>\n",
       "      <td>BTC</td>\n",
       "      <td>123.65499</td>\n",
       "      <td>124.30466</td>\n",
       "      <td>124.75166</td>\n",
       "      <td>122.56349</td>\n",
       "    </tr>\n",
       "    <tr>\n",
       "      <th>2013-10-02</th>\n",
       "      <td>BTC</td>\n",
       "      <td>125.45500</td>\n",
       "      <td>123.65499</td>\n",
       "      <td>125.75850</td>\n",
       "      <td>123.63383</td>\n",
       "    </tr>\n",
       "    <tr>\n",
       "      <th>2013-10-03</th>\n",
       "      <td>BTC</td>\n",
       "      <td>108.58483</td>\n",
       "      <td>125.45500</td>\n",
       "      <td>125.66566</td>\n",
       "      <td>83.32833</td>\n",
       "    </tr>\n",
       "    <tr>\n",
       "      <th>2013-10-04</th>\n",
       "      <td>BTC</td>\n",
       "      <td>118.67466</td>\n",
       "      <td>108.58483</td>\n",
       "      <td>118.67500</td>\n",
       "      <td>107.05816</td>\n",
       "    </tr>\n",
       "    <tr>\n",
       "      <th>2013-10-05</th>\n",
       "      <td>BTC</td>\n",
       "      <td>121.33866</td>\n",
       "      <td>118.67466</td>\n",
       "      <td>121.93633</td>\n",
       "      <td>118.00566</td>\n",
       "    </tr>\n",
       "  </tbody>\n",
       "</table>\n",
       "</div>"
      ],
      "text/plain": [
       "           Currency  Closing Price (USD)  24h Open (USD)  24h High (USD)  \\\n",
       "Date                                                                       \n",
       "2013-10-01      BTC            123.65499       124.30466       124.75166   \n",
       "2013-10-02      BTC            125.45500       123.65499       125.75850   \n",
       "2013-10-03      BTC            108.58483       125.45500       125.66566   \n",
       "2013-10-04      BTC            118.67466       108.58483       118.67500   \n",
       "2013-10-05      BTC            121.33866       118.67466       121.93633   \n",
       "\n",
       "            24h Low (USD)  \n",
       "Date                       \n",
       "2013-10-01      122.56349  \n",
       "2013-10-02      123.63383  \n",
       "2013-10-03       83.32833  \n",
       "2013-10-04      107.05816  \n",
       "2013-10-05      118.00566  "
      ]
     },
     "execution_count": 20,
     "metadata": {},
     "output_type": "execute_result"
    }
   ],
   "source": [
    "# Parse dates and set date column to index\n",
    "df = pd.read_csv(\"BTC_USD_2013-10-01_2021-05-18-CoinDesk.csv\", \n",
    "                 parse_dates=[\"Date\"], \n",
    "                 index_col=[\"Date\"]) # parse the date column (tell pandas column 1 is a datetime)\n",
    "df.head()"
   ]
  },
  {
   "cell_type": "code",
   "execution_count": 21,
   "id": "8a47032f",
   "metadata": {},
   "outputs": [
    {
     "name": "stdout",
     "output_type": "stream",
     "text": [
      "<class 'pandas.core.frame.DataFrame'>\n",
      "DatetimeIndex: 2787 entries, 2013-10-01 to 2021-05-18\n",
      "Data columns (total 5 columns):\n",
      " #   Column               Non-Null Count  Dtype  \n",
      "---  ------               --------------  -----  \n",
      " 0   Currency             2787 non-null   object \n",
      " 1   Closing Price (USD)  2787 non-null   float64\n",
      " 2   24h Open (USD)       2787 non-null   float64\n",
      " 3   24h High (USD)       2787 non-null   float64\n",
      " 4   24h Low (USD)        2787 non-null   float64\n",
      "dtypes: float64(4), object(1)\n",
      "memory usage: 130.6+ KB\n"
     ]
    }
   ],
   "source": [
    "df.info()"
   ]
  },
  {
   "cell_type": "markdown",
   "id": "88cd7961",
   "metadata": {},
   "source": [
    "We can see that there are no missing values.\n",
    "\n",
    "Because we told pandas to parse the date column and set it as the index, its not in the list of columns."
   ]
  },
  {
   "cell_type": "code",
   "execution_count": 22,
   "id": "d82b50a6",
   "metadata": {},
   "outputs": [
    {
     "data": {
      "text/plain": [
       "2787"
      ]
     },
     "execution_count": 22,
     "metadata": {},
     "output_type": "execute_result"
    }
   ],
   "source": [
    "# How many samples do we have?\n",
    "len(df)"
   ]
  },
  {
   "cell_type": "markdown",
   "id": "a22d8723",
   "metadata": {},
   "source": [
    "We've collected the historical price of Bitcoin for the past ~8 years but there's only 2787 total samples.\n",
    "\n",
    "This is something you'll run into with time series data problems. Often, the number of samples isn't as large as other kinds of data.\n",
    "\n",
    "For example, collecting one sample at different time frames results in:\n",
    "\n",
    "| 1 sample per timeframe | Number of samples per year |\n",
    "| ----- | ----- |\n",
    "| Second | 31,536,000 |\n",
    "| Hour | 8,760 |\n",
    "| Day | 365 |\n",
    "| Week | 52 |\n",
    "| Month | 12 |"
   ]
  },
  {
   "cell_type": "markdown",
   "id": "84eb31de",
   "metadata": {},
   "source": [
    "To simplify, let's remove some of the columns from our data so we're only left with a date index and the closing price."
   ]
  },
  {
   "cell_type": "code",
   "execution_count": 23,
   "id": "d7acf115",
   "metadata": {},
   "outputs": [
    {
     "data": {
      "text/html": [
       "<div>\n",
       "<style scoped>\n",
       "    .dataframe tbody tr th:only-of-type {\n",
       "        vertical-align: middle;\n",
       "    }\n",
       "\n",
       "    .dataframe tbody tr th {\n",
       "        vertical-align: top;\n",
       "    }\n",
       "\n",
       "    .dataframe thead th {\n",
       "        text-align: right;\n",
       "    }\n",
       "</style>\n",
       "<table border=\"1\" class=\"dataframe\">\n",
       "  <thead>\n",
       "    <tr style=\"text-align: right;\">\n",
       "      <th></th>\n",
       "      <th>Price</th>\n",
       "    </tr>\n",
       "    <tr>\n",
       "      <th>Date</th>\n",
       "      <th></th>\n",
       "    </tr>\n",
       "  </thead>\n",
       "  <tbody>\n",
       "    <tr>\n",
       "      <th>2013-10-01</th>\n",
       "      <td>123.65499</td>\n",
       "    </tr>\n",
       "    <tr>\n",
       "      <th>2013-10-02</th>\n",
       "      <td>125.45500</td>\n",
       "    </tr>\n",
       "    <tr>\n",
       "      <th>2013-10-03</th>\n",
       "      <td>108.58483</td>\n",
       "    </tr>\n",
       "    <tr>\n",
       "      <th>2013-10-04</th>\n",
       "      <td>118.67466</td>\n",
       "    </tr>\n",
       "    <tr>\n",
       "      <th>2013-10-05</th>\n",
       "      <td>121.33866</td>\n",
       "    </tr>\n",
       "  </tbody>\n",
       "</table>\n",
       "</div>"
      ],
      "text/plain": [
       "                Price\n",
       "Date                 \n",
       "2013-10-01  123.65499\n",
       "2013-10-02  125.45500\n",
       "2013-10-03  108.58483\n",
       "2013-10-04  118.67466\n",
       "2013-10-05  121.33866"
      ]
     },
     "execution_count": 23,
     "metadata": {},
     "output_type": "execute_result"
    }
   ],
   "source": [
    "# Only want closing price for each day \n",
    "bitcoin_prices = pd.DataFrame(df[\"Closing Price (USD)\"]).rename(columns={\"Closing Price (USD)\": \"Price\"})\n",
    "bitcoin_prices.head()"
   ]
  },
  {
   "cell_type": "code",
   "execution_count": 24,
   "id": "5a619eb8",
   "metadata": {},
   "outputs": [
    {
     "data": {
      "image/png": "[encoded data removed]",
      "text/plain": [
       "<Figure size 800x500 with 1 Axes>"
      ]
     },
     "metadata": {},
     "output_type": "display_data"
    }
   ],
   "source": [
    "plot_dataframe(bitcoin_prices, \"Price of Bitcoin from 1 Oct 2013 to 18 May 2021\", \"BTC Price\")"
   ]
  },
  {
   "cell_type": "markdown",
   "id": "fc3238bf",
   "metadata": {},
   "source": [
    "Woah, looks like it would've been a good idea to buy Bitcoin back in 2014."
   ]
  },
  {
   "cell_type": "markdown",
   "id": "67d8e68c",
   "metadata": {},
   "source": [
    "### Plot Train/Test Split\n",
    "\n",
    "Let's turn our DataFrame index and column into NumPy arrays."
   ]
  },
  {
   "cell_type": "code",
   "execution_count": 25,
   "id": "16610176",
   "metadata": {},
   "outputs": [
    {
     "data": {
      "text/plain": [
       "(array(['2013-10-01T00:00:00.000000000', '2013-10-02T00:00:00.000000000',\n",
       "        '2013-10-03T00:00:00.000000000', '2013-10-04T00:00:00.000000000',\n",
       "        '2013-10-05T00:00:00.000000000'], dtype='datetime64[ns]'),\n",
       " array([123.65499, 125.455  , 108.58483, 118.67466, 121.33866]))"
      ]
     },
     "execution_count": 25,
     "metadata": {},
     "output_type": "execute_result"
    }
   ],
   "source": [
    "# Get bitcoin date array\n",
    "timesteps = bitcoin_prices.index.to_numpy()\n",
    "prices = bitcoin_prices[\"Price\"].to_numpy()\n",
    "\n",
    "timesteps[:5], prices[:5]"
   ]
  },
  {
   "cell_type": "code",
   "execution_count": 26,
   "id": "63b13cc6",
   "metadata": {},
   "outputs": [
    {
     "data": {
      "text/plain": [
       "(2229, 558, 2229, 558)"
      ]
     },
     "execution_count": 26,
     "metadata": {},
     "output_type": "execute_result"
    }
   ],
   "source": [
    "# Create train and test splits the right way for time series data\n",
    "split_size = int(0.8 * len(prices)) # 80% train, 20% test\n",
    "\n",
    "# Create train data splits (everything before the split)\n",
    "X_train, y_train = timesteps[:split_size], prices[:split_size]\n",
    "\n",
    "# Create test data splits (everything after the split)\n",
    "X_test, y_test = timesteps[split_size:], prices[split_size:]\n",
    "\n",
    "len(X_train), len(X_test), len(y_train), len(y_test)"
   ]
  },
  {
   "cell_type": "code",
   "execution_count": 27,
   "id": "b6610a88",
   "metadata": {},
   "outputs": [
    {
     "data": {
      "image/png": "[encoded data removed]",
      "text/plain": [
       "<Figure size 800x500 with 1 Axes>"
      ]
     },
     "metadata": {},
     "output_type": "display_data"
    }
   ],
   "source": [
    "plot_train_vs_test(X_train, y_train, X_test, y_test, 'Train Test Split', 'Date', 'BTC Price')"
   ]
  },
  {
   "cell_type": "markdown",
   "id": "d3f561f6",
   "metadata": {},
   "source": [
    "We're going to be using the training set (past) to train a model to try and predict values on the test set (future).\n",
    "\n",
    "Because the test set is an *artificial* future, we can guage how our model might perform on *actual* future data.\n",
    "\n",
    "Is important to remember the test set is a pseudofuture and not the actual future, it is only meant to give you an indication of how the models you're building are performing. \n",
    "\n",
    "> 📖 **Resource:** Working with time series data can be tricky compared to other kinds of data. And there are a few pitfalls to watch out for, such as how much data to use for a test set. The article [*3 facts about time series forecasting that surprise experienced machine learning practitioners*](https://towardsdatascience.com/3-facts-about-time-series-forecasting-that-surprise-experienced-machine-learning-practitioners-69c18ee89387) talks about different things to watch out for when working with time series data.\n",
    "\n"
   ]
  },
  {
   "cell_type": "markdown",
   "id": "2cb61ed8",
   "metadata": {},
   "source": [
    "<a name=\"5\"></a>\n",
    "## <font color='#1a5276'> <b> 5. Pre-processing </font> </b>"
   ]
  },
  {
   "cell_type": "markdown",
   "id": "1f73e4d1",
   "metadata": {},
   "source": [
    "### Windowing"
   ]
  },
  {
   "cell_type": "code",
   "execution_count": 33,
   "id": "bdafd90d",
   "metadata": {},
   "outputs": [
    {
     "data": {
      "text/plain": [
       "(2780, 2780)"
      ]
     },
     "execution_count": 33,
     "metadata": {},
     "output_type": "execute_result"
    }
   ],
   "source": [
    "full_windows, full_labels = make_windows(prices, window_size=G.WINDOW_SIZE, horizon=G.HORIZON)\n",
    "len(full_windows), len(full_labels)"
   ]
  },
  {
   "cell_type": "code",
   "execution_count": 34,
   "id": "756b7830",
   "metadata": {},
   "outputs": [
    {
     "name": "stdout",
     "output_type": "stream",
     "text": [
      "Window: [123.65499 125.455   108.58483 118.67466 121.33866 120.65533 121.795  ] -> Label: [123.033]\n",
      "Window: [125.455   108.58483 118.67466 121.33866 120.65533 121.795   123.033  ] -> Label: [124.049]\n",
      "Window: [108.58483 118.67466 121.33866 120.65533 121.795   123.033   124.049  ] -> Label: [125.96116]\n"
     ]
    }
   ],
   "source": [
    "# View the first 3 windows/labels\n",
    "for i in range(3):\n",
    "  print(f\"Window: {full_windows[i]} -> Label: {full_labels[i]}\")"
   ]
  },
  {
   "cell_type": "code",
   "execution_count": 35,
   "id": "cc4dc7a0",
   "metadata": {},
   "outputs": [
    {
     "name": "stdout",
     "output_type": "stream",
     "text": [
      "Window: [58788.20967893 58102.19142623 55715.54665129 56573.5554719\n",
      " 52147.82118698 49764.1320816  50032.69313676] -> Label: [47885.62525472]\n",
      "Window: [58102.19142623 55715.54665129 56573.5554719  52147.82118698\n",
      " 49764.1320816  50032.69313676 47885.62525472] -> Label: [45604.61575361]\n",
      "Window: [55715.54665129 56573.5554719  52147.82118698 49764.1320816\n",
      " 50032.69313676 47885.62525472 45604.61575361] -> Label: [43144.47129086]\n"
     ]
    }
   ],
   "source": [
    "# View the last 3 windows/labels\n",
    "for i in range(3):\n",
    "  print(f\"Window: {full_windows[i-3]} -> Label: {full_labels[i-3]}\")"
   ]
  },
  {
   "cell_type": "markdown",
   "id": "8db79fe0",
   "metadata": {},
   "source": [
    "> 🔑 **Note:** You can find a function which achieves similar results to the ones we implemented above at [`tf.keras.preprocessing.timeseries_dataset_from_array()`](https://www.tensorflow.org/api_docs/python/tf/keras/preprocessing/timeseries_dataset_from_array). Just like ours, it takes in an array and returns a windowed dataset. It has the benefit of returning data in the form of a tf.data.Dataset instance (we'll see how to do this with our own data later)."
   ]
  },
  {
   "cell_type": "markdown",
   "id": "563d1908",
   "metadata": {},
   "source": [
    "### Train/Test Split"
   ]
  },
  {
   "cell_type": "code",
   "execution_count": 36,
   "id": "45a998ad",
   "metadata": {},
   "outputs": [
    {
     "data": {
      "text/plain": [
       "(2224, 556, 2224, 556)"
      ]
     },
     "execution_count": 36,
     "metadata": {},
     "output_type": "execute_result"
    }
   ],
   "source": [
    "train_windows, test_windows, train_labels, test_labels = make_train_test_splits(full_windows, full_labels)\n",
    "len(train_windows), len(test_windows), len(train_labels), len(test_labels)"
   ]
  },
  {
   "cell_type": "code",
   "execution_count": 37,
   "id": "ed5ecefc",
   "metadata": {},
   "outputs": [
    {
     "data": {
      "text/plain": [
       "(array([[123.65499, 125.455  , 108.58483, 118.67466, 121.33866, 120.65533,\n",
       "         121.795  ],\n",
       "        [125.455  , 108.58483, 118.67466, 121.33866, 120.65533, 121.795  ,\n",
       "         123.033  ],\n",
       "        [108.58483, 118.67466, 121.33866, 120.65533, 121.795  , 123.033  ,\n",
       "         124.049  ]]),\n",
       " array([[123.033  ],\n",
       "        [124.049  ],\n",
       "        [125.96116]]))"
      ]
     },
     "execution_count": 37,
     "metadata": {},
     "output_type": "execute_result"
    }
   ],
   "source": [
    "train_windows[:3], train_labels[:3]"
   ]
  },
  {
   "cell_type": "code",
   "execution_count": 39,
   "id": "94632d8b",
   "metadata": {},
   "outputs": [
    {
     "data": {
      "text/plain": [
       "True"
      ]
     },
     "execution_count": 39,
     "metadata": {},
     "output_type": "execute_result"
    }
   ],
   "source": [
    "# Check to see if same (accounting for horizon and window size)\n",
    "np.array_equal(np.squeeze(train_labels[:-G.HORIZON-1]), y_train[G.WINDOW_SIZE:])"
   ]
  },
  {
   "cell_type": "markdown",
   "id": "281b19d3",
   "metadata": {},
   "source": [
    "<a name=\"6\"></a>\n",
    "## <font color='#1a5276'> <b> 6. Modeling Experiments </font> </b>"
   ]
  },
  {
   "cell_type": "markdown",
   "id": "2385ec9d",
   "metadata": {},
   "source": [
    "Before we discuss what modelling experiments we're going to run, there are two terms you should be familiar with, **horizon** and **window**. \n",
    "  * **horizon** = number of timesteps to predict into future\n",
    "  * **window** = number of timesteps from past used to predict **horizon**\n",
    "\n",
    "For example, if we wanted to predict the price of Bitcoin for tomorrow (1 day in the future) using the previous week's worth of Bitcoin prices (7 days in the past), the horizon would be 1 and the window would be 7.\n",
    "\n",
    "Now, how about those modelling experiments?\n",
    "\n",
    "| Model Number | Model Type | Horizon size | Window size |\n",
    "| ----- | ----- | ----- | ----- | \n",
    "| 0 | Naïve model (baseline) | NA | NA |\n",
    "| 1 | Dense model | 1 | 7 | \n",
    "| 2 | Same as 1 | 1 | 30 | \n",
    "| 3 | Same as 1 | 7 | 30 | \n",
    "| 4 | Conv1D | 1 | 7 | \n",
    "| 5 | LSTM | 1 | 7 | \n",
    "| 6 | Ensemble (multiple models optimized on different loss functions) | 1 | 7 | \n",
    "| 7 | Future prediction model (model to predict future values) | 1 | 7 | \n"
   ]
  },
  {
   "cell_type": "code",
   "execution_count": 40,
   "id": "2143e743",
   "metadata": {},
   "outputs": [],
   "source": [
    "# Set random seed for as reproducible results as possible\n",
    "tf.random.set_seed(42)"
   ]
  },
  {
   "cell_type": "markdown",
   "id": "6d17dedd",
   "metadata": {},
   "source": [
    "<a name=\"6.1\"></a>\n",
    "### <font color='#1f618d'> <b> 6.1. Model 0 (Baseline): Naive Forecast </font> </b>"
   ]
  },
  {
   "cell_type": "markdown",
   "id": "cf382e5a",
   "metadata": {},
   "source": [
    "One of the most common baseline models for time series forecasting, the naïve model (also called the [naïve forecast](https://otexts.com/fpp3/simple-methods.html#na%C3%AFve-method)), requires no training at all.\n",
    "\n",
    "That's because all the naïve model does is use the previous timestep value to predict the next timestep value.\n",
    "\n",
    "The formula looks like this:\n",
    "\n",
    "$$\\hat{y}_{t} = y_{t-1}$$ \n",
    "\n",
    "In English: \n",
    "> The prediction at timestep `t` (y-hat) is equal to the value at timestep `t-1` (the previous timestep).\n",
    "\n",
    "\n",
    "In an open system (like a stock market or crypto market), you'll often find beating the naïve forecast with *any* kind of model is quite hard.\n",
    "\n",
    "> 🔑 **Note:** For the sake of this notebook, an **open system** is a system where inputs and outputs can freely flow, such as a market (stock or crypto). Where as, a **closed system** the inputs and outputs are contained within the system (like a poker game with your buddies, you know the buy in and you know how much the winner can get). Time series forecasting in **open systems** is generally quite poor."
   ]
  },
  {
   "cell_type": "code",
   "execution_count": 41,
   "id": "44568b44",
   "metadata": {},
   "outputs": [
    {
     "data": {
      "text/plain": [
       "(array([9226.48582088, 8794.35864452, 8798.04205463]),\n",
       " array([50032.69313676, 47885.62525472, 45604.61575361]))"
      ]
     },
     "execution_count": 41,
     "metadata": {},
     "output_type": "execute_result"
    }
   ],
   "source": [
    "# Create a naïve forecast\n",
    "naive_forecast = y_test[:-1] # Naïve forecast equals every value excluding the last value\n",
    "naive_forecast[:3], naive_forecast[-3:] # View first 3 and last 3 "
   ]
  },
  {
   "cell_type": "code",
   "execution_count": 42,
   "id": "f2090b89",
   "metadata": {},
   "outputs": [
    {
     "data": {
      "image/png": "[encoded data removed]",
      "text/plain": [
       "<Figure size 800x500 with 1 Axes>"
      ]
     },
     "metadata": {},
     "output_type": "display_data"
    }
   ],
   "source": [
    "# Plot naive forecast\n",
    "plt.figure(figsize=(8, 5))\n",
    "plot_time_series(timesteps=X_train, values=y_train, label=\"Train data\")\n",
    "plot_time_series(timesteps=X_test, values=y_test, label=\"Test data\")\n",
    "plot_time_series(timesteps=X_test[1:], values=naive_forecast, format=\"-\", label=\"Naive forecast\");"
   ]
  },
  {
   "cell_type": "markdown",
   "id": "7711eedc",
   "metadata": {},
   "source": [
    "The naive forecast looks like it's following the data well. \n",
    "\n",
    "Let's zoom in to take a better look.\n",
    "\n",
    "We can do so by creating an offset value and passing it to the `start` parameter of our `plot_time_series()` function."
   ]
  },
  {
   "cell_type": "code",
   "execution_count": 43,
   "id": "291b4b09",
   "metadata": {},
   "outputs": [
    {
     "data": {
      "image/png": "[encoded data removed]",
      "text/plain": [
       "<Figure size 800x500 with 1 Axes>"
      ]
     },
     "metadata": {},
     "output_type": "display_data"
    }
   ],
   "source": [
    "plt.figure(figsize=(8, 5))\n",
    "offset = 300 # offset the values by 300 timesteps \n",
    "plot_time_series(timesteps=X_test, values=y_test, start=offset, label=\"Test data\")\n",
    "plot_time_series(timesteps=X_test[1:], values=naive_forecast, format=\"-\", start=offset, label=\"Naive forecast\");"
   ]
  },
  {
   "cell_type": "markdown",
   "id": "410cb5a9",
   "metadata": {},
   "source": [
    "When we zoom in we see the naïve forecast comes slightly after the test data. This makes sense because the naive forecast uses the previous timestep value to predict the next timestep value."
   ]
  },
  {
   "cell_type": "code",
   "execution_count": 44,
   "id": "5c362e1e",
   "metadata": {},
   "outputs": [
    {
     "data": {
      "text/plain": [
       "{'mae': 567.9802,\n",
       " 'mse': 1147547.0,\n",
       " 'rmse': 1071.2362,\n",
       " 'mape': 2.5165248,\n",
       " 'mase': 0.99957}"
      ]
     },
     "execution_count": 44,
     "metadata": {},
     "output_type": "execute_result"
    }
   ],
   "source": [
    "naive_results = evaluate_preds(y_true=y_test[1:],\n",
    "                               y_pred=naive_forecast)\n",
    "naive_results"
   ]
  },
  {
   "cell_type": "markdown",
   "id": "b923616f",
   "metadata": {},
   "source": [
    "Taking a look at the naïve forecast's MAE, it seems on average each forecast is ~$567 different than the actual Bitcoin price.\n",
    "\n",
    "How does this compare to the average price of Bitcoin in the test dataset?"
   ]
  },
  {
   "cell_type": "code",
   "execution_count": 45,
   "id": "55ddcfc0",
   "metadata": {},
   "outputs": [
    {
     "data": {
      "text/plain": [
       "20056.632963737226"
      ]
     },
     "execution_count": 45,
     "metadata": {},
     "output_type": "execute_result"
    }
   ],
   "source": [
    "# Find average price of Bitcoin in test dataset\n",
    "tf.reduce_mean(y_test).numpy()"
   ]
  },
  {
   "cell_type": "markdown",
   "id": "626cac95",
   "metadata": {},
   "source": [
    "Okay, looking at these two values is starting to give us an idea of how our model is performing:\n",
    "* The average price of Bitcoin in the test dataset is: $20,056 (note: average may not be the best measure here, since the highest price is over 3x this value and the lowest price is over 4x lower)\n",
    "\n",
    "* Each prediction in naive forecast is on average off by: $567\n",
    "\n",
    "Is this enough to say it's a good model?\n",
    "\n",
    "That's up your own interpretation. Personally, I'd prefer a model which was closer to the mark.\n",
    "\n",
    "How about we try and build one?\n"
   ]
  },
  {
   "cell_type": "markdown",
   "id": "d4d54cee",
   "metadata": {},
   "source": [
    "<a name=\"6.2\"></a>\n",
    "### <font color='#1f618d'> <b> 6.2. Dense Model (window = 7, horizon = 1) </font> </b>"
   ]
  },
  {
   "cell_type": "code",
   "execution_count": 125,
   "id": "75c748e8",
   "metadata": {},
   "outputs": [],
   "source": [
    "def build_compile_model_one(name, horizon=G.HORIZON):\n",
    "    \n",
    "    model = tf.keras.Sequential([\n",
    "          layers.Dense(128, activation=\"relu\"),\n",
    "          layers.Dense(horizon, activation=\"linear\") # linear activation is the same as having no activation                        \n",
    "        ], name=name)\n",
    "    \n",
    "    model.compile(loss=\"mae\",\n",
    "                optimizer=tf.keras.optimizers.Adam(),\n",
    "                metrics=[\"mae\"])\n",
    "    \n",
    "    return model\n",
    "\n",
    "model_1 = build_compile_model_one(\"model_1_dense\")    \n"
   ]
  },
  {
   "cell_type": "code",
   "execution_count": 126,
   "id": "1dab1467",
   "metadata": {},
   "outputs": [],
   "source": [
    "# Fit model\n",
    "history_1 = model_1.fit(x=train_windows, # train windows of 7 timesteps of Bitcoin prices\n",
    "            y=train_labels, # horizon value of 1 (using the previous 7 timesteps to predict next day)\n",
    "            epochs=100,\n",
    "            verbose=0,\n",
    "            batch_size=G.BATCH_SIZE,\n",
    "            validation_data=(test_windows, test_labels),\n",
    "            callbacks=[create_model_checkpoint(model_name=model_1.name)]) # create ModelCheckpoint callback \n",
    "                                                                          # to save best model"
   ]
  },
  {
   "cell_type": "code",
   "execution_count": 127,
   "id": "c8dac659",
   "metadata": {},
   "outputs": [
    {
     "name": "stdout",
     "output_type": "stream",
     "text": [
      "18/18 [==============================] - 0s 1ms/step - loss: 626.9187 - mae: 626.9187\n"
     ]
    },
    {
     "data": {
      "text/plain": [
       "[626.918701171875, 626.918701171875]"
      ]
     },
     "execution_count": 127,
     "metadata": {},
     "output_type": "execute_result"
    }
   ],
   "source": [
    "# Evaluate model on test data\n",
    "model_1.evaluate(test_windows, test_labels)"
   ]
  },
  {
   "cell_type": "code",
   "execution_count": 128,
   "id": "4f577c02",
   "metadata": {},
   "outputs": [
    {
     "data": {
      "text/plain": [
       "626.918701171875"
      ]
     },
     "execution_count": 128,
     "metadata": {},
     "output_type": "execute_result"
    }
   ],
   "source": [
    "history_1.history['val_loss'][-1]"
   ]
  },
  {
   "cell_type": "markdown",
   "id": "4c19440e",
   "metadata": {},
   "source": [
    "You'll notice the model achieves the same `val_loss` (in this case, this is MAE) as the last epoch.\n",
    "\n",
    "But if we load in the version of `model_1` which was saved to file using the `ModelCheckpoint` callback, we should see an improvement in results."
   ]
  },
  {
   "cell_type": "code",
   "execution_count": 129,
   "id": "296d9107",
   "metadata": {},
   "outputs": [
    {
     "name": "stdout",
     "output_type": "stream",
     "text": [
      "18/18 [==============================] - 0s 1ms/step - loss: 584.2548 - mae: 584.2548\n"
     ]
    },
    {
     "data": {
      "text/plain": [
       "[584.2547607421875, 584.2547607421875]"
      ]
     },
     "execution_count": 129,
     "metadata": {},
     "output_type": "execute_result"
    }
   ],
   "source": [
    "# Load in saved best performing model_1 and evaluate on test data\n",
    "model_1 = tf.keras.models.load_model(\"model_experiments/model_1_dense\")\n",
    "model_1.evaluate(test_windows, test_labels)"
   ]
  },
  {
   "cell_type": "markdown",
   "id": "3d846921",
   "metadata": {},
   "source": [
    "Much better! Due to the fluctuating performance of the model during training, loading back in the best performing model see's a sizeable improvement in MAE."
   ]
  },
  {
   "cell_type": "markdown",
   "id": "589c455d",
   "metadata": {},
   "source": [
    "### Making predictions"
   ]
  },
  {
   "cell_type": "markdown",
   "id": "1de15bd5",
   "metadata": {},
   "source": [
    "#### Wrong way"
   ]
  },
  {
   "cell_type": "code",
   "execution_count": 130,
   "id": "75c6d43d",
   "metadata": {},
   "outputs": [
    {
     "name": "stdout",
     "output_type": "stream",
     "text": [
      "18/18 [==============================] - 0s 1ms/step\n"
     ]
    },
    {
     "data": {
      "text/plain": [
       "(552,\n",
       " <tf.Tensor: shape=(2,), dtype=float32, numpy=array([8894.005, 8895.237], dtype=float32)>)"
      ]
     },
     "execution_count": 130,
     "metadata": {},
     "output_type": "execute_result"
    }
   ],
   "source": [
    "# Make predictions using model_1 on the test dataset and view the results\n",
    "model_1_preds = make_preds(model_1, test_windows)\n",
    "len(model_1_preds), model_1_preds[:2]"
   ]
  },
  {
   "cell_type": "markdown",
   "id": "f87687c5",
   "metadata": {},
   "source": [
    "> 🔑 **Note:** With these outputs, our model isn't *forecasting* yet. It's only making predictions on the test dataset. Forecasting would involve a model making predictions into the future, however, the test dataset is only a pseudofuture.\n",
    "\n",
    "Excellent! Now we've got some prediction values, let's use the `evaluate_preds()` we created before to compare them to the ground truth."
   ]
  },
  {
   "cell_type": "code",
   "execution_count": 131,
   "id": "62cbc4fb",
   "metadata": {},
   "outputs": [
    {
     "data": {
      "text/plain": [
       "{'mae': 584.25464,\n",
       " 'mse': 1174845.0,\n",
       " 'rmse': 1083.9027,\n",
       " 'mape': 2.678053,\n",
       " 'mase': 1.0212828}"
      ]
     },
     "execution_count": 131,
     "metadata": {},
     "output_type": "execute_result"
    }
   ],
   "source": [
    "# Evaluate preds\n",
    "model_1_results = evaluate_preds(y_true=tf.squeeze(test_labels), # reduce to right shape\n",
    "                                 y_pred=model_1_preds)\n",
    "model_1_results"
   ]
  },
  {
   "cell_type": "markdown",
   "id": "f11339be",
   "metadata": {},
   "source": [
    "Little worse than Naive results."
   ]
  },
  {
   "cell_type": "code",
   "execution_count": 132,
   "id": "74c128f2",
   "metadata": {},
   "outputs": [
    {
     "data": {
      "image/png": "[encoded data removed]",
      "text/plain": [
       "<Figure size 700x400 with 1 Axes>"
      ]
     },
     "metadata": {},
     "output_type": "display_data"
    }
   ],
   "source": [
    "plot_comparisson(X_test[-len(test_windows):], test_labels[:, 0], model_1_preds, 'model_1_preds', \n",
    "                 figsize=(7, 4))"
   ]
  },
  {
   "cell_type": "markdown",
   "id": "cbe485b2",
   "metadata": {},
   "source": [
    "What's wrong with these predictions?\n",
    "\n",
    "As mentioned before, they're on the test dataset. So they're not actual forecasts.\n",
    "\n",
    "With our current model setup, how do you think we'd make forecasts for the future?\n",
    "\n",
    "Have a think about it for now, we'll cover this later on."
   ]
  },
  {
   "cell_type": "markdown",
   "id": "f5d7f0ff",
   "metadata": {},
   "source": [
    "#### Right way to forecast (but without re-training the model)"
   ]
  },
  {
   "cell_type": "code",
   "execution_count": 118,
   "id": "9b3e87ba",
   "metadata": {},
   "outputs": [],
   "source": [
    "future_forecast = make_future_forecast(model=model_1,\n",
    "                                       initial_window=y_train[-G.WINDOW_SIZE:],\n",
    "                                       into_future=len(test_labels),\n",
    "                                       window_size=G.WINDOW_SIZE)"
   ]
  },
  {
   "cell_type": "code",
   "execution_count": 119,
   "id": "c14cef70",
   "metadata": {},
   "outputs": [
    {
     "data": {
      "text/plain": [
       "(list, TensorShape([556]))"
      ]
     },
     "execution_count": 119,
     "metadata": {},
     "output_type": "execute_result"
    }
   ],
   "source": [
    "type(future_forecast), model_1_preds.shape"
   ]
  },
  {
   "cell_type": "code",
   "execution_count": 120,
   "id": "c58dacae",
   "metadata": {},
   "outputs": [],
   "source": [
    "# concert to a tensor\n",
    "future_forecast = tf.convert_to_tensor(future_forecast, dtype=tf.float32)"
   ]
  },
  {
   "cell_type": "code",
   "execution_count": 122,
   "id": "5b40a28b",
   "metadata": {},
   "outputs": [
    {
     "data": {
      "text/plain": [
       "{'mae': 10429.499,\n",
       " 'mse': 324664030.0,\n",
       " 'rmse': 18018.436,\n",
       " 'mape': 35.326904,\n",
       " 'mase': 18.230865}"
      ]
     },
     "execution_count": 122,
     "metadata": {},
     "output_type": "execute_result"
    }
   ],
   "source": [
    "model_1_results = evaluate_preds(y_true=tf.squeeze(test_labels), # reduce to right shape\n",
    "                                 y_pred=future_forecast)\n",
    "model_1_results"
   ]
  },
  {
   "cell_type": "markdown",
   "id": "7f1fb2ca",
   "metadata": {},
   "source": [
    "Terrible! However, we must keep in mind that we are looking 558 steps ahead (the length of the validation set), and at each step, we are accumulating previous errors. In a real-world problem, we wouldn’t look so far ahead; in this case, we might want to look one month ahead and then keep retraining the model."
   ]
  },
  {
   "cell_type": "code",
   "execution_count": 123,
   "id": "92d8e253",
   "metadata": {},
   "outputs": [
    {
     "data": {
      "image/png": "[encoded data removed]",
      "text/plain": [
       "<Figure size 700x400 with 1 Axes>"
      ]
     },
     "metadata": {},
     "output_type": "display_data"
    }
   ],
   "source": [
    "plot_comparisson(X_test[-len(test_windows):], test_labels[:, 0], future_forecast, 'model_1_preds', \n",
    "                 figsize=(7, 4))"
   ]
  },
  {
   "cell_type": "markdown",
   "id": "4a4c872e",
   "metadata": {},
   "source": [
    "Now, let's make predictions but re-training the model after 10 days.\n",
    "\n",
    "\n",
    "### <font color='red'> TODO!!!! </font>"
   ]
  },
  {
   "cell_type": "markdown",
   "id": "1dc6cfb2",
   "metadata": {},
   "source": [
    "<a name=\"6.3\"></a>\n",
    "### <font color='#1f618d'> <b> 6.3. Dense Model (window = 30, horizon = 1) </font> </b>"
   ]
  },
  {
   "cell_type": "markdown",
   "id": "71cfa3b0",
   "metadata": {},
   "source": [
    "We need to prepare the data for this model, which is different from the previous model because the window size changes."
   ]
  },
  {
   "cell_type": "markdown",
   "id": "2048fc35",
   "metadata": {},
   "source": [
    "### Preparing data"
   ]
  },
  {
   "cell_type": "code",
   "execution_count": 88,
   "id": "87e6cf00",
   "metadata": {},
   "outputs": [],
   "source": [
    "# hyperparameters\n",
    "HORIZON = 1 # predict one step at a time\n",
    "WINDOW_SIZE = 30 # use 30 timesteps in the past"
   ]
  },
  {
   "cell_type": "code",
   "execution_count": 89,
   "id": "4925b454",
   "metadata": {},
   "outputs": [
    {
     "data": {
      "text/plain": [
       "(2757, 2757)"
      ]
     },
     "execution_count": 89,
     "metadata": {},
     "output_type": "execute_result"
    }
   ],
   "source": [
    "# Make windowed data with appropriate horizon and window sizes\n",
    "full_windows, full_labels = make_windows(prices, window_size=WINDOW_SIZE, horizon=HORIZON)\n",
    "len(full_windows), len(full_labels)"
   ]
  },
  {
   "cell_type": "code",
   "execution_count": 90,
   "id": "a35abb78",
   "metadata": {},
   "outputs": [
    {
     "data": {
      "text/plain": [
       "(2205, 552, 2205, 552)"
      ]
     },
     "execution_count": 90,
     "metadata": {},
     "output_type": "execute_result"
    }
   ],
   "source": [
    "# Make train and testing windows\n",
    "train_windows, test_windows, train_labels, test_labels = make_train_test_splits(windows=full_windows, labels=full_labels)\n",
    "len(train_windows), len(test_windows), len(train_labels), len(test_labels)"
   ]
  },
  {
   "cell_type": "markdown",
   "id": "6058fe89",
   "metadata": {},
   "source": [
    "### Build, compile, fit and evaluation of the model"
   ]
  },
  {
   "cell_type": "code",
   "execution_count": 92,
   "id": "b4d9de11",
   "metadata": {},
   "outputs": [],
   "source": [
    "def build_compile_model_2(name, horizon):\n",
    "    \n",
    "    model = tf.keras.Sequential([\n",
    "        tf.keras.layers.Dense(128, activation='relu'),\n",
    "        tf.keras.layers.Dense(horizon)\n",
    "    ], name=name)\n",
    "    \n",
    "    model.compile(loss='mae',\n",
    "                  optimizer=tf.keras.optimizers.Adam())\n",
    "    \n",
    "    return model\n",
    "\n",
    "model_2 = build_compile_model_2('model_2_dense', HORIZON)\n"
   ]
  },
  {
   "cell_type": "code",
   "execution_count": 93,
   "id": "8f01637c",
   "metadata": {},
   "outputs": [],
   "source": [
    "# fit\n",
    "history_2 = model_2.fit(train_windows,\n",
    "            train_labels,\n",
    "            epochs=100,\n",
    "            batch_size=128,\n",
    "            verbose=0,\n",
    "            validation_data=(test_windows, test_labels),\n",
    "            callbacks=[create_model_checkpoint(model_name=model_2.name)])"
   ]
  },
  {
   "cell_type": "code",
   "execution_count": 94,
   "id": "be57ab31",
   "metadata": {},
   "outputs": [
    {
     "name": "stdout",
     "output_type": "stream",
     "text": [
      "18/18 [==============================] - 0s 1ms/step - loss: 649.9893\n"
     ]
    },
    {
     "data": {
      "text/plain": [
       "649.9892578125"
      ]
     },
     "execution_count": 94,
     "metadata": {},
     "output_type": "execute_result"
    }
   ],
   "source": [
    "# Evaluate model on test data\n",
    "model_2.evaluate(test_windows, test_labels)"
   ]
  },
  {
   "cell_type": "code",
   "execution_count": 95,
   "id": "4962b200",
   "metadata": {},
   "outputs": [
    {
     "name": "stdout",
     "output_type": "stream",
     "text": [
      "18/18 [==============================] - 0s 1ms/step - loss: 607.7044\n"
     ]
    },
    {
     "data": {
      "text/plain": [
       "607.7044067382812"
      ]
     },
     "execution_count": 95,
     "metadata": {},
     "output_type": "execute_result"
    }
   ],
   "source": [
    "# Load in saved best performing model_2 and evaluate on test data\n",
    "model_2 = tf.keras.models.load_model(\"model_experiments/model_2_dense\")\n",
    "model_2.evaluate(test_windows, test_labels)"
   ]
  },
  {
   "cell_type": "code",
   "execution_count": 116,
   "id": "28a7b165",
   "metadata": {},
   "outputs": [
    {
     "name": "stdout",
     "output_type": "stream",
     "text": [
      "18/18 [==============================] - 0s 1ms/step\n",
      "{'mae': 607.7046, 'mse': 1243346.0, 'rmse': 1115.0542, 'mape': 2.7127216, 'mase': 1.0622735}\n"
     ]
    },
    {
     "data": {
      "image/png": "[encoded data removed]",
      "text/plain": [
       "<Figure size 700x400 with 1 Axes>"
      ]
     },
     "metadata": {},
     "output_type": "display_data"
    }
   ],
   "source": [
    "# wrong forecast\n",
    "model_2_preds = make_preds(model_2, test_windows)\n",
    "\n",
    "\n",
    "model_2_results = evaluate_preds(y_true=tf.squeeze(test_labels),\n",
    "                                 y_pred=model_2_preds)\n",
    "\n",
    "print(model_2_results)\n",
    "\n",
    "plot_comparisson(X_test[-len(test_windows):], test_labels[:, 0], model_2_preds, 'model_2_preds', \n",
    "                 figsize=(7, 4))\n"
   ]
  },
  {
   "cell_type": "code",
   "execution_count": 109,
   "id": "ed3be1bc",
   "metadata": {},
   "outputs": [
    {
     "name": "stdout",
     "output_type": "stream",
     "text": [
      "{'mae': 13399.614, 'mse': 500865900.0, 'rmse': 22380.033, 'mape': 43.062965, 'mase': 23.422655}\n"
     ]
    }
   ],
   "source": [
    "# right way\n",
    "future_forecast_2 = make_future_forecast(model=model_2,\n",
    "                                       initial_window=y_train[-WINDOW_SIZE:],\n",
    "                                       into_future=len(test_labels),\n",
    "                                       window_size=WINDOW_SIZE)\n",
    "                                       \n",
    "# concert to a tensor\n",
    "future_forecast_2 = tf.convert_to_tensor(future_forecast_2, dtype=tf.float32)\n",
    "\n",
    "model_2_results = evaluate_preds(y_true=tf.squeeze(test_labels),\n",
    "                                 y_pred=future_forecast_2)\n",
    "\n",
    "print(model_2_results)"
   ]
  },
  {
   "cell_type": "code",
   "execution_count": 115,
   "id": "addfa8b8",
   "metadata": {},
   "outputs": [
    {
     "data": {
      "image/png": "[encoded data removed]",
      "text/plain": [
       "<Figure size 800x500 with 1 Axes>"
      ]
     },
     "metadata": {},
     "output_type": "display_data"
    }
   ],
   "source": [
    "plot_comparisson(X_test[-len(test_windows):], test_labels[:, 0], future_forecast_2, 'model_2_preds', figsize=(8, 5))"
   ]
  },
  {
   "cell_type": "markdown",
   "id": "6452d3af",
   "metadata": {},
   "source": [
    "<a name=\"6.4\"></a>\n",
    "### <font color='#1f618d'> <b> 6.3. Dense Model (window = 30, horizon = 7) </font> </b>"
   ]
  },
  {
   "cell_type": "code",
   "execution_count": 305,
   "id": "865a075c",
   "metadata": {},
   "outputs": [],
   "source": [
    "HORIZON = 7\n",
    "WINDOW_SIZE = 30"
   ]
  },
  {
   "cell_type": "markdown",
   "id": "45f0a8ae",
   "metadata": {},
   "source": [
    "### Preparing data"
   ]
  },
  {
   "cell_type": "code",
   "execution_count": 306,
   "id": "bee19471",
   "metadata": {},
   "outputs": [
    {
     "data": {
      "text/plain": [
       "(2751, 2751)"
      ]
     },
     "execution_count": 306,
     "metadata": {},
     "output_type": "execute_result"
    }
   ],
   "source": [
    "full_windows, full_labels = make_windows(prices, window_size=WINDOW_SIZE, horizon=HORIZON)\n",
    "len(full_windows), len(full_labels)"
   ]
  },
  {
   "cell_type": "code",
   "execution_count": 307,
   "id": "fea2d295",
   "metadata": {},
   "outputs": [
    {
     "data": {
      "text/plain": [
       "(array([59822.90167743, 59853.19724227, 63223.88439079, 62926.5571759 ,\n",
       "        63346.78903511, 61965.7825981 , 60574.44472823, 56850.83016569,\n",
       "        56224.10158771, 56608.76974839, 54144.42747606, 51965.05955941,\n",
       "        50669.14438218, 50733.76950364, 48542.95220298, 53558.70784462,\n",
       "        55123.86198142, 54591.51532554, 53260.29534115, 57302.64642408,\n",
       "        57677.9752219 , 56427.04312502, 57255.30683756, 53658.84312082,\n",
       "        57252.7021845 , 56583.84987917, 57107.12067189, 58788.20967893,\n",
       "        58102.19142623, 55715.54665129]),\n",
       " array([56573.5554719 , 52147.82118698, 49764.1320816 , 50032.69313676,\n",
       "        47885.62525472, 45604.61575361, 43144.47129086]),\n",
       " (30,),\n",
       " (7,))"
      ]
     },
     "execution_count": 307,
     "metadata": {},
     "output_type": "execute_result"
    }
   ],
   "source": [
    "full_windows[-1], full_labels[-1], full_windows[-1].shape, full_labels[-1].shape"
   ]
  },
  {
   "cell_type": "code",
   "execution_count": 308,
   "id": "48f64d5b",
   "metadata": {},
   "outputs": [
    {
     "data": {
      "text/plain": [
       "(2200, 551, 2200, 551)"
      ]
     },
     "execution_count": 308,
     "metadata": {},
     "output_type": "execute_result"
    }
   ],
   "source": [
    "train_windows, test_windows, train_labels, test_labels = make_train_test_splits(windows=full_windows, labels=full_labels, test_split=0.2)\n",
    "len(train_windows), len(test_windows), len(train_labels), len(test_labels)"
   ]
  },
  {
   "cell_type": "markdown",
   "id": "9067acac",
   "metadata": {},
   "source": [
    "### Build, compile and fit the model"
   ]
  },
  {
   "cell_type": "code",
   "execution_count": null,
   "id": "0180a284",
   "metadata": {},
   "outputs": [],
   "source": [
    "def build_compile_model_3(name, horizon):\n",
    "    \n",
    "    model = tf.keras.Sequential([\n",
    "      layers.Dense(256, activation=\"relu\"),\n",
    "      layers.Dense(128, activation=\"relu\"),\n",
    "      layers.Dense(horizon)\n",
    "    ], name=name)\n",
    "\n",
    "    model.compile(loss=\"mae\",\n",
    "                optimizer=tf.keras.optimizers.Adam())\n",
    "    \n",
    "    return model\n",
    "\n",
    "\n",
    "model_3 = build_compile_model_3('model_3_dense', HORIZON)\n"
   ]
  },
  {
   "cell_type": "code",
   "execution_count": 311,
   "id": "47991ae3",
   "metadata": {},
   "outputs": [
    {
     "data": {
      "text/plain": [
       "<keras.src.callbacks.History at 0x75059e178f10>"
      ]
     },
     "execution_count": 311,
     "metadata": {},
     "output_type": "execute_result"
    }
   ],
   "source": [
    "model_3.fit(train_windows,\n",
    "            train_labels,\n",
    "            batch_size=32,\n",
    "            epochs=100,\n",
    "            verbose=0,\n",
    "            validation_data=(test_windows, test_labels),\n",
    "            callbacks=[create_model_checkpoint(model_name=model_3.name)])"
   ]
  },
  {
   "cell_type": "code",
   "execution_count": 312,
   "id": "bee507ee",
   "metadata": {},
   "outputs": [
    {
     "name": "stdout",
     "output_type": "stream",
     "text": [
      "18/18 [==============================] - 0s 2ms/step - loss: 1434.8241\n"
     ]
    },
    {
     "data": {
      "text/plain": [
       "1434.8240966796875"
      ]
     },
     "execution_count": 312,
     "metadata": {},
     "output_type": "execute_result"
    }
   ],
   "source": [
    "# How did our model with a larger window size and horizon go?\n",
    "model_3.evaluate(test_windows, test_labels)"
   ]
  },
  {
   "cell_type": "code",
   "execution_count": 313,
   "id": "6a02bea2",
   "metadata": {},
   "outputs": [
    {
     "name": "stdout",
     "output_type": "stream",
     "text": [
      "18/18 [==============================] - 0s 1ms/step - loss: 1192.3965\n"
     ]
    },
    {
     "data": {
      "text/plain": [
       "1192.396484375"
      ]
     },
     "execution_count": 313,
     "metadata": {},
     "output_type": "execute_result"
    }
   ],
   "source": [
    "# Load in best version of model_3 and evaluate\n",
    "model_3 = tf.keras.models.load_model(\"model_experiments/model_3_dense/\")\n",
    "model_3.evaluate(test_windows, test_labels)"
   ]
  },
  {
   "cell_type": "markdown",
   "id": "78dbda1e",
   "metadata": {},
   "source": [
    "In this case, the error will be higher because we're predicting 7 steps at a time. \n",
    "\n",
    "This makes sense though because the further you try and predict, the larger your error will be (think of trying to predict the weather 7 days in advance).\n",
    "\n",
    "Let's make predictions with our model using the `make_preds()` function and evaluate them using the `evaluate_preds()` function."
   ]
  },
  {
   "cell_type": "code",
   "execution_count": 314,
   "id": "a35d5d2f",
   "metadata": {},
   "outputs": [
    {
     "name": "stdout",
     "output_type": "stream",
     "text": [
      "18/18 [==============================] - 0s 1ms/step\n"
     ]
    },
    {
     "data": {
      "text/plain": [
       "(<tf.Tensor: shape=(3, 7), dtype=float32, numpy=\n",
       " array([[9249.082 , 9382.199 , 9404.228 , 9645.166 , 9591.238 , 9663.48  ,\n",
       "         9711.713 ],\n",
       "        [8871.3545, 8964.363 , 8946.852 , 9223.041 , 9159.148 , 9198.675 ,\n",
       "         9245.831 ],\n",
       "        [8794.443 , 8885.74  , 8876.096 , 9149.589 , 9087.293 , 9101.575 ,\n",
       "         9129.052 ]], dtype=float32)>,\n",
       " TensorShape([551, 7]))"
      ]
     },
     "execution_count": 314,
     "metadata": {},
     "output_type": "execute_result"
    }
   ],
   "source": [
    "# The predictions are going to be 7 steps at a time (this is the HORIZON size)\n",
    "model_3_preds = make_preds(model_3,\n",
    "                           input_data=test_windows)\n",
    "model_3_preds[:3], model_3_preds.shape"
   ]
  },
  {
   "cell_type": "code",
   "execution_count": 315,
   "id": "0f236e89",
   "metadata": {},
   "outputs": [
    {
     "data": {
      "text/plain": [
       "{'mae': array([ 727.80023 ,  369.16016 ,  381.03793 ,  627.86066 ,  554.9134  ,\n",
       "         536.6414  ,  585.2585  ,  520.8423  ,  429.64545 ,  536.04645 ,\n",
       "         789.5054  ,  789.06165 ,  880.9882  ,  946.71826 ,  711.9747  ,\n",
       "         353.73862 ,  239.43422 ,  185.06229 ,  163.78084 ,  146.78397 ,\n",
       "         194.09793 ,  210.57498 ,  415.57877 ,  416.37018 ,  225.16002 ,\n",
       "         161.84738 ,  133.2816  ,   80.61321 ,  168.64125 ,  297.78787 ,\n",
       "         342.67703 ,  484.44156 ,  370.97202 ,  388.12006 ,  322.74805 ,\n",
       "         372.00406 ,  364.95633 ,  270.16873 ,  238.91518 ,  213.96574 ,\n",
       "         537.2952  ,   74.21045 ,   62.967144,   62.764927,  159.58127 ,\n",
       "         150.71951 ,   98.47698 ,  113.88239 ,  143.74107 ,  101.552246,\n",
       "         135.90584 ,  206.72908 ,  268.03168 ,  228.33098 ,  233.93855 ,\n",
       "         327.2391  ,  491.03098 ,  394.6137  ,  374.12418 ,  489.7569  ,\n",
       "         248.49309 ,  162.49763 ,  265.4301  ,  369.18863 ,  331.13022 ,\n",
       "         394.94977 ,  375.57172 ,  406.48102 ,  152.71945 ,  337.1416  ,\n",
       "         338.3146  ,  496.02762 ,  650.23505 ,  439.88727 ,  353.47894 ,\n",
       "         363.94418 ,  322.3983  ,  307.1723  ,  427.382   ,  653.0983  ,\n",
       "         736.6494  ,  477.69992 ,  227.26074 ,  172.95354 ,  235.98299 ,\n",
       "         211.2592  ,  203.631   ,  252.26465 ,  322.99985 ,  548.0781  ,\n",
       "         309.26422 ,  280.0544  ,  208.4926  ,  164.13477 ,  296.5703  ,\n",
       "         336.24664 ,  440.86188 ,  706.8849  ,  662.6518  ,  850.13855 ,\n",
       "         557.8965  ,  346.37543 ,  214.4569  ,  519.38116 ,  345.6497  ,\n",
       "         426.69867 ,  597.5063  ,  781.09906 , 1106.8479  , 1070.8584  ,\n",
       "         863.9089  ,  329.24985 ,  193.85281 ,  215.19002 ,  194.82701 ,\n",
       "         253.41023 ,  332.91986 ,  434.4419  ,  579.9476  , 1164.7482  ,\n",
       "        1787.9791  , 2180.996   , 2043.4089  , 2110.3577  , 2398.3892  ,\n",
       "        2734.3413  , 1102.6089  ,  704.71924 ,  500.27582 ,  379.09103 ,\n",
       "         259.95905 ,  248.97496 ,  233.41357 ,  249.21533 ,  361.79346 ,\n",
       "         301.6978  ,  257.40945 ,  268.40408 ,  398.83902 ,  274.0646  ,\n",
       "         400.23828 ,  523.1148  ,  860.5865  , 1342.9128  ,  812.2874  ,\n",
       "         751.5459  ,  633.3803  ,  154.80971 ,  189.1764  ,  219.13058 ,\n",
       "         250.2131  ,  300.25272 ,  306.76416 ,  527.30963 ,  462.62234 ,\n",
       "         140.88713 ,  202.35498 ,  127.9128  ,  171.8946  ,  174.34724 ,\n",
       "         236.82059 ,  222.36223 ,  227.38107 ,  232.68367 ,  206.96436 ,\n",
       "         367.3533  ,  518.86884 ,  677.04315 ,  411.4834  ,  542.189   ,\n",
       "         701.95935 ,  859.40106 ,  838.31555 ,  966.38635 ,  238.87961 ,\n",
       "         223.34807 ,  299.49414 ,  266.36942 ,  343.04535 ,  440.26743 ,\n",
       "         575.1034  ,  628.66266 ,  834.69965 , 1086.2332  ,  895.9067  ,\n",
       "         212.39299 ,  524.7323  ,  607.227   ,  316.08676 ,  292.93903 ,\n",
       "         226.02943 ,  280.4647  ,  359.06586 ,  469.4012  ,  523.8034  ,\n",
       "         491.27652 ,  240.65988 ,  248.8164  ,  313.55023 ,  275.3344  ,\n",
       "         453.20535 ,  662.4068  ,  604.0089  ,  253.66365 ,  216.46387 ,\n",
       "         295.11844 ,  192.56502 ,  636.25165 ,  203.61719 ,  106.17843 ,\n",
       "         278.65582 ,  171.49037 ,  184.73953 ,  352.3997  ,  517.1536  ,\n",
       "         514.1317  ,  670.059   ,  222.68457 ,  265.87094 ,  346.12125 ,\n",
       "         239.4965  ,  191.32254 ,  277.1914  ,  225.64662 ,  139.24289 ,\n",
       "         131.89803 ,  208.86873 ,  222.66267 ,  481.79605 ,  609.8454  ,\n",
       "         346.60297 ,  371.97922 ,  206.06082 ,   41.040596,   81.45759 ,\n",
       "         212.42271 ,  126.520645,  206.81654 ,  143.57059 ,  103.50404 ,\n",
       "          47.016323,  105.88825 ,   91.57129 ,  170.1116  ,  375.24945 ,\n",
       "         220.3259  ,  188.88281 ,  183.83719 ,  199.99944 ,  203.25684 ,\n",
       "         220.24178 ,  181.64314 ,  151.23256 ,  150.59055 ,  148.99162 ,\n",
       "         230.02107 ,  516.12933 ,  566.5358  ,  689.87164 ,  777.4202  ,\n",
       "        1012.7437  , 1205.133   , 1194.3679  ,  180.10017 ,  182.20676 ,\n",
       "         249.64355 ,  250.72684 ,  277.8538  ,  541.52734 ,  116.873184,\n",
       "         113.39593 ,  220.39914 ,  351.29868 ,  442.61313 ,  430.12723 ,\n",
       "         429.90598 ,  332.90765 ,  261.93066 ,  235.90584 ,  252.11955 ,\n",
       "         121.700195,  197.35031 ,  231.55887 ,  250.77734 ,  533.55524 ,\n",
       "         513.4757  ,  261.5893  ,  439.97195 ,  325.9615  ,  401.13715 ,\n",
       "         377.93442 ,  487.5173  ,  177.90096 ,  148.7369  ,  271.73187 ,\n",
       "         384.74664 ,  687.5169  ,  921.06934 , 1197.0956  , 1626.6796  ,\n",
       "        1470.9707  ,  818.38477 ,  508.39133 ,  129.86887 ,  143.63351 ,\n",
       "         187.80106 ,  179.00027 ,  307.64258 ,  253.92662 ,  309.82016 ,\n",
       "         311.05106 ,  350.62918 ,  148.4407  ,  167.7532  ,  474.4022  ,\n",
       "         511.1084  ,  446.8157  ,  537.0463  ,  371.0798  ,  135.78014 ,\n",
       "          93.81738 ,  132.78934 ,  156.37137 ,  349.95926 ,  389.012   ,\n",
       "         361.42523 ,  381.46625 ,  333.7422  ,  266.7232  ,  216.98508 ,\n",
       "         166.02846 ,  234.45773 ,  280.03696 ,  321.1511  ,  467.9488  ,\n",
       "         554.13855 ,  452.23648 ,  255.78404 ,  166.76213 ,  260.66922 ,\n",
       "         424.00504 ,  291.17523 ,  377.8609  ,  540.0282  ,  674.8698  ,\n",
       "         919.3549  , 1053.8123  ,  926.00586 ,  957.143   ,  209.26437 ,\n",
       "         293.7984  ,  119.233955,  205.7408  ,  164.58133 ,  221.6282  ,\n",
       "         306.821   ,  141.03795 ,  379.53793 ,  546.9999  ,  489.54605 ,\n",
       "         680.2673  ,  951.041   ,  960.0254  ,  997.6862  ,  350.33414 ,\n",
       "         418.69824 ,  364.11578 ,  243.32756 ,  391.12277 ,  906.5614  ,\n",
       "         819.746   ,  630.13043 ,  813.2656  , 1211.9108  , 1544.5404  ,\n",
       "        1243.0929  ,  601.65594 ,  358.2793  ,  577.72797 ,  829.2946  ,\n",
       "        1173.8965  , 1154.5173  , 1015.7999  , 1216.3798  ,  941.9503  ,\n",
       "         936.505   , 1541.091   , 1109.9349  ,  862.44867 ,  378.37137 ,\n",
       "         484.39426 ,  575.8139  ,  949.6822  ,  644.0784  ,  607.1744  ,\n",
       "         744.5985  ,  777.5318  ,  432.78683 ,  715.2662  , 1319.5026  ,\n",
       "        2224.1562  , 2445.8027  , 2724.1118  , 2960.7954  , 3078.1763  ,\n",
       "        1790.8312  ,  401.22543 ,  433.8856  ,  959.0101  , 1039.0988  ,\n",
       "        1261.3906  , 1536.7327  , 2215.4673  , 2691.0403  , 2520.7087  ,\n",
       "        1633.8365  , 2117.657   , 2321.2483  , 3028.6719  , 2773.0134  ,\n",
       "        3589.625   , 4991.6846  , 4097.715   , 3817.2385  , 5307.163   ,\n",
       "        3493.3372  , 2619.5256  , 2519.466   , 3734.5825  , 4666.104   ,\n",
       "        3894.6428  , 1046.4006  , 2126.2756  ,  825.2528  , 2388.5195  ,\n",
       "        1360.0469  , 1718.8125  , 2130.1575  , 2094.6348  , 2567.0024  ,\n",
       "        2420.382   , 1175.885   , 1235.1222  , 1431.498   , 1498.6451  ,\n",
       "        1770.1647  , 1969.7598  , 3691.8757  , 3251.2063  , 1800.8365  ,\n",
       "        2334.9688  , 2827.7395  , 4208.022   , 4281.026   , 3916.4128  ,\n",
       "        4697.0796  , 6369.0317  , 5270.7085  , 6957.715   , 2726.1814  ,\n",
       "         781.6758  , 1042.2556  , 1257.9291  , 1787.9034  , 2099.6987  ,\n",
       "        2373.091   , 2640.6814  , 3613.9983  , 2835.7717  , 3875.0447  ,\n",
       "        5946.608   , 7047.7305  , 9572.519   , 7634.9077  , 2080.8745  ,\n",
       "        2022.5256  , 2180.7058  , 3264.4778  , 4066.741   , 5072.703   ,\n",
       "        2671.6094  , 3475.381   , 2633.9917  , 4428.003   , 4941.254   ,\n",
       "        5947.5107  , 6306.0312  , 5174.548   , 3485.5876  , 1477.3309  ,\n",
       "        1611.625   , 1537.832   , 3066.9688  , 4539.7617  , 1930.6613  ,\n",
       "        2435.119   , 4694.6987  , 5506.47    , 5491.203   , 5903.625   ,\n",
       "        5267.328   , 1730.9492  , 1358.8119  , 2460.4124  , 3826.4988  ,\n",
       "        3235.106   , 1712.2723  , 2789.9336  , 1301.3197  ,  517.1356  ,\n",
       "         589.91406 ,  824.6774  , 1543.1144  ,  881.7656  , 1297.2148  ,\n",
       "        1669.9833  , 1540.4269  , 1989.2283  , 2322.8723  , 2711.924   ,\n",
       "        1650.1842  , 1831.6428  , 3023.4592  , 4568.597   , 6457.8647  ,\n",
       "        7954.5513  , 8399.301   , 8349.702   , 5784.9404  , 4515.553   ,\n",
       "        5269.3003  , 3504.2283  , 2063.1836  , 2557.4844  , 3309.0825  ,\n",
       "        5313.509   , 2820.7114  , 1624.3303  , 1738.3967  , 2169.2812  ,\n",
       "         996.1395  , 1831.6428  , 1443.3381  , 1846.9264  , 1779.8298  ,\n",
       "        1038.9872  , 2786.2969  , 4328.897   , 7060.5376  , 9185.329   ,\n",
       "        8560.948   ], dtype=float32),\n",
       " 'mse': array([5.94473562e+05, 1.86360109e+05, 1.81073734e+05, 4.47257781e+05,\n",
       "        3.73564438e+05, 3.47205719e+05, 3.82497531e+05, 3.45962594e+05,\n",
       "        3.02521562e+05, 4.20729094e+05, 7.93620688e+05, 7.72779812e+05,\n",
       "        8.84606312e+05, 9.43773625e+05, 5.33029812e+05, 1.69874719e+05,\n",
       "        7.66235703e+04, 5.77591133e+04, 3.56793672e+04, 4.41193828e+04,\n",
       "        4.85849492e+04, 5.52048555e+04, 1.92092953e+05, 1.92487078e+05,\n",
       "        6.71295234e+04, 4.14784297e+04, 2.43067676e+04, 1.15123955e+04,\n",
       "        3.86696211e+04, 1.14742773e+05, 1.40414812e+05, 2.50713750e+05,\n",
       "        1.63307531e+05, 2.22147578e+05, 1.83250797e+05, 2.18245766e+05,\n",
       "        2.11174234e+05, 1.34131797e+05, 1.09118930e+05, 6.14638750e+04,\n",
       "        3.01303531e+05, 7.87805811e+03, 6.72709033e+03, 6.56334375e+03,\n",
       "        3.20487656e+04, 2.93252539e+04, 1.48870088e+04, 1.63914883e+04,\n",
       "        2.25888438e+04, 1.75029062e+04, 3.37092422e+04, 5.89277891e+04,\n",
       "        1.00839875e+05, 6.56985703e+04, 9.30900625e+04, 1.85552000e+05,\n",
       "        3.15602906e+05, 2.12842875e+05, 1.76871781e+05, 2.62285969e+05,\n",
       "        7.15569297e+04, 5.87984883e+04, 1.03316516e+05, 2.21696297e+05,\n",
       "        1.80707109e+05, 2.05609797e+05, 1.74276859e+05, 1.84660750e+05,\n",
       "        3.13910957e+04, 1.61142266e+05, 1.49906219e+05, 3.06424094e+05,\n",
       "        4.95323062e+05, 2.66896906e+05, 1.70105172e+05, 1.92651422e+05,\n",
       "        1.25551148e+05, 1.54736750e+05, 2.57134391e+05, 4.94132000e+05,\n",
       "        5.63053000e+05, 2.45639031e+05, 7.39235391e+04, 3.84166445e+04,\n",
       "        8.73210078e+04, 8.01139375e+04, 5.57660391e+04, 9.19548594e+04,\n",
       "        1.36217797e+05, 3.39726844e+05, 1.29419961e+05, 9.22823125e+04,\n",
       "        5.47825195e+04, 3.84079727e+04, 1.36024531e+05, 1.44939609e+05,\n",
       "        2.98570625e+05, 6.46402875e+05, 5.52644875e+05, 7.72170562e+05,\n",
       "        3.75109312e+05, 1.38785344e+05, 6.37240391e+04, 3.04436344e+05,\n",
       "        2.52064328e+05, 3.29779219e+05, 5.94744812e+05, 8.33698875e+05,\n",
       "        1.42169462e+06, 1.23906325e+06, 7.69757625e+05, 1.35716766e+05,\n",
       "        5.12330820e+04, 5.99900664e+04, 5.65236562e+04, 9.35740703e+04,\n",
       "        2.19802781e+05, 3.07363656e+05, 4.34839562e+05, 2.32374050e+06,\n",
       "        4.52657100e+06, 6.15247300e+06, 5.66739600e+06, 5.90331900e+06,\n",
       "        6.67663850e+06, 7.54874950e+06, 1.37787675e+06, 6.53466125e+05,\n",
       "        3.72042656e+05, 1.85652781e+05, 8.83433906e+04, 7.54601953e+04,\n",
       "        9.86480000e+04, 1.00449055e+05, 1.78847625e+05, 1.49531062e+05,\n",
       "        1.56863391e+05, 1.31710766e+05, 2.42353609e+05, 9.91479219e+04,\n",
       "        2.37506500e+05, 3.58556250e+05, 9.57447062e+05, 1.96533575e+06,\n",
       "        8.13574125e+05, 6.60574000e+05, 4.68523156e+05, 3.68427148e+04,\n",
       "        6.65408906e+04, 9.88271406e+04, 8.40541406e+04, 1.44915094e+05,\n",
       "        1.15149430e+05, 3.32164969e+05, 2.26427297e+05, 3.19202988e+04,\n",
       "        5.33265547e+04, 2.90319941e+04, 4.22143086e+04, 3.22848945e+04,\n",
       "        8.07956406e+04, 7.35894609e+04, 6.97996172e+04, 1.01677945e+05,\n",
       "        6.69640625e+04, 1.82860828e+05, 3.04680781e+05, 6.14489875e+05,\n",
       "        4.30797094e+05, 6.05024562e+05, 7.66238000e+05, 9.62370500e+05,\n",
       "        8.18575625e+05, 9.35993188e+05, 8.20791953e+04, 1.08584867e+05,\n",
       "        1.53489672e+05, 1.05724961e+05, 1.54044484e+05, 2.61826359e+05,\n",
       "        3.66505656e+05, 4.97955281e+05, 9.66918188e+05, 1.35716575e+06,\n",
       "        8.69657812e+05, 7.41607344e+04, 3.31570719e+05, 3.92698062e+05,\n",
       "        1.23468078e+05, 1.25858914e+05, 7.40350859e+04, 9.04000703e+04,\n",
       "        1.92177391e+05, 2.81229688e+05, 3.24600656e+05, 2.62192594e+05,\n",
       "        8.35724609e+04, 8.02400859e+04, 1.22454789e+05, 9.70467656e+04,\n",
       "        3.41956469e+05, 5.51023438e+05, 4.52140719e+05, 1.03397039e+05,\n",
       "        1.05456352e+05, 9.52081172e+04, 7.71212891e+04, 4.16158438e+05,\n",
       "        4.92991602e+04, 1.72647598e+04, 1.13387938e+05, 5.75935234e+04,\n",
       "        6.34909805e+04, 2.00687781e+05, 3.47453500e+05, 3.00669656e+05,\n",
       "        4.63588344e+05, 6.42928750e+04, 8.89779219e+04, 1.37741406e+05,\n",
       "        8.09693672e+04, 4.91902734e+04, 1.05837664e+05, 7.17663516e+04,\n",
       "        2.12751270e+04, 2.92973945e+04, 5.50495898e+04, 6.00292500e+04,\n",
       "        2.81673062e+05, 3.96976594e+05, 1.35630422e+05, 1.49125109e+05,\n",
       "        4.88579141e+04, 2.48246094e+03, 1.05906045e+04, 5.88619375e+04,\n",
       "        2.35642441e+04, 5.90959180e+04, 2.33185215e+04, 1.88333652e+04,\n",
       "        3.61487891e+03, 2.09047559e+04, 1.36220049e+04, 3.37846523e+04,\n",
       "        1.45400875e+05, 5.66173555e+04, 4.03025625e+04, 4.29368047e+04,\n",
       "        5.10494375e+04, 5.21192891e+04, 6.14060234e+04, 4.44283086e+04,\n",
       "        3.21357383e+04, 2.55233223e+04, 3.10596191e+04, 8.12446328e+04,\n",
       "        5.71617312e+05, 7.03746062e+05, 9.24525562e+05, 9.45405500e+05,\n",
       "        1.36708288e+06, 1.66976425e+06, 1.49249788e+06, 6.47699375e+04,\n",
       "        4.58808086e+04, 9.13799297e+04, 7.69217500e+04, 1.09958711e+05,\n",
       "        3.05171094e+05, 1.98806875e+04, 1.80399277e+04, 7.72865547e+04,\n",
       "        1.82262656e+05, 2.78658094e+05, 2.67831312e+05, 2.35814578e+05,\n",
       "        1.22621000e+05, 7.75560234e+04, 8.81851172e+04, 1.00056305e+05,\n",
       "        2.72549785e+04, 8.02361328e+04, 6.62590625e+04, 8.13795000e+04,\n",
       "        3.26338344e+05, 2.88545500e+05, 9.18672891e+04, 2.23690750e+05,\n",
       "        1.56365344e+05, 2.02398281e+05, 1.85705094e+05, 2.54320875e+05,\n",
       "        5.05359609e+04, 3.30992539e+04, 1.45608875e+05, 2.62975250e+05,\n",
       "        8.05299500e+05, 1.32665000e+06, 1.76848700e+06, 2.92260750e+06,\n",
       "        2.23643550e+06, 7.11004125e+05, 2.94748906e+05, 2.56344512e+04,\n",
       "        3.12314023e+04, 4.87267734e+04, 7.39777109e+04, 1.56283734e+05,\n",
       "        1.19555438e+05, 1.25550375e+05, 1.14192000e+05, 1.37065406e+05,\n",
       "        2.69199238e+04, 4.49086484e+04, 2.71820094e+05, 3.16927094e+05,\n",
       "        2.64781531e+05, 3.61461969e+05, 1.65962344e+05, 4.08473398e+04,\n",
       "        1.99976992e+04, 2.54264785e+04, 3.34537578e+04, 1.59488594e+05,\n",
       "        1.91949422e+05, 1.65314031e+05, 1.72897594e+05, 1.35460875e+05,\n",
       "        8.14081094e+04, 5.48415078e+04, 3.70412695e+04, 9.97165859e+04,\n",
       "        1.26937250e+05, 1.66061219e+05, 3.12730562e+05, 3.55131281e+05,\n",
       "        2.11614703e+05, 8.95361094e+04, 4.10417812e+04, 7.49433359e+04,\n",
       "        2.14969125e+05, 1.19620703e+05, 3.16136062e+05, 5.46453375e+05,\n",
       "        8.49907000e+05, 1.18190425e+06, 1.31864100e+06, 9.61884062e+05,\n",
       "        9.79500000e+05, 6.40540820e+04, 1.12176164e+05, 1.84405879e+04,\n",
       "        6.15370898e+04, 4.72349688e+04, 9.45573672e+04, 9.76933594e+04,\n",
       "        2.75511562e+04, 3.88405094e+05, 6.52617312e+05, 4.64311656e+05,\n",
       "        7.62995938e+05, 1.14324275e+06, 1.10686125e+06, 1.08237862e+06,\n",
       "        1.59105000e+05, 2.51577297e+05, 2.08072391e+05, 7.96814219e+04,\n",
       "        2.34820359e+05, 1.09997762e+06, 1.03271969e+06, 5.99528000e+05,\n",
       "        9.13301562e+05, 1.89643562e+06, 2.58633925e+06, 1.56809425e+06,\n",
       "        4.20720938e+05, 1.86973672e+05, 5.04460219e+05, 1.49099962e+06,\n",
       "        2.26447025e+06, 2.16392175e+06, 1.62945612e+06, 2.15457875e+06,\n",
       "        1.36684275e+06, 1.13750725e+06, 2.64311975e+06, 1.34454262e+06,\n",
       "        8.41908938e+05, 2.05248344e+05, 3.00547500e+05, 4.27330750e+05,\n",
       "        1.08350812e+06, 7.00850312e+05, 5.16295344e+05, 7.32191188e+05,\n",
       "        8.03205062e+05, 2.30932234e+05, 1.14656562e+06, 3.78525275e+06,\n",
       "        7.76888450e+06, 9.14521800e+06, 9.95746900e+06, 1.03605650e+07,\n",
       "        9.79182600e+06, 3.35892000e+06, 2.45653828e+05, 2.66641969e+05,\n",
       "        1.22733662e+06, 1.48524388e+06, 2.96659825e+06, 3.50943200e+06,\n",
       "        6.46827450e+06, 8.55373600e+06, 7.21407200e+06, 4.79504000e+06,\n",
       "        7.68139450e+06, 7.65554150e+06, 1.15337920e+07, 1.15022970e+07,\n",
       "        2.07978840e+07, 3.39933520e+07, 2.44036900e+07, 1.86873240e+07,\n",
       "        3.31715620e+07, 1.76606920e+07, 8.22291350e+06, 1.02732080e+07,\n",
       "        1.92551180e+07, 2.45804020e+07, 1.61485600e+07, 1.51443162e+06,\n",
       "        5.24727700e+06, 1.11350300e+06, 8.78733700e+06, 4.71793900e+06,\n",
       "        4.81016250e+06, 6.96197500e+06, 5.86623950e+06, 8.23812450e+06,\n",
       "        6.81882700e+06, 2.03403225e+06, 2.67022000e+06, 3.28175200e+06,\n",
       "        3.40538050e+06, 3.77083075e+06, 4.68851200e+06, 1.62076340e+07,\n",
       "        1.30304110e+07, 4.76142100e+06, 7.36240750e+06, 1.10278140e+07,\n",
       "        2.54281880e+07, 3.19404620e+07, 2.90181800e+07, 3.51541320e+07,\n",
       "        5.07680560e+07, 3.18559840e+07, 4.94528400e+07, 8.09652050e+06,\n",
       "        8.29426438e+05, 2.42534775e+06, 1.97283788e+06, 4.83857150e+06,\n",
       "        7.06558900e+06, 8.70304000e+06, 9.68762600e+06, 1.48632650e+07,\n",
       "        1.19505850e+07, 1.90781100e+07, 5.38498320e+07, 6.14397800e+07,\n",
       "        1.01817584e+08, 6.12859440e+07, 6.47298900e+06, 5.60766050e+06,\n",
       "        6.47675100e+06, 1.49320180e+07, 1.96529180e+07, 2.78952820e+07,\n",
       "        9.65050700e+06, 1.67729830e+07, 1.41789230e+07, 3.16699800e+07,\n",
       "        3.55430880e+07, 4.80618960e+07, 4.99789200e+07, 3.17029420e+07,\n",
       "        1.40662900e+07, 3.79122000e+06, 3.72656750e+06, 3.87817850e+06,\n",
       "        1.04898500e+07, 2.12033760e+07, 6.97285350e+06, 1.05573220e+07,\n",
       "        3.18695900e+07, 4.23556040e+07, 3.97857360e+07, 4.05438920e+07,\n",
       "        3.00070780e+07, 4.79720300e+06, 2.84519825e+06, 8.60753100e+06,\n",
       "        1.71338140e+07, 1.24862630e+07, 3.58112875e+06, 7.97535700e+06,\n",
       "        2.02336400e+06, 4.81443406e+05, 5.91144125e+05, 1.07674275e+06,\n",
       "        2.84436925e+06, 1.76547500e+06, 2.56064050e+06, 4.22531650e+06,\n",
       "        3.49233025e+06, 7.62228250e+06, 8.17809600e+06, 8.37246950e+06,\n",
       "        4.28279500e+06, 6.45310350e+06, 1.30010090e+07, 3.33348800e+07,\n",
       "        5.66318000e+07, 7.68799200e+07, 8.18937040e+07, 7.73121280e+07,\n",
       "        4.24777080e+07, 2.60046760e+07, 3.29769960e+07, 1.80219220e+07,\n",
       "        6.33486850e+06, 8.45479700e+06, 1.39687370e+07, 3.14255300e+07,\n",
       "        9.91717800e+06, 3.17022475e+06, 3.55297875e+06, 5.17417100e+06,\n",
       "        3.40928950e+06, 4.93217700e+06, 4.21578850e+06, 4.44625450e+06,\n",
       "        3.73375925e+06, 3.01970225e+06, 1.45360710e+07, 2.92543860e+07,\n",
       "        6.79379360e+07, 1.05017088e+08, 9.50562800e+07], dtype=float32),\n",
       " 'rmse': array([  771.0211  ,   431.69446 ,   425.5276  ,   668.7733  ,\n",
       "          611.19916 ,   589.24164 ,   618.46387 ,   588.18585 ,\n",
       "          550.0196  ,   648.63635 ,   890.8539  ,   879.079   ,\n",
       "          940.5351  ,   971.4801  ,   730.0889  ,   412.1586  ,\n",
       "          276.80963 ,   240.33125 ,   188.88983 ,   210.04614 ,\n",
       "          220.41994 ,   234.95714 ,   438.2841  ,   438.7335  ,\n",
       "          259.09366 ,   203.66254 ,   155.90628 ,   107.29583 ,\n",
       "          196.64594 ,   338.73703 ,   374.71964 ,   500.71323 ,\n",
       "          404.11325 ,   471.32535 ,   428.07803 ,   467.16782 ,\n",
       "          459.537   ,   366.24008 ,   330.33154 ,   247.91908 ,\n",
       "          548.9112  ,    88.75842 ,    82.018845,    81.014465,\n",
       "          179.0217  ,   171.24619 ,   122.01233 ,   128.02925 ,\n",
       "          150.29585 ,   132.29855 ,   183.60077 ,   242.75047 ,\n",
       "          317.55295 ,   256.31732 ,   305.10663 ,   430.75748 ,\n",
       "          561.78546 ,   461.34897 ,   420.56128 ,   512.1386  ,\n",
       "          267.50128 ,   242.484   ,   321.42886 ,   470.84637 ,\n",
       "          425.0966  ,   453.44217 ,   417.4648  ,   429.7217  ,\n",
       "          177.17532 ,   401.4253  ,   387.17725 ,   553.55585 ,\n",
       "          703.79193 ,   516.62067 ,   412.43808 ,   438.92075 ,\n",
       "          354.33197 ,   393.36594 ,   507.0842  ,   702.94525 ,\n",
       "          750.3686  ,   495.61984 ,   271.88882 ,   196.00165 ,\n",
       "          295.50128 ,   283.04407 ,   236.14835 ,   303.2406  ,\n",
       "          369.07697 ,   582.8609  ,   359.74985 ,   303.78003 ,\n",
       "          234.05666 ,   195.97952 ,   368.81503 ,   380.70935 ,\n",
       "          546.41614 ,   803.9918  ,   743.4009  ,   878.73236 ,\n",
       "          612.4617  ,   372.53906 ,   252.4362  ,   551.7575  ,\n",
       "          502.0601  ,   574.26404 ,   771.197   ,   913.0711  ,\n",
       "         1192.3484  ,  1113.1322  ,   877.35834 ,   368.39755 ,\n",
       "          226.34726 ,   244.9287  ,   237.74704 ,   305.8988  ,\n",
       "          468.8313  ,   554.4039  ,   659.42365 ,  1524.382   ,\n",
       "         2127.574   ,  2480.418   ,  2380.6294  ,  2429.6746  ,\n",
       "         2583.9192  ,  2747.4988  ,  1173.83    ,   808.3725  ,\n",
       "          609.953   ,   430.87445 ,   297.22617 ,   274.7002  ,\n",
       "          314.0828  ,   316.93698 ,   422.9038  ,   386.69247 ,\n",
       "          396.05984 ,   362.91977 ,   492.29422 ,   314.87762 ,\n",
       "          487.34637 ,   598.79565 ,   978.49225 ,  1401.9043  ,\n",
       "          901.98346 ,   812.757   ,   684.4875  ,   191.94456 ,\n",
       "          257.9552  ,   314.36783 ,   289.92093 ,   380.67715 ,\n",
       "          339.33676 ,   576.3375  ,   475.84378 ,   178.66252 ,\n",
       "          230.92543 ,   170.38777 ,   205.46121 ,   179.67998 ,\n",
       "          284.24573 ,   271.27377 ,   264.19617 ,   318.86978 ,\n",
       "          258.77414 ,   427.62228 ,   551.97894 ,   783.89404 ,\n",
       "          656.3514  ,   777.83325 ,   875.3502  ,   981.0048  ,\n",
       "          904.7517  ,   967.4674  ,   286.49466 ,   329.5222  ,\n",
       "          391.7776  ,   325.15375 ,   392.48502 ,   511.6897  ,\n",
       "          605.3971  ,   705.6595  ,   983.32    ,  1164.9746  ,\n",
       "          932.55444 ,   272.32468 ,   575.8218  ,   626.65625 ,\n",
       "          351.38025 ,   354.766   ,   272.0939  ,   300.66605 ,\n",
       "          438.38043 ,   530.3109  ,   569.73737 ,   512.0474  ,\n",
       "          289.08902 ,   283.2668  ,   349.9354  ,   311.5233  ,\n",
       "          584.77045 ,   742.3095  ,   672.4141  ,   321.5541  ,\n",
       "          324.74045 ,   308.55814 ,   277.7072  ,   645.10345 ,\n",
       "          222.03415 ,   131.39543 ,   336.73126 ,   239.98651 ,\n",
       "          251.97417 ,   447.9819  ,   589.45184 ,   548.3335  ,\n",
       "          680.8732  ,   253.5604  ,   298.2917  ,   371.13528 ,\n",
       "          284.55118 ,   221.7888  ,   325.327   ,   267.89243 ,\n",
       "          145.85995 ,   171.16481 ,   234.6265  ,   245.00867 ,\n",
       "          530.7288  ,   630.0608  ,   368.28036 ,   386.1672  ,\n",
       "          221.03827 ,    49.8243  ,   102.91066 ,   242.61479 ,\n",
       "          153.5065  ,   243.09653 ,   152.70403 ,   137.23471 ,\n",
       "           60.123863,   144.58478 ,   116.71335 ,   183.80602 ,\n",
       "          381.31467 ,   237.94402 ,   200.75497 ,   207.21198 ,\n",
       "          225.94122 ,   228.2965  ,   247.80238 ,   210.78024 ,\n",
       "          179.26443 ,   159.76021 ,   176.2374  ,   285.03445 ,\n",
       "          756.0538  ,   838.89575 ,   961.5225  ,   972.31964 ,\n",
       "         1169.2231  ,  1292.1936  ,  1221.6783  ,   254.49939 ,\n",
       "          214.19806 ,   302.29114 ,   277.34772 ,   331.60022 ,\n",
       "          552.4229  ,   140.99889 ,   134.3128  ,   278.0046  ,\n",
       "          426.9223  ,   527.88074 ,   517.52423 ,   485.60742 ,\n",
       "          350.17282 ,   278.48883 ,   296.95978 ,   316.31677 ,\n",
       "          165.09082 ,   283.25983 ,   257.40836 ,   285.27094 ,\n",
       "          571.2603  ,   537.1643  ,   303.09616 ,   472.95956 ,\n",
       "          395.43057 ,   449.88696 ,   430.93515 ,   504.30237 ,\n",
       "          224.80205 ,   181.932   ,   381.5873  ,   512.8111  ,\n",
       "          897.3848  ,  1151.803   ,  1329.8447  ,  1709.5636  ,\n",
       "         1495.4717  ,   843.21063 ,   542.90784 ,   160.10762 ,\n",
       "          176.72409 ,   220.74142 ,   271.98843 ,   395.32736 ,\n",
       "          345.76788 ,   354.33087 ,   337.92307 ,   370.22345 ,\n",
       "          164.07292 ,   211.91661 ,   521.3637  ,   562.96277 ,\n",
       "          514.5693  ,   601.2171  ,   407.38477 ,   202.10725 ,\n",
       "          141.41322 ,   159.45682 ,   182.90369 ,   399.36023 ,\n",
       "          438.12033 ,   406.5883  ,   415.80957 ,   368.0501  ,\n",
       "          285.32108 ,   234.18263 ,   192.46109 ,   315.77933 ,\n",
       "          356.28253 ,   407.5061  ,   559.2232  ,   595.9289  ,\n",
       "          460.016   ,   299.22586 ,   202.5877  ,   273.7578  ,\n",
       "          463.64764 ,   345.86227 ,   562.25977 ,   739.22485 ,\n",
       "          921.904   ,  1087.1542  ,  1148.3209  ,   980.7569  ,\n",
       "          989.6969  ,   253.08908 ,   334.9271  ,   135.79613 ,\n",
       "          248.06671 ,   217.33607 ,   307.50183 ,   312.55936 ,\n",
       "          165.98541 ,   623.22156 ,   807.84735 ,   681.4042  ,\n",
       "          873.4964  ,  1069.2253  ,  1052.0747  ,  1040.3743  ,\n",
       "          398.87967 ,   501.57483 ,   456.14954 ,   282.279   ,\n",
       "          484.58267 ,  1048.7982  ,  1016.22815 ,   774.29193 ,\n",
       "          955.66815 ,  1377.1113  ,  1608.21    ,  1252.2357  ,\n",
       "          648.63007 ,   432.4045  ,   710.2536  ,  1221.065   ,\n",
       "         1504.8157  ,  1471.0275  ,  1276.5015  ,  1467.8484  ,\n",
       "         1169.1205  ,  1066.5398  ,  1625.7675  ,  1159.5442  ,\n",
       "          917.55597 ,   453.04343 ,   548.2221  ,   653.7054  ,\n",
       "         1040.917   ,   837.168   ,   718.5369  ,   855.6817  ,\n",
       "          896.2171  ,   480.55408 ,  1070.7781  ,  1945.5726  ,\n",
       "         2787.272   ,  3024.1062  ,  3155.5457  ,  3218.7832  ,\n",
       "         3129.1895  ,  1832.7357  ,   495.63477 ,   516.37384 ,\n",
       "         1107.8523  ,  1218.7058  ,  1722.3816  ,  1873.3478  ,\n",
       "         2543.2803  ,  2924.677   ,  2685.9023  ,  2189.758   ,\n",
       "         2771.533   ,  2766.865   ,  3396.1438  ,  3391.5037  ,\n",
       "         4560.4697  ,  5830.382   ,  4940.0093  ,  4322.884   ,\n",
       "         5759.476   ,  4202.4624  ,  2867.5623  ,  3205.1846  ,\n",
       "         4388.0654  ,  4957.863   ,  4018.527   ,  1230.6224  ,\n",
       "         2290.6936  ,  1055.2266  ,  2964.3442  ,  2172.0818  ,\n",
       "         2193.2083  ,  2638.5554  ,  2422.032   ,  2870.2134  ,\n",
       "         2611.2883  ,  1426.1951  ,  1634.0808  ,  1811.5607  ,\n",
       "         1845.3673  ,  1941.8627  ,  2165.297   ,  4025.8706  ,\n",
       "         3609.766   ,  2182.068   ,  2713.3757  ,  3320.8152  ,\n",
       "         5042.637   ,  5651.5894  ,  5386.8525  ,  5929.092   ,\n",
       "         7125.1704  ,  5644.1104  ,  7032.2715  ,  2845.4385  ,\n",
       "          910.7285  ,  1557.3528  ,  1404.5775  ,  2199.6753  ,\n",
       "         2658.1177  ,  2950.0916  ,  3112.495   ,  3855.2905  ,\n",
       "         3456.962   ,  4367.8496  ,  7338.2446  ,  7838.353   ,\n",
       "        10090.47    ,  7828.534   ,  2544.207   ,  2368.05    ,\n",
       "         2544.9463  ,  3864.197   ,  4433.161   ,  5281.5986  ,\n",
       "         3106.5266  ,  4095.4832  ,  3765.491   ,  5627.609   ,\n",
       "         5961.8022  ,  6932.669   ,  7069.577   ,  5630.5366  ,\n",
       "         3750.5054  ,  1947.1056  ,  1930.432   ,  1969.3091  ,\n",
       "         3238.8037  ,  4604.7124  ,  2640.6162  ,  3249.2034  ,\n",
       "         5645.316   ,  6508.118   ,  6307.5938  ,  6367.4087  ,\n",
       "         5477.8716  ,  2190.2517  ,  1686.7716  ,  2933.8594  ,\n",
       "         4139.3013  ,  3533.5906  ,  1892.3871  ,  2824.0674  ,\n",
       "         1422.45    ,   693.8612  ,   768.85895 ,  1037.6621  ,\n",
       "         1686.5258  ,  1328.7118  ,  1600.2002  ,  2055.5574  ,\n",
       "         1868.7777  ,  2760.8481  ,  2859.737   ,  2893.522   ,\n",
       "         2069.4915  ,  2540.296   ,  3605.6912  ,  5773.6367  ,\n",
       "         7525.41    ,  8768.119   ,  9049.514   ,  8792.731   ,\n",
       "         6517.4927  ,  5099.478   ,  5742.56    ,  4245.2236  ,\n",
       "         2516.9165  ,  2907.7134  ,  3737.4773  ,  5605.8477  ,\n",
       "         3149.155   ,  1780.5125  ,  1884.9347  ,  2274.6804  ,\n",
       "         1846.4261  ,  2220.8506  ,  2053.2385  ,  2108.6143  ,\n",
       "         1932.2938  ,  1737.729   ,  3812.6199  ,  5408.7324  ,\n",
       "         8242.447   , 10247.784   ,  9749.681   ], dtype=float32),\n",
       " 'mape': array([ 8.313162  ,  4.257351  ,  4.410741  ,  7.311947  ,  6.5505824 ,\n",
       "         6.4137588 ,  7.057509  ,  6.470639  ,  5.590886  ,  7.0963106 ,\n",
       "        10.648318  , 10.788126  , 12.148566  , 13.052885  ,  9.8426285 ,\n",
       "         4.9069653 ,  3.298939  ,  2.4564703 ,  2.1787796 ,  1.9353867 ,\n",
       "         2.6369588 ,  2.8494658 ,  5.652805  ,  5.664175  ,  3.0646722 ,\n",
       "         2.2086327 ,  1.8190587 ,  1.1060313 ,  2.3157744 ,  4.1048136 ,\n",
       "         4.7551074 ,  6.745328  ,  5.2337284 ,  5.6335516 ,  4.707232  ,\n",
       "         5.4085665 ,  5.3151526 ,  3.9456434 ,  3.4818227 ,  3.0166628 ,\n",
       "         7.4118867 ,  1.0316728 ,  0.8751468 ,  0.86610895,  2.2131732 ,\n",
       "         2.0883584 ,  1.3609895 ,  1.5750697 ,  1.9882435 ,  1.4193848 ,\n",
       "         1.9104716 ,  2.8927226 ,  3.7525911 ,  3.1604993 ,  3.103919  ,\n",
       "         4.1917553 ,  6.2813377 ,  4.96642   ,  4.6750665 ,  6.097917  ,\n",
       "         3.075677  ,  1.9540284 ,  3.1452582 ,  4.2757187 ,  3.7707806 ,\n",
       "         4.4839673 ,  4.261235  ,  4.61681   ,  1.7466346 ,  3.8863254 ,\n",
       "         3.9313893 ,  5.801453  ,  7.657393  ,  5.2012043 ,  4.1688724 ,\n",
       "         4.2961426 ,  3.7492552 ,  3.3612158 ,  4.611849  ,  7.031145  ,\n",
       "         7.902147  ,  5.0991116 ,  2.415918  ,  1.8429703 ,  2.5362074 ,\n",
       "         2.270137  ,  2.140427  ,  2.602088  ,  3.2783573 ,  5.5043125 ,\n",
       "         3.0560005 ,  2.7593737 ,  2.0392184 ,  1.631777  ,  2.9655392 ,\n",
       "         3.372639  ,  4.4543343 ,  7.174114  ,  6.7814827 ,  8.710986  ,\n",
       "         5.757262  ,  3.5656116 ,  2.1769214 ,  5.401071  ,  3.768358  ,\n",
       "         4.720471  ,  6.704239  ,  8.827534  , 12.604936  , 12.220585  ,\n",
       "         9.894836  ,  3.787532  ,  2.219736  ,  2.4365723 ,  2.1806138 ,\n",
       "         2.8878841 ,  4.039905  ,  5.31375   ,  7.1233063 , 16.771017  ,\n",
       "        27.286106  , 35.52534   , 35.537987  , 38.884872  , 44.44302   ,\n",
       "        50.8369    , 20.685728  , 13.315025  ,  9.372293  ,  6.9308386 ,\n",
       "         4.3766794 ,  4.104038  ,  3.7361958 ,  4.0229297 ,  5.736303  ,\n",
       "         4.8143363 ,  4.167418  ,  4.308751  ,  6.3766575 ,  4.3215594 ,\n",
       "         6.2950096 ,  8.050455  , 12.857999  , 19.969807  , 11.772822  ,\n",
       "        10.763819  ,  8.921296  ,  2.136291  ,  2.7181494 ,  3.1738334 ,\n",
       "         3.5473948 ,  4.3322477 ,  4.4130898 ,  7.680653  ,  6.7151575 ,\n",
       "         2.0499718 ,  2.8659353 ,  1.8458619 ,  2.4324975 ,  2.478341  ,\n",
       "         3.3075545 ,  3.149216  ,  3.202047  ,  3.3268712 ,  2.9263468 ,\n",
       "         4.843519  ,  6.8061986 ,  8.468524  ,  4.792866  ,  6.215892  ,\n",
       "         8.009248  ,  9.758522  ,  9.46523   , 10.889296  ,  2.6424286 ,\n",
       "         2.3643005 ,  3.1223795 ,  2.78783   ,  3.6618085 ,  4.7480354 ,\n",
       "         6.216411  ,  6.9444685 ,  9.3258505 , 12.039575  ,  9.915176  ,\n",
       "         2.3425798 ,  5.4844084 ,  6.323012  ,  3.2754056 ,  3.1180186 ,\n",
       "         2.407968  ,  2.9824095 ,  3.9068222 ,  5.150169  ,  5.798521  ,\n",
       "         5.442383  ,  2.6619582 ,  2.735415  ,  3.444384  ,  2.9878287 ,\n",
       "         4.640062  ,  6.819562  ,  6.188091  ,  2.5686538 ,  2.180243  ,\n",
       "         3.0275578 ,  1.9368138 ,  6.5706806 ,  2.0953324 ,  1.090729  ,\n",
       "         2.9135878 ,  1.8094993 ,  1.9589183 ,  3.7518609 ,  5.495871  ,\n",
       "         5.456007  ,  7.1145816 ,  2.3610148 ,  2.830867  ,  3.6895144 ,\n",
       "         2.5626566 ,  2.0424707 ,  2.9624898 ,  2.4167757 ,  1.4861257 ,\n",
       "         1.3930264 ,  2.242862  ,  2.3895507 ,  5.260836  ,  6.666256  ,\n",
       "         3.793237  ,  4.0766954 ,  2.261399  ,  0.4484343 ,  0.8914441 ,\n",
       "         2.3296494 ,  1.3876057 ,  2.2635114 ,  1.5596887 ,  1.1184494 ,\n",
       "         0.51131386,  1.1326307 ,  0.98603505,  1.8336995 ,  4.058843  ,\n",
       "         2.3902872 ,  2.0505202 ,  2.0002594 ,  2.1792655 ,  2.2161255 ,\n",
       "         2.3992083 ,  1.9745079 ,  1.6231872 ,  1.60099   ,  1.5657136 ,\n",
       "         2.3697357 ,  4.964286  ,  5.277834  ,  6.273521  ,  7.036213  ,\n",
       "         9.086626  , 10.685227  , 10.567885  ,  1.5699079 ,  1.5972395 ,\n",
       "         2.202313  ,  2.1976042 ,  2.4405468 ,  4.730097  ,  1.0182167 ,\n",
       "         0.97382545,  1.8979089 ,  3.0380893 ,  3.8215585 ,  3.712985  ,\n",
       "         3.694519  ,  2.849153  ,  2.2315767 ,  1.955254  ,  2.0878165 ,\n",
       "         1.0073508 ,  1.6412023 ,  1.9395481 ,  2.1064577 ,  4.558418  ,\n",
       "         4.4173536 ,  2.266516  ,  3.829592  ,  2.8528848 ,  3.5055969 ,\n",
       "         3.3060138 ,  4.2489133 ,  1.5424855 ,  1.2788041 ,  2.4076605 ,\n",
       "         3.51154   ,  6.493118  ,  8.842669  , 11.472083  , 15.751548  ,\n",
       "        14.320515  ,  8.005526  ,  4.989486  ,  1.2698448 ,  1.4003714 ,\n",
       "         1.8179277 ,  1.6768724 ,  2.8567555 ,  2.3337944 ,  2.8566015 ,\n",
       "         2.8526995 ,  3.2070591 ,  1.3678119 ,  1.5680196 ,  4.4725943 ,\n",
       "         4.831884  ,  4.2417417 ,  5.1040735 ,  3.5224266 ,  1.2948883 ,\n",
       "         0.89174044,  1.2359105 ,  1.4572648 ,  3.2752745 ,  3.6532874 ,\n",
       "         3.399723  ,  3.5856576 ,  3.1446059 ,  2.5117013 ,  2.04037   ,\n",
       "         1.5460204 ,  2.1210861 ,  2.5156085 ,  2.8477192 ,  4.103708  ,\n",
       "         4.86471   ,  3.9595015 ,  2.227549  ,  1.4589182 ,  2.2767363 ,\n",
       "         3.7104137 ,  2.546156  ,  3.0812728 ,  4.284902  ,  5.2354293 ,\n",
       "         7.125862  ,  8.148069  ,  7.1136937 ,  7.2566047 ,  1.5796509 ,\n",
       "         2.2349505 ,  0.8963274 ,  1.5286156 ,  1.2051761 ,  1.6142083 ,\n",
       "         2.2541842 ,  1.0210278 ,  2.5759315 ,  3.6255445 ,  3.2456279 ,\n",
       "         4.449144  ,  6.2431335 ,  6.262669  ,  6.46046   ,  2.2750707 ,\n",
       "         2.7348552 ,  2.2689207 ,  1.5250553 ,  2.394551  ,  5.4346714 ,\n",
       "         4.7776365 ,  3.628417  ,  4.5918236 ,  6.7070312 ,  8.504703  ,\n",
       "         6.8012896 ,  3.2442992 ,  1.9212607 ,  3.1879966 ,  4.7529416 ,\n",
       "         6.6938133 ,  6.5984054 ,  5.7898912 ,  6.9059067 ,  5.359241  ,\n",
       "         4.937021  ,  8.111473  ,  5.8105726 ,  4.4924097 ,  1.9841988 ,\n",
       "         2.552614  ,  3.0546815 ,  5.079448  ,  3.4976914 ,  3.2864184 ,\n",
       "         4.026238  ,  4.2044106 ,  2.3105984 ,  3.5681598 ,  6.173872  ,\n",
       "        10.244219  , 10.850622  , 11.90136   , 12.847824  , 13.294218  ,\n",
       "         7.6700544 ,  1.7050648 ,  1.8231134 ,  3.974888  ,  4.1641583 ,\n",
       "         4.8194704 ,  5.8228498 ,  8.200936  ,  9.778202  ,  8.98664   ,\n",
       "         5.445451  ,  6.796222  ,  7.417651  ,  9.44537   ,  8.204957  ,\n",
       "         9.97679   , 13.460297  , 10.615792  ,  9.868733  , 13.718603  ,\n",
       "         8.876817  ,  6.8451457 ,  7.025255  , 10.440681  , 13.005755  ,\n",
       "        10.884625  ,  2.8532534 ,  5.739687  ,  2.2353203 ,  7.086935  ,\n",
       "         4.2162566 ,  5.265557  ,  6.608445  ,  6.501072  ,  8.029524  ,\n",
       "         7.666422  ,  3.5775204 ,  3.7273843 ,  4.2911377 ,  4.4578404 ,\n",
       "         5.3072233 ,  5.8152437 , 10.490498  ,  9.063358  ,  4.920617  ,\n",
       "         6.241789  ,  7.3786497 , 10.426727  ,  9.929967  ,  8.737436  ,\n",
       "        10.273834  , 13.851924  , 11.361238  , 14.791944  ,  5.72908   ,\n",
       "         1.6557949 ,  2.0867708 ,  2.527963  ,  3.490622  ,  3.9329238 ,\n",
       "         4.3575478 ,  4.8037863 ,  6.696961  ,  5.499728  ,  7.6138234 ,\n",
       "        12.359719  , 14.711031  , 20.31003   , 16.228453  ,  4.485792  ,\n",
       "         4.239319  ,  4.5276814 ,  6.6502085 ,  8.285349  , 10.248475  ,\n",
       "         5.312779  ,  6.7327795 ,  4.85828   ,  8.019536  ,  8.818792  ,\n",
       "        10.34773   , 10.803164  ,  8.858734  ,  5.9547234 ,  2.4842768 ,\n",
       "         2.737141  ,  2.6111865 ,  5.310979  ,  7.861937  ,  3.4258604 ,\n",
       "         4.3698735 ,  8.549067  , 10.209269  , 10.220026  , 10.945328  ,\n",
       "         9.761931  ,  3.2313044 ,  2.466373  ,  4.2862334 ,  6.6197014 ,\n",
       "         5.545056  ,  2.9327054 ,  4.775402  ,  2.216953  ,  0.8883969 ,\n",
       "         1.0226098 ,  1.4349056 ,  2.678126  ,  1.5365952 ,  2.2464707 ,\n",
       "         2.8912544 ,  2.5786068 ,  3.2107663 ,  3.7301552 ,  4.371376  ,\n",
       "         2.6378706 ,  3.0589    ,  5.1149    ,  7.945675  , 11.41756   ,\n",
       "        14.382874  , 15.574898  , 15.770856  , 11.309894  ,  8.860384  ,\n",
       "        10.308551  ,  6.923881  ,  4.0513635 ,  4.7813425 ,  6.0104556 ,\n",
       "         9.502788  ,  4.9781747 ,  2.907228  ,  3.0846293 ,  3.8121202 ,\n",
       "         1.8223962 ,  3.281302  ,  2.582216  ,  3.3036892 ,  3.0966635 ,\n",
       "         1.9094458 ,  5.304477  ,  8.365044  , 13.957819  , 18.70512   ,\n",
       "        18.248652  ], dtype=float32),\n",
       " 'mase': 2.1218028}"
      ]
     },
     "execution_count": 315,
     "metadata": {},
     "output_type": "execute_result"
    }
   ],
   "source": [
    "# Calculate model_3 results - these are going to be multi-dimensional because\n",
    "# we're trying to predict more than one step at a time.\n",
    "model_3_results = evaluate_preds(y_true=tf.squeeze(test_labels),\n",
    "                                 y_pred=model_3_preds)\n",
    "model_3_results"
   ]
  },
  {
   "cell_type": "markdown",
   "id": "dce3ffbb",
   "metadata": {},
   "source": [
    "You'll notice the outputs for `model_3_results` are multi-dimensional. \n",
    "\n",
    "This is because the predictions are getting evaluated across the `HORIZON` timesteps (7 predictions at a time).\n",
    "\n",
    "Because of this we are going to use are generalized evaluation function."
   ]
  },
  {
   "cell_type": "code",
   "execution_count": 316,
   "id": "c98f9c50",
   "metadata": {},
   "outputs": [
    {
     "data": {
      "text/plain": [
       "{'mae': 1192.3965,\n",
       " 'mse': 5158912.0,\n",
       " 'rmse': 1379.199,\n",
       " 'mape': 5.4448543,\n",
       " 'mase': 2.1218028}"
      ]
     },
     "execution_count": 316,
     "metadata": {},
     "output_type": "execute_result"
    }
   ],
   "source": [
    "# Get model_3 results aggregated to single values\n",
    "model_3_results = evaluate_preds_generalized(y_true=tf.squeeze(test_labels),\n",
    "                                 y_pred=model_3_preds)\n",
    "model_3_results"
   ]
  },
  {
   "cell_type": "markdown",
   "id": "86d0a008",
   "metadata": {},
   "source": [
    "Again, we can fix this by aggregating our model's predictions.\n",
    "\n",
    "> 🔑 **Note:** Aggregating the predictions (e.g. reducing a 7-day horizon to one value such as the mean) loses information from the original prediction. As in, the model predictions were trained to be made for 7-days but by reducing them to one, we gain the ability to plot them visually but we lose the extra information contained across multiple days.\n",
    "\n",
    "<font color='red'> work more withthis idea !!!! </font>\n"
   ]
  },
  {
   "cell_type": "code",
   "execution_count": 317,
   "id": "434acdcc",
   "metadata": {},
   "outputs": [
    {
     "data": {
      "image/png": "[encoded data removed]",
      "text/plain": [
       "<Figure size 700x400 with 1 Axes>"
      ]
     },
     "metadata": {},
     "output_type": "display_data"
    }
   ],
   "source": [
    "offset = 300\n",
    "plt.figure(figsize=(7, 4))\n",
    "# Plot model_3_preds by aggregating them (note: this condenses information so the preds will look fruther ahead than the test data)\n",
    "plot_time_series(timesteps=X_test[-len(test_windows):], \n",
    "                 values=test_labels[:, 0], \n",
    "                 start=offset, \n",
    "                 label=\"Test_data\")\n",
    "plot_time_series(timesteps=X_test[-len(test_windows):], \n",
    "                 values=tf.reduce_mean(model_3_preds, axis=1), \n",
    "                 format=\"-\",\n",
    "                 start=offset, \n",
    "                 label=\"model_3_preds\")"
   ]
  },
  {
   "cell_type": "code",
   "execution_count": 318,
   "id": "e6e00dea",
   "metadata": {},
   "outputs": [],
   "source": [
    "# predictions, right way\n",
    "future_forecast_3 = make_future_forecast(model=model_3,\n",
    "                                       initial_window=train_windows[-1], #last window ; y_train[-WINDOW_SIZE:]\n",
    "                                       into_future=len(test_labels),\n",
    "                                       window_size=WINDOW_SIZE,\n",
    "                                       verbose=False)"
   ]
  },
  {
   "cell_type": "code",
   "execution_count": 319,
   "id": "73be80a7",
   "metadata": {},
   "outputs": [],
   "source": [
    "model_3_results = evaluate_preds_generalized(y_true=tf.squeeze(test_labels),\n",
    "                                 y_pred=future_forecast_3)"
   ]
  },
  {
   "cell_type": "code",
   "execution_count": 320,
   "id": "27771174",
   "metadata": {},
   "outputs": [
    {
     "data": {
      "text/plain": [
       "{'mae': 8927.275,\n",
       " 'mse': 144957860.0,\n",
       " 'rmse': 8982.308,\n",
       " 'mape': 49.9543,\n",
       " 'mase': 15.885588}"
      ]
     },
     "execution_count": 320,
     "metadata": {},
     "output_type": "execute_result"
    }
   ],
   "source": [
    "model_3_results"
   ]
  },
  {
   "cell_type": "markdown",
   "id": "118464ac",
   "metadata": {},
   "source": [
    "MSE is huge!!"
   ]
  },
  {
   "cell_type": "code",
   "execution_count": 321,
   "id": "b03ba2d3",
   "metadata": {},
   "outputs": [
    {
     "data": {
      "image/png": "[encoded data removed]",
      "text/plain": [
       "<Figure size 700x400 with 1 Axes>"
      ]
     },
     "metadata": {},
     "output_type": "display_data"
    }
   ],
   "source": [
    "offset = 300\n",
    "plt.figure(figsize=(7, 4))\n",
    "# Plot model_3_preds by aggregating them (note: this condenses information so the preds will look fruther ahead than the test data)\n",
    "plot_time_series(timesteps=X_test[-len(test_windows):], \n",
    "                 values=test_labels[:, 0], \n",
    "                 start=offset, \n",
    "                 label=\"Test_data\")\n",
    "plot_time_series(timesteps=X_test[-len(test_windows):], \n",
    "                 values=tf.reduce_mean(future_forecast_3, axis=1), \n",
    "                 format=\"-\",\n",
    "                 start=offset, \n",
    "                 label=\"model_3_preds\")"
   ]
  },
  {
   "cell_type": "markdown",
   "id": "d6ddbb5d",
   "metadata": {},
   "source": [
    "<a name=\"6.5\"></a>\n",
    "### <font color='#1f618d'> <b> 6.5. Conv1D </font> </b>"
   ]
  },
  {
   "cell_type": "markdown",
   "id": "1468ec42",
   "metadata": {},
   "source": [
    "This time, we'll be using a Conv1D model. Because as we saw in the sequence modelling notebook, Conv1D models can be used for seq2seq (sequence to sequence) problems.\n",
    "\n",
    "In our case, the input sequence is the previous 7 days of Bitcoin price data and the output is the next day (in seq2seq terms this is called a many to one problem).\n",
    "\n",
    "![bitcoin prediction in seq2seq terms](https://raw.githubusercontent.com/mrdbourke/tensorflow-deep-learning/main/images/10-bitcoin-forecast-in-seq2seq-terms.png)\n",
    "*Framing Bitcoin forecasting in seq2seq (sequence to sequence) terms. Using a window size of 7 and a horizon of one results in a many to one problem. Using a window size of >1 and a horizon of >1 results in a many to many problem. The diagram comes from Andrei Karpathy's [The Unreasonable Effectiveness of Recurrent Neural Networks](http://karpathy.github.io/2015/05/21/rnn-effectiveness/)*.\n",
    "\n",
    "Before we build a Conv1D model, let's recreate our datasets."
   ]
  },
  {
   "cell_type": "markdown",
   "id": "c56effa3",
   "metadata": {},
   "source": [
    "### Preparing data"
   ]
  },
  {
   "cell_type": "code",
   "execution_count": 323,
   "id": "37adf330",
   "metadata": {},
   "outputs": [],
   "source": [
    "HORIZON = 1 # predict next day\n",
    "WINDOW_SIZE = 7 # use previous week worth of data"
   ]
  },
  {
   "cell_type": "code",
   "execution_count": 324,
   "id": "f71489d6",
   "metadata": {},
   "outputs": [
    {
     "data": {
      "text/plain": [
       "(2780, 2780)"
      ]
     },
     "execution_count": 324,
     "metadata": {},
     "output_type": "execute_result"
    }
   ],
   "source": [
    "# Create windowed dataset\n",
    "full_windows, full_labels = make_windows(prices, window_size=WINDOW_SIZE, horizon=HORIZON)\n",
    "len(full_windows), len(full_labels)"
   ]
  },
  {
   "cell_type": "code",
   "execution_count": 325,
   "id": "5f6a1b73",
   "metadata": {},
   "outputs": [
    {
     "data": {
      "text/plain": [
       "(2224, 556, 2224, 556)"
      ]
     },
     "execution_count": 325,
     "metadata": {},
     "output_type": "execute_result"
    }
   ],
   "source": [
    "# Create train/test splits\n",
    "train_windows, test_windows, train_labels, test_labels = make_train_test_splits(full_windows, full_labels)\n",
    "len(train_windows), len(test_windows), len(train_labels), len(test_labels)"
   ]
  },
  {
   "cell_type": "markdown",
   "id": "0c722d64",
   "metadata": {},
   "source": [
    "Now, since we're going to be using Conv1D layers, we need to make sure our input shapes are correct.\n",
    "\n",
    "The Conv1D layer in TensorFlow takes an input of: (batch_size, timesteps, input_dim).\n",
    "\n",
    "In our case, the batch_size (default is 32, but we can change it) is handled automatically. The other dimensions are:\n",
    "\n",
    "timesteps = WINDOW_SIZE - our model will view WINDOW_SIZE (one week) worth of past data at a time.\n",
    "\n",
    "input_dim = num_features - the number of features in each timestep (e.g., temperature, humidity, etc.).\n",
    "\n",
    "Currently, our data has the correct timesteps dimension, but we need to ensure it includes the appropriate input_dim for each feature\n",
    "\n",
    "\n",
    "<font color='red'>CHECK</font>"
   ]
  },
  {
   "cell_type": "code",
   "execution_count": 326,
   "id": "fe54c6ce",
   "metadata": {},
   "outputs": [
    {
     "data": {
      "text/plain": [
       "(7,)"
      ]
     },
     "execution_count": 326,
     "metadata": {},
     "output_type": "execute_result"
    }
   ],
   "source": [
    "# Check data sample shapes\n",
    "train_windows[0].shape # returns (WINDOW_SIZE, )"
   ]
  },
  {
   "cell_type": "markdown",
   "id": "5e401a6a",
   "metadata": {},
   "source": [
    "To fix this, we could adjust the shape of all of our `train_windows` or we could use a [`tf.keras.layers.Lamdba`](https://keras.io/api/layers/core_layers/lambda/) (called a Lambda layer) to do this for us in our model.\n",
    "\n",
    "The Lambda layer wraps a function into a layer which can be used with a model."
   ]
  },
  {
   "cell_type": "code",
   "execution_count": 327,
   "id": "56fe2a0a",
   "metadata": {},
   "outputs": [
    {
     "name": "stdout",
     "output_type": "stream",
     "text": [
      "Original shape: (7,)\n",
      "Expanded shape: (7, 1)\n",
      "Original values with expanded shape:\n",
      " [[123.65499]\n",
      " [125.455  ]\n",
      " [108.58483]\n",
      " [118.67466]\n",
      " [121.33866]\n",
      " [120.65533]\n",
      " [121.795  ]]\n"
     ]
    }
   ],
   "source": [
    "# Before we pass our data to the Conv1D layer, we have to reshape it in order to make sure it works\n",
    "x = tf.constant(train_windows[0])\n",
    "expand_dims_layer = layers.Lambda(lambda x: tf.expand_dims(x, axis=1)) # add an extra dimension\n",
    "print(f\"Original shape: {x.shape}\") # (WINDOW_SIZE)\n",
    "print(f\"Expanded shape: {expand_dims_layer(x).shape}\") # (WINDOW_SIZE, input_dim) \n",
    "print(f\"Original values with expanded shape:\\n {expand_dims_layer(x)}\")"
   ]
  },
  {
   "cell_type": "markdown",
   "id": "bd1f7e70",
   "metadata": {},
   "source": [
    "### Build, compíle and fit the model"
   ]
  },
  {
   "cell_type": "code",
   "execution_count": 329,
   "id": "34829490",
   "metadata": {},
   "outputs": [],
   "source": [
    "def build_compile_model_4(name, horizon):\n",
    "    # Create model\n",
    "    model = tf.keras.Sequential([\n",
    "      # Create Lambda layer to reshape inputs, without this layer, the model will error\n",
    "      layers.Lambda(lambda x: tf.expand_dims(x, axis=1)), # resize the inputs to adjust for window size / Conv1D 3D input requirements\n",
    "      layers.Conv1D(filters=128, kernel_size=5, padding=\"causal\", activation=\"relu\"),\n",
    "      layers.Dense(horizon)\n",
    "    ], name=name)\n",
    "\n",
    "    # Compile model\n",
    "    model.compile(loss=\"mae\",\n",
    "                    optimizer=tf.keras.optimizers.Adam())\n",
    "    \n",
    "    return model\n",
    "    \n",
    "    \n",
    "model_4 = build_compile_model_4('model_4_conv1D', HORIZON)\n",
    "    "
   ]
  },
  {
   "cell_type": "code",
   "execution_count": 330,
   "id": "58778c0b",
   "metadata": {},
   "outputs": [],
   "source": [
    "# fit\n",
    "history_4 = model_4.fit(train_windows,\n",
    "            train_labels,\n",
    "            batch_size=32, \n",
    "            epochs=100,\n",
    "            verbose=0,\n",
    "            validation_data=(test_windows, test_labels),\n",
    "            callbacks=[create_model_checkpoint(model_name=model_4.name)])"
   ]
  },
  {
   "cell_type": "markdown",
   "id": "9fa63fd1",
   "metadata": {},
   "source": [
    "### Evaluation"
   ]
  },
  {
   "cell_type": "code",
   "execution_count": 331,
   "id": "11903818",
   "metadata": {},
   "outputs": [
    {
     "name": "stdout",
     "output_type": "stream",
     "text": [
      "18/18 [==============================] - 0s 1ms/step - loss: 563.2429\n"
     ]
    },
    {
     "data": {
      "text/plain": [
       "563.242919921875"
      ]
     },
     "execution_count": 331,
     "metadata": {},
     "output_type": "execute_result"
    }
   ],
   "source": [
    "# Load in best performing Conv1D model and evaluate it on the test data\n",
    "model_4 = tf.keras.models.load_model(\"model_experiments/model_4_conv1D\")\n",
    "model_4.evaluate(test_windows, test_labels)"
   ]
  },
  {
   "cell_type": "code",
   "execution_count": 333,
   "id": "e1022e3a",
   "metadata": {},
   "outputs": [
    {
     "name": "stdout",
     "output_type": "stream",
     "text": [
      "18/18 [==============================] - 0s 1ms/step\n"
     ]
    },
    {
     "data": {
      "text/plain": [
       "<tf.Tensor: shape=(10,), dtype=float32, numpy=\n",
       "array([8869.823, 8804.829, 9063.301, 8798.9  , 8761.059, 8754.882,\n",
       "       8705.289, 8538.395, 8481.662, 8550.752], dtype=float32)>"
      ]
     },
     "execution_count": 333,
     "metadata": {},
     "output_type": "execute_result"
    }
   ],
   "source": [
    "# Make predictions (wrong way)\n",
    "model_4_preds = make_preds(model_4, test_windows)\n",
    "model_4_preds[:10]"
   ]
  },
  {
   "cell_type": "code",
   "execution_count": 334,
   "id": "f5c4d1af",
   "metadata": {},
   "outputs": [
    {
     "data": {
      "text/plain": [
       "{'mae': 563.2429,\n",
       " 'mse': 1154821.8,\n",
       " 'rmse': 1074.6263,\n",
       " 'mape': 2.5105336,\n",
       " 'mase': 0.9894618}"
      ]
     },
     "execution_count": 334,
     "metadata": {},
     "output_type": "execute_result"
    }
   ],
   "source": [
    "# Evaluate predictions\n",
    "model_4_results = evaluate_preds(y_true=tf.squeeze(test_labels),\n",
    "                                 y_pred=model_4_preds)\n",
    "model_4_results"
   ]
  },
  {
   "cell_type": "code",
   "execution_count": 338,
   "id": "98a8e8bd",
   "metadata": {},
   "outputs": [
    {
     "data": {
      "image/png": "[encoded data removed]",
      "text/plain": [
       "<Figure size 800x500 with 1 Axes>"
      ]
     },
     "metadata": {},
     "output_type": "display_data"
    }
   ],
   "source": [
    "plot_comparisson(X_test[-len(test_windows):], test_labels[:, 0], model_4_preds, 'model_4_preds', \n",
    "                 figsize=(8, 5))"
   ]
  },
  {
   "cell_type": "code",
   "execution_count": 335,
   "id": "a6dddda9",
   "metadata": {},
   "outputs": [],
   "source": [
    "# predictions, right way\n",
    "future_forecast_4 = make_future_forecast(model=model_4,\n",
    "                                       initial_window=train_windows[-1],\n",
    "                                       into_future=len(test_labels),\n",
    "                                       window_size=WINDOW_SIZE,\n",
    "                                       verbose=False)"
   ]
  },
  {
   "cell_type": "code",
   "execution_count": 336,
   "id": "f268a1d8",
   "metadata": {},
   "outputs": [
    {
     "data": {
      "text/plain": [
       "{'mae': 8357.375,\n",
       " 'mse': 98201624.0,\n",
       " 'rmse': 9909.673,\n",
       " 'mape': 56.562256,\n",
       " 'mase': 14.681593}"
      ]
     },
     "execution_count": 336,
     "metadata": {},
     "output_type": "execute_result"
    }
   ],
   "source": [
    "# Evaluate predictions\n",
    "model_4_results = evaluate_preds(y_true=tf.squeeze(test_labels),\n",
    "                                 y_pred=future_forecast_4)\n",
    "model_4_results"
   ]
  },
  {
   "cell_type": "code",
   "execution_count": 337,
   "id": "7ed6fd64",
   "metadata": {},
   "outputs": [
    {
     "data": {
      "image/png": "[encoded data removed]",
      "text/plain": [
       "<Figure size 800x500 with 1 Axes>"
      ]
     },
     "metadata": {},
     "output_type": "display_data"
    }
   ],
   "source": [
    "plot_comparisson(X_test[-len(test_windows):], test_labels[:, 0], future_forecast_4, 'model_4_preds', \n",
    "                 figsize=(8, 5))"
   ]
  },
  {
   "cell_type": "markdown",
   "id": "8ce828bd",
   "metadata": {},
   "source": [
    "<a name=\"6.6\"></a>\n",
    "### <font color='#1f618d'> <b> 6.6. LSTM </font> </b>"
   ]
  },
  {
   "cell_type": "code",
   "execution_count": null,
   "id": "9f397958",
   "metadata": {},
   "outputs": [],
   "source": []
  },
  {
   "cell_type": "code",
   "execution_count": null,
   "id": "4ad30392",
   "metadata": {},
   "outputs": [],
   "source": []
  },
  {
   "cell_type": "code",
   "execution_count": null,
   "id": "48211a04",
   "metadata": {},
   "outputs": [],
   "source": []
  },
  {
   "cell_type": "code",
   "execution_count": null,
   "id": "fe9c58d0",
   "metadata": {},
   "outputs": [],
   "source": []
  },
  {
   "cell_type": "code",
   "execution_count": null,
   "id": "186d1ca1",
   "metadata": {},
   "outputs": [],
   "source": []
  },
  {
   "cell_type": "code",
   "execution_count": null,
   "id": "fc308e81",
   "metadata": {},
   "outputs": [],
   "source": []
  },
  {
   "cell_type": "code",
   "execution_count": null,
   "id": "25b96366",
   "metadata": {},
   "outputs": [],
   "source": []
  },
  {
   "cell_type": "code",
   "execution_count": null,
   "id": "e5de7468",
   "metadata": {},
   "outputs": [],
   "source": []
  },
  {
   "cell_type": "markdown",
   "id": "431c67fc",
   "metadata": {},
   "source": [
    "<b> Predicting on: </b>\n",
    "\n",
    "\\[8201.63781819 8572.38081243 8582.1445177  8320.1715814  8328.60426039\n",
    " 8282.17732583 8337.81899854 8162.44       8003.82039479 8058.05808111\n",
    " 7970.2394756  7943.34710706 8200.3187634  8200.24609949 8073.40954388\n",
    " 7420.41583649 7460.61741593 8591.22389742 9171.30653186 9578.36755607\n",
    " 9458.22335963 9455.72469261 9225.99547934 9131.41063031 9197.63234462\n",
    " 9290.89660239 9202.41545055 9369.62808116 9326.59962378 9335.75240233\\]\n",
    " \n",
    " <b> Prediction </b> -> <font color='red'> \\[9521.72  9580.618 9747.224 9746.283 9782.762 9873.229 9688.106\\] </font>\n",
    "\n",
    "\n",
    "<b> Predicting on: </b>\n",
    "  \n",
    " \\[8162.44       8003.82039479 8058.05808111 7970.2394756  7943.34710706\n",
    " 8200.3187634  8200.24609949 8073.40954388 7420.41583649 7460.61741593\n",
    " 8591.22389742 9171.30653186 9578.36755607 9458.22335963 9455.72469261\n",
    " 9225.99547934 9131.41063031 9197.63234462 9290.89660239 9202.41545055\n",
    " 9369.62808116 9326.59962378 9335.75240233 <font color='red'>  9521.71972656 9580.61816406\n",
    " 9747.22363281 9746.28320312 9782.76171875 9873.22851562 9688.10644531 </font> \\] \n",
    " \n",
    " <b> Prediction </b>  -> <font color='orange'> \\[9977.877 10091.034  9984.061 10117.037 10058.936  9951.345  9805.085\\] </font>\n",
    " \n",
    "\n",
    "<b> Predicting on: </b>\n",
    "\n",
    " \\[ 8073.40954388  7420.41583649  7460.61741593  8591.22389742\n",
    "  9171.30653186  9578.36755607  9458.22335963  9455.72469261\n",
    "  9225.99547934  9131.41063031  9197.63234462  9290.89660239\n",
    "  9202.41545055  9369.62808116  9326.59962378  9335.75240233\n",
    "  9521.71972656  9580.61816406  9747.22363281  9746.28320312\n",
    "  9782.76171875  9873.22851562  9688.10644531   <font color='orange'> 9977.87695312\n",
    " 10091.03417969  9984.06054688 10117.03710938 10058.93554688\n",
    "  9951.34472656  9805.08496094 </font> \\] \n",
    "  \n",
    "  \n",
    "  <b> Prediction </b>  -> <font color='blue'> \\[9988.777 10171.611 10050.307 10210.748  9950.147 10183.748 10143.839\\] </font>\n"
   ]
  },
  {
   "cell_type": "code",
   "execution_count": null,
   "id": "65635481",
   "metadata": {},
   "outputs": [],
   "source": []
  },
  {
   "cell_type": "code",
   "execution_count": null,
   "id": "f145b607",
   "metadata": {},
   "outputs": [],
   "source": []
  },
  {
   "cell_type": "code",
   "execution_count": null,
   "id": "f8cf50a1",
   "metadata": {},
   "outputs": [],
   "source": []
  },
  {
   "cell_type": "code",
   "execution_count": 172,
   "id": "5e1faff8",
   "metadata": {},
   "outputs": [],
   "source": [
    "a = np.array([[84, 52],\n",
    " [80, 49],\n",
    " [78, 99]], dtype=float\n",
    ")\n",
    "\n",
    "b = np.array([[86, 53],\n",
    " [81, 49],\n",
    " [70, 97]], dtype=float\n",
    ")"
   ]
  },
  {
   "cell_type": "code",
   "execution_count": 173,
   "id": "06317f5e",
   "metadata": {},
   "outputs": [
    {
     "data": {
      "text/plain": [
       "<tf.Tensor: shape=(3,), dtype=float64, numpy=array([1.5, 0.5, 5. ])>"
      ]
     },
     "execution_count": 173,
     "metadata": {},
     "output_type": "execute_result"
    }
   ],
   "source": [
    "mae = tf.keras.metrics.mean_absolute_error(a, b)\n",
    "mae"
   ]
  },
  {
   "cell_type": "markdown",
   "id": "f0b98c64",
   "metadata": {},
   "source": [
    "```\n",
    "abs_diff = |a - b| = [[|84 - 86|, |52 - 53|],\n",
    "                      [|80 - 81|, |49 - 49|],\n",
    "                      [|78 - 70|, |99 - 97|]]\n",
    "           = [[2, 1],\n",
    "              [1, 0],\n",
    "              [8, 2]]\n",
    "```\n",
    "              \n",
    "mae_per_row = [mean([2, 1]), mean([1, 0]), mean([8, 2])]\n",
    "            = [1.5, 0.5, 5.0]"
   ]
  },
  {
   "cell_type": "code",
   "execution_count": 174,
   "id": "3b58b3fb",
   "metadata": {},
   "outputs": [
    {
     "data": {
      "text/plain": [
       "TensorShape([3])"
      ]
     },
     "execution_count": 174,
     "metadata": {},
     "output_type": "execute_result"
    }
   ],
   "source": [
    "mae.shape"
   ]
  },
  {
   "cell_type": "code",
   "execution_count": null,
   "id": "99de6361",
   "metadata": {},
   "outputs": [],
   "source": []
  },
  {
   "cell_type": "code",
   "execution_count": null,
   "id": "730e4d15",
   "metadata": {},
   "outputs": [],
   "source": []
  },
  {
   "cell_type": "code",
   "execution_count": null,
   "id": "468d680d",
   "metadata": {},
   "outputs": [],
   "source": []
  },
  {
   "cell_type": "code",
   "execution_count": null,
   "id": "a4932e56",
   "metadata": {},
   "outputs": [],
   "source": []
  },
  {
   "cell_type": "code",
   "execution_count": null,
   "id": "b28597ee",
   "metadata": {},
   "outputs": [],
   "source": []
  }
 ],
 "metadata": {
  "kernelspec": {
   "display_name": "Python 3 (ipykernel)",
   "language": "python",
   "name": "python3"
  },
  "language_info": {
   "codemirror_mode": {
    "name": "ipython",
    "version": 3
   },
   "file_extension": ".py",
   "mimetype": "text/x-python",
   "name": "python",
   "nbconvert_exporter": "python",
   "pygments_lexer": "ipython3",
   "version": "3.10.12"
  }
 },
 "nbformat": 4,
 "nbformat_minor": 5
}
