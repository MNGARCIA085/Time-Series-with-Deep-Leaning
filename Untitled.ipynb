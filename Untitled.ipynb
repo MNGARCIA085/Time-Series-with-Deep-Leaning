{
 "cells": [
  {
   "cell_type": "code",
   "execution_count": null,
   "id": "61b5cd59-cea6-4f03-8a22-ebbbe27b7c29",
   "metadata": {},
   "outputs": [],
   "source": []
  },
  {
   "cell_type": "code",
   "execution_count": null,
   "id": "96186811-491e-48b0-b3ed-d402c609b995",
   "metadata": {},
   "outputs": [],
   "source": []
  },
  {
   "cell_type": "code",
   "execution_count": 8,
   "id": "6f7eaf57-a52c-401d-bd3b-744e6df4641e",
   "metadata": {},
   "outputs": [
    {
     "name": "stdout",
     "output_type": "stream",
     "text": [
      "\n",
      "interface 10.10.10.1\n",
      "\tdescription \"Link to Main router\"\n",
      "\tip address 10.10.10.1/24\n",
      "\n"
     ]
    }
   ],
   "source": [
    "from string import Template\n",
    "\n",
    "template = Template(\"\"\"\n",
    "interface $ip\n",
    "\\tdescription \"Link to $desc\"\n",
    "\\tip address $ip/24\n",
    "\"\"\")\n",
    "\n",
    "data = {\n",
    "    \"ip\": \"10.10.10.1\",\n",
    "    \"desc\": \"Main router\"\n",
    "}\n",
    "\n",
    "result = template.substitute(data)\n",
    "print(result)\n"
   ]
  },
  {
   "cell_type": "code",
   "execution_count": null,
   "id": "badcd238-897b-4f0b-ab6f-ab9c5e96597d",
   "metadata": {},
   "outputs": [],
   "source": []
  }
 ],
 "metadata": {
  "kernelspec": {
   "display_name": "Python 3 (ipykernel)",
   "language": "python",
   "name": "python3"
  },
  "language_info": {
   "codemirror_mode": {
    "name": "ipython",
    "version": 3
   },
   "file_extension": ".py",
   "mimetype": "text/x-python",
   "name": "python",
   "nbconvert_exporter": "python",
   "pygments_lexer": "ipython3",
   "version": "3.10.12"
  }
 },
 "nbformat": 4,
 "nbformat_minor": 5
}
